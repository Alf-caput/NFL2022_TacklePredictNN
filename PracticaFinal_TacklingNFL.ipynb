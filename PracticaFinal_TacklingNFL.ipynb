{
  "cells": [
    {
      "cell_type": "markdown",
      "metadata": {
        "colab_type": "text",
        "id": "view-in-github"
      },
      "source": [
        "<a href=\"https://colab.research.google.com/github/Alf-caput/NFL2022_TacklePredictNN/blob/dev2/PracticaFinal_TacklingNFL.ipynb\" target=\"_parent\"><img src=\"https://colab.research.google.com/assets/colab-badge.svg\" alt=\"Open In Colab\"/></a>"
      ]
    },
    {
      "cell_type": "code",
      "execution_count": 1,
      "metadata": {
        "colab": {
          "base_uri": "https://localhost:8080/",
          "height": 105
        },
        "id": "VkGAGUxCQnyC",
        "outputId": "eb581d7e-a52b-45b4-e06c-cb0301fc0d37"
      },
      "outputs": [
        {
          "name": "stderr",
          "output_type": "stream",
          "text": [
            "Downloading...\n",
            "From (uriginal): https://drive.google.com/uc?id=1V_fIjH-WGHTVgyRkdNFkZ6XxiqDoaMrA\n",
            "From (redirected): https://drive.google.com/uc?id=1V_fIjH-WGHTVgyRkdNFkZ6XxiqDoaMrA&confirm=t&uuid=05383552-56b9-41f5-8af3-29e2cf5cec41\n",
            "To: c:\\Users\\alfre\\Desktop\\Utils\\NFL2022_TacklePredictNN\\nfl-big-data-bowl-2024.zip\n",
            "100%|██████████| 293M/293M [00:15<00:00, 18.8MB/s] \n"
          ]
        },
        {
          "data": {
            "text/plain": [
              "'nfl-big-data-bowl-2024.zip'"
            ]
          },
          "execution_count": 1,
          "metadata": {},
          "output_type": "execute_result"
        }
      ],
      "source": [
        "import gdown\n",
        "\n",
        "id = '1V_fIjH-WGHTVgyRkdNFkZ6XxiqDoaMrA'\n",
        "folder = 'nfl-big-data-bowl-2024'\n",
        "endpoint = '.zip'\n",
        "\n",
        "url = f'https://drive.google.com/uc?id={id}'\n",
        "\n",
        "output = folder + endpoint\n",
        "\n",
        "gdown.download(url, output, quiet=False)"
      ]
    },
    {
      "cell_type": "code",
      "execution_count": 2,
      "metadata": {
        "id": "rJT6exvHSFAS"
      },
      "outputs": [],
      "source": [
        "from zipfile import ZipFile\n",
        "\n",
        "with ZipFile(output, 'r') as zObject:\n",
        "\tzObject.extractall(folder)"
      ]
    },
    {
      "cell_type": "code",
      "execution_count": 3,
      "metadata": {
        "id": "mleY-CvVkyVY"
      },
      "outputs": [],
      "source": [
        "import pandas as pd\n",
        "import os\n",
        "\n",
        "csv_files = [file for file in os.listdir(folder) if file.endswith('.csv')]\n",
        "csv_files.sort()"
      ]
    },
    {
      "cell_type": "code",
      "execution_count": 4,
      "metadata": {
        "colab": {
          "base_uri": "https://localhost:8080/"
        },
        "id": "4QJSYktsIFGO",
        "outputId": "25ac0a29-fc1e-4021-9292-79969ebdf803"
      },
      "outputs": [
        {
          "name": "stdout",
          "output_type": "stream",
          "text": [
            "['games.csv', 'players.csv', 'plays.csv', 'tackles.csv', 'tracking_week_1.csv', 'tracking_week_2.csv', 'tracking_week_3.csv', 'tracking_week_4.csv', 'tracking_week_5.csv', 'tracking_week_6.csv', 'tracking_week_7.csv', 'tracking_week_8.csv', 'tracking_week_9.csv']\n"
          ]
        }
      ],
      "source": [
        "print(csv_files)"
      ]
    },
    {
      "cell_type": "markdown",
      "metadata": {
        "id": "pNV-NWMmOxP7"
      },
      "source": [
        "Dentro de la carpeta nfl-big-data-bowl-2024 se encuentran los csv que utilizaremos, a continuación creamos un diccionario para facilitarnos el acceso a los diferentes dataframes (dfs)."
      ]
    },
    {
      "cell_type": "code",
      "execution_count": 5,
      "metadata": {
        "id": "5Pcf_MBaIGpB"
      },
      "outputs": [],
      "source": [
        "dfs = {os.path.splitext(file)[0]: pd.read_csv(os.path.join(folder, file)) for file in csv_files}"
      ]
    },
    {
      "cell_type": "code",
      "execution_count": 6,
      "metadata": {
        "colab": {
          "base_uri": "https://localhost:8080/",
          "height": 163
        },
        "id": "d2l5rgKeKXbt",
        "outputId": "d7bbe9f3-6528-4ea3-d1eb-18234be6e632"
      },
      "outputs": [
        {
          "data": {
            "text/html": [
              "<div>\n",
              "<style scoped>\n",
              "    .dataframe tbody tr th:only-of-type {\n",
              "        vertical-align: middle;\n",
              "    }\n",
              "\n",
              "    .dataframe tbody tr th {\n",
              "        vertical-align: top;\n",
              "    }\n",
              "\n",
              "    .dataframe thead th {\n",
              "        text-align: right;\n",
              "    }\n",
              "</style>\n",
              "<table border=\"1\" class=\"dataframe\">\n",
              "  <thead>\n",
              "    <tr style=\"text-align: right;\">\n",
              "      <th></th>\n",
              "      <th>gameId</th>\n",
              "      <th>season</th>\n",
              "      <th>week</th>\n",
              "      <th>gameDate</th>\n",
              "      <th>gameTimeEastern</th>\n",
              "      <th>homeTeamAbbr</th>\n",
              "      <th>visitorTeamAbbr</th>\n",
              "      <th>homeFinalScore</th>\n",
              "      <th>visitorFinalScore</th>\n",
              "    </tr>\n",
              "  </thead>\n",
              "  <tbody>\n",
              "    <tr>\n",
              "      <th>0</th>\n",
              "      <td>2022090800</td>\n",
              "      <td>2022</td>\n",
              "      <td>1</td>\n",
              "      <td>09/08/2022</td>\n",
              "      <td>20:20:00</td>\n",
              "      <td>LA</td>\n",
              "      <td>BUF</td>\n",
              "      <td>10</td>\n",
              "      <td>31</td>\n",
              "    </tr>\n",
              "    <tr>\n",
              "      <th>1</th>\n",
              "      <td>2022091100</td>\n",
              "      <td>2022</td>\n",
              "      <td>1</td>\n",
              "      <td>09/11/2022</td>\n",
              "      <td>13:00:00</td>\n",
              "      <td>ATL</td>\n",
              "      <td>NO</td>\n",
              "      <td>26</td>\n",
              "      <td>27</td>\n",
              "    </tr>\n",
              "    <tr>\n",
              "      <th>2</th>\n",
              "      <td>2022091101</td>\n",
              "      <td>2022</td>\n",
              "      <td>1</td>\n",
              "      <td>09/11/2022</td>\n",
              "      <td>13:00:00</td>\n",
              "      <td>CAR</td>\n",
              "      <td>CLE</td>\n",
              "      <td>24</td>\n",
              "      <td>26</td>\n",
              "    </tr>\n",
              "  </tbody>\n",
              "</table>\n",
              "</div>"
            ],
            "text/plain": [
              "       gameId  season  week    gameDate gameTimeEastern homeTeamAbbr  \\\n",
              "0  2022090800    2022     1  09/08/2022        20:20:00           LA   \n",
              "1  2022091100    2022     1  09/11/2022        13:00:00          ATL   \n",
              "2  2022091101    2022     1  09/11/2022        13:00:00          CAR   \n",
              "\n",
              "  visitorTeamAbbr  homeFinalScore  visitorFinalScore  \n",
              "0             BUF              10                 31  \n",
              "1              NO              26                 27  \n",
              "2             CLE              24                 26  "
            ]
          },
          "execution_count": 6,
          "metadata": {},
          "output_type": "execute_result"
        }
      ],
      "source": [
        "dfs['games'].head(3)"
      ]
    },
    {
      "cell_type": "code",
      "execution_count": null,
      "metadata": {
        "id": "DL5ZOtppPKwS"
      },
      "outputs": [],
      "source": []
    }
  ],
  "metadata": {
    "accelerator": "GPU",
    "colab": {
      "authorship_tag": "ABX9TyNv6Wv0w3wvQxwg5wLftuGR",
      "gpuType": "T4",
      "include_colab_link": true,
      "provenance": []
    },
    "kernelspec": {
      "display_name": "Python 3",
      "name": "python3"
    },
    "language_info": {
      "codemirror_mode": {
        "name": "ipython",
        "version": 3
      },
      "file_extension": ".py",
      "mimetype": "text/x-python",
      "name": "python",
      "nbconvert_exporter": "python",
      "pygments_lexer": "ipython3",
      "version": "3.11.4"
    }
  },
  "nbformat": 4,
  "nbformat_minor": 0
}
