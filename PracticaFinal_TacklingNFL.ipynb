{
  "nbformat": 4,
  "nbformat_minor": 0,
  "metadata": {
    "colab": {
      "provenance": [],
      "gpuType": "T4",
      "authorship_tag": "ABX9TyPKV0AOcEl48XohBfzgwv6/",
      "include_colab_link": true
    },
    "kernelspec": {
      "name": "python3",
      "display_name": "Python 3"
    },
    "language_info": {
      "name": "python"
    },
    "accelerator": "GPU"
  },
  "cells": [
    {
      "cell_type": "markdown",
      "metadata": {
        "id": "view-in-github",
        "colab_type": "text"
      },
      "source": [
        "<a href=\"https://colab.research.google.com/github/Alf-caput/NFL2022_TacklePredictNN/blob/main/PracticaFinal_TacklingNFL.ipynb\" target=\"_parent\"><img src=\"https://colab.research.google.com/assets/colab-badge.svg\" alt=\"Open In Colab\"/></a>"
      ]
    },
    {
      "cell_type": "code",
      "execution_count": 1,
      "metadata": {
        "colab": {
          "base_uri": "https://localhost:8080/",
          "height": 105
        },
        "id": "VkGAGUxCQnyC",
        "outputId": "524a0285-3270-4b2f-fdd1-5ea9f0de73e2"
      },
      "outputs": [
        {
          "output_type": "stream",
          "name": "stderr",
          "text": [
            "Downloading...\n",
            "From: https://drive.google.com/uc?id=1V_fIjH-WGHTVgyRkdNFkZ6XxiqDoaMrA\n",
            "To: /content/nfl-big-data-bowl-2024.zip\n",
            "100%|██████████| 293M/293M [00:06<00:00, 48.4MB/s]\n"
          ]
        },
        {
          "output_type": "execute_result",
          "data": {
            "text/plain": [
              "'nfl-big-data-bowl-2024.zip'"
            ],
            "application/vnd.google.colaboratory.intrinsic+json": {
              "type": "string"
            }
          },
          "metadata": {},
          "execution_count": 1
        }
      ],
      "source": [
        "import gdown\n",
        "\n",
        "file_id = '1V_fIjH-WGHTVgyRkdNFkZ6XxiqDoaMrA'\n",
        "file_name = 'nfl-big-data-bowl-2024'\n",
        "endpoint = '.zip'\n",
        "\n",
        "url = f'https://drive.google.com/uc?id={file_id}'\n",
        "\n",
        "output = file_name + endpoint\n",
        "\n",
        "gdown.download(url, output, quiet=False)"
      ]
    },
    {
      "cell_type": "code",
      "source": [
        "# importing the zipfile module\n",
        "from zipfile import ZipFile\n",
        "\n",
        "# loading the temp.zip and creating a zip object\n",
        "with ZipFile(file_name, 'r') as zObject:\n",
        "\tzObject.extractall(file_name)\n"
      ],
      "metadata": {
        "id": "rJT6exvHSFAS"
      },
      "execution_count": 2,
      "outputs": []
    }
  ]
}