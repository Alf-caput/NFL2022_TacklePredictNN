{
  "cells": [
    {
      "cell_type": "markdown",
      "metadata": {
        "colab_type": "text",
        "id": "view-in-github"
      },
      "source": [
        "<a href=\"https://colab.research.google.com/github/Alf-caput/NFL2022_TacklePredictNN/blob/dev1/no_entrega.ipynb\" target=\"_parent\"><img src=\"https://colab.research.google.com/assets/colab-badge.svg\" alt=\"Open In Colab\"/></a>"
      ]
    },
    {
      "cell_type": "markdown",
      "metadata": {
        "id": "yPzgPycjO7Ud"
      },
      "source": [
        "# NFL Big Data Bowl 2024"
      ]
    },
    {
      "cell_type": "markdown",
      "metadata": {
        "id": "FRst4_BiSAyL"
      },
      "source": [
        "Kaggle lanza el concurso NFL Big Data Bowl 2024 sponsorizado por National Football League con un premio de $100,000.\n",
        "https://www.kaggle.com/c/nfl-big-data-bowl-2024\n",
        "\n",
        "Utilizaremos el dataset propuesto para el concurso en este proyecto"
      ]
    },
    {
      "cell_type": "markdown",
      "metadata": {
        "id": "xgEWUF9yQSFv"
      },
      "source": [
        "## INTRODUCCIÓN"
      ]
    },
    {
      "cell_type": "markdown",
      "metadata": {
        "id": "_SnnP8jVP5Ku"
      },
      "source": [
        "El fútbol americano es un deporte complejo donde la tarea principal de los defensores es derribar al portador del balón, mientras que este último busca avanzar en el campo. El siguiente proyecto tiene como objetivo crear métricas para valorar elementos clave en los placajes.\n",
        "\n",
        "Se utiliza la información de las estadísticas Next Gen de la NFL, incluyendo datos de seguimiento de jugadores de las primeras nueve semanas de la temporada 2022. Estos datos abarcan la ubicación, velocidad y aceleración de los 22 jugadores en el campo, así como la posición del balón. Además, se incorporan datos de evaluación de jugadores de PFF y estadísticas avanzadas de la NFL, como puntos esperados y probabilidad de victoria.\n",
        "\n",
        "La finalidad del proyecto es presentar los resultados a la NFL. Las métricas y análisis destacados podrían ser utilizados por los equipos de la NFL para evaluar a sus jugadores tanto en el ámbito ofensivo como defensivo."
      ]
    },
    {
      "cell_type": "markdown",
      "metadata": {
        "id": "IxlwZ7hJREu9"
      },
      "source": [
        "## OBJETIVO DEL PROYECTO\n",
        "En este proyecto nos proponemos predecir quién será el portador del balón del equipo atacante en una jugada de fútbol americano.\\\n",
        "Esta información es de gran interés para entrenadores y jugadores, que traten de preever y planear estrategias defensivas."
      ]
    },
    {
      "cell_type": "markdown",
      "metadata": {
        "id": "4BtvbycYtdFG"
      },
      "source": [
        "# Descarga del dataset"
      ]
    },
    {
      "cell_type": "markdown",
      "metadata": {
        "id": "R6rpufqBwa7i"
      },
      "source": [
        "Descargamos el dataset que ha sido previamente subido a google drive."
      ]
    },
    {
      "cell_type": "code",
      "execution_count": 1,
      "metadata": {
        "colab": {
          "base_uri": "https://localhost:8080/",
          "height": 105
        },
        "id": "sWtLlXm4O6hO",
        "outputId": "7e33bfa7-e6a9-44bc-f41f-8b0ac798b28d"
      },
      "outputs": [
        {
          "name": "stderr",
          "output_type": "stream",
          "text": [
            "Downloading...\n",
            "From (uriginal): https://drive.google.com/uc?id=1V_fIjH-WGHTVgyRkdNFkZ6XxiqDoaMrA\n",
            "From (redirected): https://drive.google.com/uc?id=1V_fIjH-WGHTVgyRkdNFkZ6XxiqDoaMrA&confirm=t&uuid=19f9e7be-b476-410b-9457-fba59e6a09f8\n",
            "To: c:\\Users\\alfre\\Desktop\\Utils\\NFL2022_TacklePredictNN\\nfl-big-data-bowl-2024.zip\n",
            "100%|██████████| 293M/293M [00:15<00:00, 18.9MB/s] \n"
          ]
        },
        {
          "data": {
            "text/plain": [
              "'nfl-big-data-bowl-2024.zip'"
            ]
          },
          "execution_count": 1,
          "metadata": {},
          "output_type": "execute_result"
        }
      ],
      "source": [
        "import gdown\n",
        "\n",
        "id = '1V_fIjH-WGHTVgyRkdNFkZ6XxiqDoaMrA'\n",
        "folder = 'nfl-big-data-bowl-2024'\n",
        "endpoint = '.zip'\n",
        "\n",
        "url = f'https://drive.google.com/uc?id={id}'\n",
        "\n",
        "output = folder + endpoint\n",
        "\n",
        "gdown.download(url, output, quiet=False)"
      ]
    },
    {
      "cell_type": "markdown",
      "metadata": {
        "id": "Q9mmNH5Uws6D"
      },
      "source": [
        "Descomprimimos la carpeta `nfl-big-data-bowl-2024.zip` que se ha descargado."
      ]
    },
    {
      "cell_type": "code",
      "execution_count": 2,
      "metadata": {
        "id": "3koK5q1RsAuZ"
      },
      "outputs": [],
      "source": [
        "from zipfile import ZipFile\n",
        "\n",
        "with ZipFile(output, 'r') as zObject:\n",
        "\tzObject.extractall(folder)"
      ]
    },
    {
      "cell_type": "markdown",
      "metadata": {
        "id": "jqR4p5jqxAbe"
      },
      "source": [
        "Creamos una lista que contiene cada archivo `.csv` de la carpeta ya descomprimida y la ordenamos."
      ]
    },
    {
      "cell_type": "code",
      "execution_count": 3,
      "metadata": {
        "id": "D3JLWPyRsDjp"
      },
      "outputs": [],
      "source": [
        "import pandas as pd\n",
        "import os\n",
        "\n",
        "csv_files = [file for file in os.listdir(folder) if file.endswith('.csv')]\n",
        "csv_files.sort()"
      ]
    },
    {
      "cell_type": "markdown",
      "metadata": {
        "id": "iAuQoKkaxoF1"
      },
      "source": [
        "Dentro de la carpeta `nfl-big-data-bowl-2024` se encuentran los csv que utilizaremos."
      ]
    },
    {
      "cell_type": "code",
      "execution_count": 4,
      "metadata": {
        "colab": {
          "base_uri": "https://localhost:8080/"
        },
        "id": "JLbKlDH7sFFW",
        "outputId": "e6ab00a8-d27c-499f-acfc-ce363c3d2afa"
      },
      "outputs": [
        {
          "name": "stdout",
          "output_type": "stream",
          "text": [
            "['games.csv', 'players.csv', 'plays.csv', 'tackles.csv', 'tracking_week_1.csv', 'tracking_week_2.csv', 'tracking_week_3.csv', 'tracking_week_4.csv', 'tracking_week_5.csv', 'tracking_week_6.csv', 'tracking_week_7.csv', 'tracking_week_8.csv', 'tracking_week_9.csv']\n"
          ]
        }
      ],
      "source": [
        "print(csv_files)"
      ]
    },
    {
      "cell_type": "markdown",
      "metadata": {
        "id": "90Gd5LfYsGp5"
      },
      "source": [
        "A continuación creamos un diccionario para facilitarnos el acceso a los diferentes dataframes (dfs)."
      ]
    },
    {
      "cell_type": "code",
      "execution_count": 5,
      "metadata": {
        "id": "rEuqgyUDsHI7"
      },
      "outputs": [],
      "source": [
        "if 'dfs' not in locals(): # Si ya se ha creado, no se volverá a crear\n",
        "  dfs = {os.path.splitext(file)[0]: pd.read_csv(os.path.join(folder, file)) for file in csv_files}"
      ]
    },
    {
      "cell_type": "markdown",
      "metadata": {
        "id": "KfKORcBQy-tz"
      },
      "source": [
        "En el diccionario, si especificamos la clave \"`games`\" obtenemos el contenido del csv."
      ]
    },
    {
      "cell_type": "markdown",
      "metadata": {
        "id": "2sDNuJhv-5CO"
      },
      "source": [
        "# Estudio previo de los datos. Ejemplo frame de una jugada"
      ]
    },
    {
      "cell_type": "markdown",
      "metadata": {
        "id": "6hlqaqKw_bPB"
      },
      "source": [
        "Tenemos varios dataframes que vamos a analizar para ver qué enfoque dar a los datos de entrada y de salida de la red neuronal.\n",
        "\n",
        "Nota: Ya que la cantidad de datos en cada tabla impresa es bastante grande, usamos `.head(3)` para mostrar solamente las 3 primeras filas."
      ]
    },
    {
      "cell_type": "markdown",
      "metadata": {
        "id": "RgJCkrp9AUfr"
      },
      "source": [
        "- Resultados de partidos"
      ]
    },
    {
      "cell_type": "code",
      "execution_count": 6,
      "metadata": {
        "colab": {
          "base_uri": "https://localhost:8080/",
          "height": 143
        },
        "id": "99TojL1JsI3h",
        "outputId": "d578251b-da62-43fb-d480-b3f03950dd79"
      },
      "outputs": [
        {
          "data": {
            "text/html": [
              "<div>\n",
              "<style scoped>\n",
              "    .dataframe tbody tr th:only-of-type {\n",
              "        vertical-align: middle;\n",
              "    }\n",
              "\n",
              "    .dataframe tbody tr th {\n",
              "        vertical-align: top;\n",
              "    }\n",
              "\n",
              "    .dataframe thead th {\n",
              "        text-align: right;\n",
              "    }\n",
              "</style>\n",
              "<table border=\"1\" class=\"dataframe\">\n",
              "  <thead>\n",
              "    <tr style=\"text-align: right;\">\n",
              "      <th></th>\n",
              "      <th>gameId</th>\n",
              "      <th>season</th>\n",
              "      <th>week</th>\n",
              "      <th>gameDate</th>\n",
              "      <th>gameTimeEastern</th>\n",
              "      <th>homeTeamAbbr</th>\n",
              "      <th>visitorTeamAbbr</th>\n",
              "      <th>homeFinalScore</th>\n",
              "      <th>visitorFinalScore</th>\n",
              "    </tr>\n",
              "  </thead>\n",
              "  <tbody>\n",
              "    <tr>\n",
              "      <th>0</th>\n",
              "      <td>2022090800</td>\n",
              "      <td>2022</td>\n",
              "      <td>1</td>\n",
              "      <td>09/08/2022</td>\n",
              "      <td>20:20:00</td>\n",
              "      <td>LA</td>\n",
              "      <td>BUF</td>\n",
              "      <td>10</td>\n",
              "      <td>31</td>\n",
              "    </tr>\n",
              "    <tr>\n",
              "      <th>1</th>\n",
              "      <td>2022091100</td>\n",
              "      <td>2022</td>\n",
              "      <td>1</td>\n",
              "      <td>09/11/2022</td>\n",
              "      <td>13:00:00</td>\n",
              "      <td>ATL</td>\n",
              "      <td>NO</td>\n",
              "      <td>26</td>\n",
              "      <td>27</td>\n",
              "    </tr>\n",
              "    <tr>\n",
              "      <th>2</th>\n",
              "      <td>2022091101</td>\n",
              "      <td>2022</td>\n",
              "      <td>1</td>\n",
              "      <td>09/11/2022</td>\n",
              "      <td>13:00:00</td>\n",
              "      <td>CAR</td>\n",
              "      <td>CLE</td>\n",
              "      <td>24</td>\n",
              "      <td>26</td>\n",
              "    </tr>\n",
              "  </tbody>\n",
              "</table>\n",
              "</div>"
            ],
            "text/plain": [
              "       gameId  season  week    gameDate gameTimeEastern homeTeamAbbr  \\\n",
              "0  2022090800    2022     1  09/08/2022        20:20:00           LA   \n",
              "1  2022091100    2022     1  09/11/2022        13:00:00          ATL   \n",
              "2  2022091101    2022     1  09/11/2022        13:00:00          CAR   \n",
              "\n",
              "  visitorTeamAbbr  homeFinalScore  visitorFinalScore  \n",
              "0             BUF              10                 31  \n",
              "1              NO              26                 27  \n",
              "2             CLE              24                 26  "
            ]
          },
          "execution_count": 6,
          "metadata": {},
          "output_type": "execute_result"
        }
      ],
      "source": [
        "dfs['games'].head(3) # para que muestre las 3 primeras filas"
      ]
    },
    {
      "cell_type": "markdown",
      "metadata": {
        "id": "YeOzmaZyzel3"
      },
      "source": [
        "- Datos de seguimiento en la primera semana"
      ]
    },
    {
      "cell_type": "code",
      "execution_count": 7,
      "metadata": {
        "colab": {
          "base_uri": "https://localhost:8080/",
          "height": 143
        },
        "id": "mvyl9EcOsKP_",
        "outputId": "31e3fca3-3603-44d8-c910-f7def789141b"
      },
      "outputs": [
        {
          "data": {
            "text/html": [
              "<div>\n",
              "<style scoped>\n",
              "    .dataframe tbody tr th:only-of-type {\n",
              "        vertical-align: middle;\n",
              "    }\n",
              "\n",
              "    .dataframe tbody tr th {\n",
              "        vertical-align: top;\n",
              "    }\n",
              "\n",
              "    .dataframe thead th {\n",
              "        text-align: right;\n",
              "    }\n",
              "</style>\n",
              "<table border=\"1\" class=\"dataframe\">\n",
              "  <thead>\n",
              "    <tr style=\"text-align: right;\">\n",
              "      <th></th>\n",
              "      <th>gameId</th>\n",
              "      <th>playId</th>\n",
              "      <th>nflId</th>\n",
              "      <th>displayName</th>\n",
              "      <th>frameId</th>\n",
              "      <th>time</th>\n",
              "      <th>jerseyNumber</th>\n",
              "      <th>club</th>\n",
              "      <th>playDirection</th>\n",
              "      <th>x</th>\n",
              "      <th>y</th>\n",
              "      <th>s</th>\n",
              "      <th>a</th>\n",
              "      <th>dis</th>\n",
              "      <th>o</th>\n",
              "      <th>dir</th>\n",
              "      <th>event</th>\n",
              "    </tr>\n",
              "  </thead>\n",
              "  <tbody>\n",
              "    <tr>\n",
              "      <th>0</th>\n",
              "      <td>2022090800</td>\n",
              "      <td>56</td>\n",
              "      <td>35472.0</td>\n",
              "      <td>Rodger Saffold</td>\n",
              "      <td>1</td>\n",
              "      <td>2022-09-08 20:24:05.200000</td>\n",
              "      <td>76.0</td>\n",
              "      <td>BUF</td>\n",
              "      <td>left</td>\n",
              "      <td>88.37</td>\n",
              "      <td>27.27</td>\n",
              "      <td>1.62</td>\n",
              "      <td>1.15</td>\n",
              "      <td>0.16</td>\n",
              "      <td>231.74</td>\n",
              "      <td>147.90</td>\n",
              "      <td>NaN</td>\n",
              "    </tr>\n",
              "    <tr>\n",
              "      <th>1</th>\n",
              "      <td>2022090800</td>\n",
              "      <td>56</td>\n",
              "      <td>35472.0</td>\n",
              "      <td>Rodger Saffold</td>\n",
              "      <td>2</td>\n",
              "      <td>2022-09-08 20:24:05.299999</td>\n",
              "      <td>76.0</td>\n",
              "      <td>BUF</td>\n",
              "      <td>left</td>\n",
              "      <td>88.47</td>\n",
              "      <td>27.13</td>\n",
              "      <td>1.67</td>\n",
              "      <td>0.61</td>\n",
              "      <td>0.17</td>\n",
              "      <td>230.98</td>\n",
              "      <td>148.53</td>\n",
              "      <td>pass_arrived</td>\n",
              "    </tr>\n",
              "    <tr>\n",
              "      <th>2</th>\n",
              "      <td>2022090800</td>\n",
              "      <td>56</td>\n",
              "      <td>35472.0</td>\n",
              "      <td>Rodger Saffold</td>\n",
              "      <td>3</td>\n",
              "      <td>2022-09-08 20:24:05.400000</td>\n",
              "      <td>76.0</td>\n",
              "      <td>BUF</td>\n",
              "      <td>left</td>\n",
              "      <td>88.56</td>\n",
              "      <td>27.01</td>\n",
              "      <td>1.57</td>\n",
              "      <td>0.49</td>\n",
              "      <td>0.15</td>\n",
              "      <td>230.98</td>\n",
              "      <td>147.05</td>\n",
              "      <td>NaN</td>\n",
              "    </tr>\n",
              "  </tbody>\n",
              "</table>\n",
              "</div>"
            ],
            "text/plain": [
              "       gameId  playId    nflId     displayName  frameId  \\\n",
              "0  2022090800      56  35472.0  Rodger Saffold        1   \n",
              "1  2022090800      56  35472.0  Rodger Saffold        2   \n",
              "2  2022090800      56  35472.0  Rodger Saffold        3   \n",
              "\n",
              "                         time  jerseyNumber club playDirection      x      y  \\\n",
              "0  2022-09-08 20:24:05.200000          76.0  BUF          left  88.37  27.27   \n",
              "1  2022-09-08 20:24:05.299999          76.0  BUF          left  88.47  27.13   \n",
              "2  2022-09-08 20:24:05.400000          76.0  BUF          left  88.56  27.01   \n",
              "\n",
              "      s     a   dis       o     dir         event  \n",
              "0  1.62  1.15  0.16  231.74  147.90           NaN  \n",
              "1  1.67  0.61  0.17  230.98  148.53  pass_arrived  \n",
              "2  1.57  0.49  0.15  230.98  147.05           NaN  "
            ]
          },
          "execution_count": 7,
          "metadata": {},
          "output_type": "execute_result"
        }
      ],
      "source": [
        "dfs['tracking_week_1'].head(3)"
      ]
    },
    {
      "cell_type": "markdown",
      "metadata": {
        "id": "ExiaMpJ2AtcS"
      },
      "source": [
        "- Datos de las jugadas realizadas"
      ]
    },
    {
      "cell_type": "code",
      "execution_count": 8,
      "metadata": {
        "colab": {
          "base_uri": "https://localhost:8080/",
          "height": 297
        },
        "id": "BGQK4RAMtSs0",
        "outputId": "ed47cce4-eebd-46ef-b072-7f6775657fc1"
      },
      "outputs": [
        {
          "data": {
            "text/html": [
              "<div>\n",
              "<style scoped>\n",
              "    .dataframe tbody tr th:only-of-type {\n",
              "        vertical-align: middle;\n",
              "    }\n",
              "\n",
              "    .dataframe tbody tr th {\n",
              "        vertical-align: top;\n",
              "    }\n",
              "\n",
              "    .dataframe thead th {\n",
              "        text-align: right;\n",
              "    }\n",
              "</style>\n",
              "<table border=\"1\" class=\"dataframe\">\n",
              "  <thead>\n",
              "    <tr style=\"text-align: right;\">\n",
              "      <th></th>\n",
              "      <th>gameId</th>\n",
              "      <th>playId</th>\n",
              "      <th>ballCarrierId</th>\n",
              "      <th>ballCarrierDisplayName</th>\n",
              "      <th>playDescription</th>\n",
              "      <th>quarter</th>\n",
              "      <th>down</th>\n",
              "      <th>yardsToGo</th>\n",
              "      <th>possessionTeam</th>\n",
              "      <th>defensiveTeam</th>\n",
              "      <th>...</th>\n",
              "      <th>preSnapHomeTeamWinProbability</th>\n",
              "      <th>preSnapVisitorTeamWinProbability</th>\n",
              "      <th>homeTeamWinProbabilityAdded</th>\n",
              "      <th>visitorTeamWinProbilityAdded</th>\n",
              "      <th>expectedPoints</th>\n",
              "      <th>expectedPointsAdded</th>\n",
              "      <th>foulName1</th>\n",
              "      <th>foulName2</th>\n",
              "      <th>foulNFLId1</th>\n",
              "      <th>foulNFLId2</th>\n",
              "    </tr>\n",
              "  </thead>\n",
              "  <tbody>\n",
              "    <tr>\n",
              "      <th>0</th>\n",
              "      <td>2022100908</td>\n",
              "      <td>3537</td>\n",
              "      <td>48723</td>\n",
              "      <td>Parker Hesse</td>\n",
              "      <td>(7:52) (Shotgun) M.Mariota pass short middle t...</td>\n",
              "      <td>4</td>\n",
              "      <td>1</td>\n",
              "      <td>10</td>\n",
              "      <td>ATL</td>\n",
              "      <td>TB</td>\n",
              "      <td>...</td>\n",
              "      <td>0.976785</td>\n",
              "      <td>0.023215</td>\n",
              "      <td>-0.006110</td>\n",
              "      <td>0.006110</td>\n",
              "      <td>2.360609</td>\n",
              "      <td>0.981955</td>\n",
              "      <td>NaN</td>\n",
              "      <td>NaN</td>\n",
              "      <td>NaN</td>\n",
              "      <td>NaN</td>\n",
              "    </tr>\n",
              "    <tr>\n",
              "      <th>1</th>\n",
              "      <td>2022091103</td>\n",
              "      <td>3126</td>\n",
              "      <td>52457</td>\n",
              "      <td>Chase Claypool</td>\n",
              "      <td>(7:38) (Shotgun) C.Claypool right end to PIT 3...</td>\n",
              "      <td>4</td>\n",
              "      <td>1</td>\n",
              "      <td>10</td>\n",
              "      <td>PIT</td>\n",
              "      <td>CIN</td>\n",
              "      <td>...</td>\n",
              "      <td>0.160485</td>\n",
              "      <td>0.839515</td>\n",
              "      <td>-0.010865</td>\n",
              "      <td>0.010865</td>\n",
              "      <td>1.733344</td>\n",
              "      <td>-0.263424</td>\n",
              "      <td>NaN</td>\n",
              "      <td>NaN</td>\n",
              "      <td>NaN</td>\n",
              "      <td>NaN</td>\n",
              "    </tr>\n",
              "    <tr>\n",
              "      <th>2</th>\n",
              "      <td>2022091111</td>\n",
              "      <td>1148</td>\n",
              "      <td>42547</td>\n",
              "      <td>Darren Waller</td>\n",
              "      <td>(8:57) D.Carr pass short middle to D.Waller to...</td>\n",
              "      <td>2</td>\n",
              "      <td>2</td>\n",
              "      <td>5</td>\n",
              "      <td>LV</td>\n",
              "      <td>LAC</td>\n",
              "      <td>...</td>\n",
              "      <td>0.756661</td>\n",
              "      <td>0.243339</td>\n",
              "      <td>-0.037409</td>\n",
              "      <td>0.037409</td>\n",
              "      <td>1.312855</td>\n",
              "      <td>1.133666</td>\n",
              "      <td>NaN</td>\n",
              "      <td>NaN</td>\n",
              "      <td>NaN</td>\n",
              "      <td>NaN</td>\n",
              "    </tr>\n",
              "  </tbody>\n",
              "</table>\n",
              "<p>3 rows × 35 columns</p>\n",
              "</div>"
            ],
            "text/plain": [
              "       gameId  playId  ballCarrierId ballCarrierDisplayName  \\\n",
              "0  2022100908    3537          48723           Parker Hesse   \n",
              "1  2022091103    3126          52457         Chase Claypool   \n",
              "2  2022091111    1148          42547          Darren Waller   \n",
              "\n",
              "                                     playDescription  quarter  down  \\\n",
              "0  (7:52) (Shotgun) M.Mariota pass short middle t...        4     1   \n",
              "1  (7:38) (Shotgun) C.Claypool right end to PIT 3...        4     1   \n",
              "2  (8:57) D.Carr pass short middle to D.Waller to...        2     2   \n",
              "\n",
              "   yardsToGo possessionTeam defensiveTeam  ... preSnapHomeTeamWinProbability  \\\n",
              "0         10            ATL            TB  ...                      0.976785   \n",
              "1         10            PIT           CIN  ...                      0.160485   \n",
              "2          5             LV           LAC  ...                      0.756661   \n",
              "\n",
              "   preSnapVisitorTeamWinProbability homeTeamWinProbabilityAdded  \\\n",
              "0                          0.023215                   -0.006110   \n",
              "1                          0.839515                   -0.010865   \n",
              "2                          0.243339                   -0.037409   \n",
              "\n",
              "   visitorTeamWinProbilityAdded  expectedPoints expectedPointsAdded  \\\n",
              "0                      0.006110        2.360609            0.981955   \n",
              "1                      0.010865        1.733344           -0.263424   \n",
              "2                      0.037409        1.312855            1.133666   \n",
              "\n",
              "   foulName1  foulName2  foulNFLId1  foulNFLId2  \n",
              "0        NaN        NaN         NaN         NaN  \n",
              "1        NaN        NaN         NaN         NaN  \n",
              "2        NaN        NaN         NaN         NaN  \n",
              "\n",
              "[3 rows x 35 columns]"
            ]
          },
          "execution_count": 8,
          "metadata": {},
          "output_type": "execute_result"
        }
      ],
      "source": [
        "dfs['plays'].head(3)"
      ]
    },
    {
      "cell_type": "markdown",
      "metadata": {
        "id": "_AM--eaN056p"
      },
      "source": [
        "Queremos crear una única tabla con los ids (`gameId`) y los datos de entrenamiento de la primera semana (`tracking_week_1`)"
      ]
    },
    {
      "cell_type": "code",
      "execution_count": 9,
      "metadata": {
        "id": "HqYnUG5PsOZ_"
      },
      "outputs": [],
      "source": [
        "game_ids = dfs['tracking_week_1']['gameId'].unique()"
      ]
    },
    {
      "cell_type": "code",
      "execution_count": 10,
      "metadata": {
        "colab": {
          "base_uri": "https://localhost:8080/",
          "height": 143
        },
        "id": "5hx9wMbSsP4m",
        "outputId": "f90b53f1-100b-42f9-92f8-10d13179b532"
      },
      "outputs": [
        {
          "data": {
            "text/html": [
              "<div>\n",
              "<style scoped>\n",
              "    .dataframe tbody tr th:only-of-type {\n",
              "        vertical-align: middle;\n",
              "    }\n",
              "\n",
              "    .dataframe tbody tr th {\n",
              "        vertical-align: top;\n",
              "    }\n",
              "\n",
              "    .dataframe thead th {\n",
              "        text-align: right;\n",
              "    }\n",
              "</style>\n",
              "<table border=\"1\" class=\"dataframe\">\n",
              "  <thead>\n",
              "    <tr style=\"text-align: right;\">\n",
              "      <th></th>\n",
              "      <th>gameId</th>\n",
              "      <th>playId</th>\n",
              "      <th>nflId</th>\n",
              "      <th>displayName</th>\n",
              "      <th>frameId</th>\n",
              "      <th>time</th>\n",
              "      <th>jerseyNumber</th>\n",
              "      <th>club</th>\n",
              "      <th>playDirection</th>\n",
              "      <th>x</th>\n",
              "      <th>y</th>\n",
              "      <th>s</th>\n",
              "      <th>a</th>\n",
              "      <th>dis</th>\n",
              "      <th>o</th>\n",
              "      <th>dir</th>\n",
              "      <th>event</th>\n",
              "    </tr>\n",
              "  </thead>\n",
              "  <tbody>\n",
              "    <tr>\n",
              "      <th>0</th>\n",
              "      <td>2022090800</td>\n",
              "      <td>56</td>\n",
              "      <td>35472.0</td>\n",
              "      <td>Rodger Saffold</td>\n",
              "      <td>1</td>\n",
              "      <td>2022-09-08 20:24:05.200000</td>\n",
              "      <td>76.0</td>\n",
              "      <td>BUF</td>\n",
              "      <td>left</td>\n",
              "      <td>88.37</td>\n",
              "      <td>27.27</td>\n",
              "      <td>1.62</td>\n",
              "      <td>1.15</td>\n",
              "      <td>0.16</td>\n",
              "      <td>231.74</td>\n",
              "      <td>147.90</td>\n",
              "      <td>NaN</td>\n",
              "    </tr>\n",
              "    <tr>\n",
              "      <th>1</th>\n",
              "      <td>2022090800</td>\n",
              "      <td>56</td>\n",
              "      <td>35472.0</td>\n",
              "      <td>Rodger Saffold</td>\n",
              "      <td>2</td>\n",
              "      <td>2022-09-08 20:24:05.299999</td>\n",
              "      <td>76.0</td>\n",
              "      <td>BUF</td>\n",
              "      <td>left</td>\n",
              "      <td>88.47</td>\n",
              "      <td>27.13</td>\n",
              "      <td>1.67</td>\n",
              "      <td>0.61</td>\n",
              "      <td>0.17</td>\n",
              "      <td>230.98</td>\n",
              "      <td>148.53</td>\n",
              "      <td>pass_arrived</td>\n",
              "    </tr>\n",
              "    <tr>\n",
              "      <th>2</th>\n",
              "      <td>2022090800</td>\n",
              "      <td>56</td>\n",
              "      <td>35472.0</td>\n",
              "      <td>Rodger Saffold</td>\n",
              "      <td>3</td>\n",
              "      <td>2022-09-08 20:24:05.400000</td>\n",
              "      <td>76.0</td>\n",
              "      <td>BUF</td>\n",
              "      <td>left</td>\n",
              "      <td>88.56</td>\n",
              "      <td>27.01</td>\n",
              "      <td>1.57</td>\n",
              "      <td>0.49</td>\n",
              "      <td>0.15</td>\n",
              "      <td>230.98</td>\n",
              "      <td>147.05</td>\n",
              "      <td>NaN</td>\n",
              "    </tr>\n",
              "  </tbody>\n",
              "</table>\n",
              "</div>"
            ],
            "text/plain": [
              "       gameId  playId    nflId     displayName  frameId  \\\n",
              "0  2022090800      56  35472.0  Rodger Saffold        1   \n",
              "1  2022090800      56  35472.0  Rodger Saffold        2   \n",
              "2  2022090800      56  35472.0  Rodger Saffold        3   \n",
              "\n",
              "                         time  jerseyNumber club playDirection      x      y  \\\n",
              "0  2022-09-08 20:24:05.200000          76.0  BUF          left  88.37  27.27   \n",
              "1  2022-09-08 20:24:05.299999          76.0  BUF          left  88.47  27.13   \n",
              "2  2022-09-08 20:24:05.400000          76.0  BUF          left  88.56  27.01   \n",
              "\n",
              "      s     a   dis       o     dir         event  \n",
              "0  1.62  1.15  0.16  231.74  147.90           NaN  \n",
              "1  1.67  0.61  0.17  230.98  148.53  pass_arrived  \n",
              "2  1.57  0.49  0.15  230.98  147.05           NaN  "
            ]
          },
          "execution_count": 10,
          "metadata": {},
          "output_type": "execute_result"
        }
      ],
      "source": [
        "df = dfs['tracking_week_1']\n",
        "df[df['gameId'] == game_ids[0]].head(3) # mostramos las 3 primeras entradas del primer partido de la primera semana de entrenamiento"
      ]
    },
    {
      "cell_type": "markdown",
      "metadata": {
        "id": "DlqJ65ZnBsAY"
      },
      "source": [
        "Vamos a obtener un snapshot del primer juego en el primer instante de tiempo y lo vamos a graficar."
      ]
    },
    {
      "cell_type": "code",
      "execution_count": 11,
      "metadata": {
        "colab": {
          "base_uri": "https://localhost:8080/",
          "height": 143
        },
        "id": "VQ9QcDFACK1I",
        "outputId": "ead6fa78-f47a-42bb-e9b9-711a79c38e2d"
      },
      "outputs": [
        {
          "data": {
            "text/html": [
              "<div>\n",
              "<style scoped>\n",
              "    .dataframe tbody tr th:only-of-type {\n",
              "        vertical-align: middle;\n",
              "    }\n",
              "\n",
              "    .dataframe tbody tr th {\n",
              "        vertical-align: top;\n",
              "    }\n",
              "\n",
              "    .dataframe thead th {\n",
              "        text-align: right;\n",
              "    }\n",
              "</style>\n",
              "<table border=\"1\" class=\"dataframe\">\n",
              "  <thead>\n",
              "    <tr style=\"text-align: right;\">\n",
              "      <th></th>\n",
              "      <th>gameId</th>\n",
              "      <th>playId</th>\n",
              "      <th>nflId</th>\n",
              "      <th>displayName</th>\n",
              "      <th>frameId</th>\n",
              "      <th>time</th>\n",
              "      <th>jerseyNumber</th>\n",
              "      <th>club</th>\n",
              "      <th>playDirection</th>\n",
              "      <th>x</th>\n",
              "      <th>y</th>\n",
              "      <th>s</th>\n",
              "      <th>a</th>\n",
              "      <th>dis</th>\n",
              "      <th>o</th>\n",
              "      <th>dir</th>\n",
              "      <th>event</th>\n",
              "    </tr>\n",
              "  </thead>\n",
              "  <tbody>\n",
              "    <tr>\n",
              "      <th>0</th>\n",
              "      <td>2022090800</td>\n",
              "      <td>56</td>\n",
              "      <td>35472.0</td>\n",
              "      <td>Rodger Saffold</td>\n",
              "      <td>1</td>\n",
              "      <td>2022-09-08 20:24:05.200000</td>\n",
              "      <td>76.0</td>\n",
              "      <td>BUF</td>\n",
              "      <td>left</td>\n",
              "      <td>88.37</td>\n",
              "      <td>27.27</td>\n",
              "      <td>1.62</td>\n",
              "      <td>1.15</td>\n",
              "      <td>0.16</td>\n",
              "      <td>231.74</td>\n",
              "      <td>147.90</td>\n",
              "      <td>NaN</td>\n",
              "    </tr>\n",
              "    <tr>\n",
              "      <th>22</th>\n",
              "      <td>2022090800</td>\n",
              "      <td>56</td>\n",
              "      <td>38577.0</td>\n",
              "      <td>Bobby Wagner</td>\n",
              "      <td>1</td>\n",
              "      <td>2022-09-08 20:24:05.200000</td>\n",
              "      <td>45.0</td>\n",
              "      <td>LA</td>\n",
              "      <td>left</td>\n",
              "      <td>78.25</td>\n",
              "      <td>27.53</td>\n",
              "      <td>1.24</td>\n",
              "      <td>3.81</td>\n",
              "      <td>0.11</td>\n",
              "      <td>4.20</td>\n",
              "      <td>331.67</td>\n",
              "      <td>NaN</td>\n",
              "    </tr>\n",
              "    <tr>\n",
              "      <th>44</th>\n",
              "      <td>2022090800</td>\n",
              "      <td>56</td>\n",
              "      <td>41239.0</td>\n",
              "      <td>Aaron Donald</td>\n",
              "      <td>1</td>\n",
              "      <td>2022-09-08 20:24:05.200000</td>\n",
              "      <td>99.0</td>\n",
              "      <td>LA</td>\n",
              "      <td>left</td>\n",
              "      <td>91.08</td>\n",
              "      <td>31.61</td>\n",
              "      <td>3.91</td>\n",
              "      <td>2.34</td>\n",
              "      <td>0.40</td>\n",
              "      <td>168.33</td>\n",
              "      <td>132.02</td>\n",
              "      <td>NaN</td>\n",
              "    </tr>\n",
              "  </tbody>\n",
              "</table>\n",
              "</div>"
            ],
            "text/plain": [
              "        gameId  playId    nflId     displayName  frameId  \\\n",
              "0   2022090800      56  35472.0  Rodger Saffold        1   \n",
              "22  2022090800      56  38577.0    Bobby Wagner        1   \n",
              "44  2022090800      56  41239.0    Aaron Donald        1   \n",
              "\n",
              "                          time  jerseyNumber club playDirection      x      y  \\\n",
              "0   2022-09-08 20:24:05.200000          76.0  BUF          left  88.37  27.27   \n",
              "22  2022-09-08 20:24:05.200000          45.0   LA          left  78.25  27.53   \n",
              "44  2022-09-08 20:24:05.200000          99.0   LA          left  91.08  31.61   \n",
              "\n",
              "       s     a   dis       o     dir event  \n",
              "0   1.62  1.15  0.16  231.74  147.90   NaN  \n",
              "22  1.24  3.81  0.11    4.20  331.67   NaN  \n",
              "44  3.91  2.34  0.40  168.33  132.02   NaN  "
            ]
          },
          "execution_count": 11,
          "metadata": {},
          "output_type": "execute_result"
        }
      ],
      "source": [
        "df = dfs['tracking_week_1']\n",
        "snapshot = df[df['time'] == df['time'][0]]\n",
        "snapshot.head(3)"
      ]
    },
    {
      "cell_type": "markdown",
      "metadata": {
        "id": "fBYaFssAYIyw"
      },
      "source": [
        "# Representación de los datos"
      ]
    },
    {
      "cell_type": "markdown",
      "metadata": {
        "id": "O5WdA8mcFf9_"
      },
      "source": [
        "Para graficar los jugadores en el campo en dicho instante de tiempo usaremos matplotlib."
      ]
    },
    {
      "cell_type": "markdown",
      "metadata": {
        "id": "I-i8hioHOSu-"
      },
      "source": [
        "Organizamos los distintos clubs."
      ]
    },
    {
      "cell_type": "code",
      "execution_count": 12,
      "metadata": {
        "colab": {
          "base_uri": "https://localhost:8080/"
        },
        "id": "bvgrMQNqNRDL",
        "outputId": "ead48fae-632f-44ae-8d24-c1b372d24f2a"
      },
      "outputs": [
        {
          "data": {
            "text/plain": [
              "array(['BUF', 'LA', 'football'], dtype=object)"
            ]
          },
          "execution_count": 12,
          "metadata": {},
          "output_type": "execute_result"
        }
      ],
      "source": [
        "clubs = snapshot['club'].unique()\n",
        "clubs"
      ]
    },
    {
      "cell_type": "markdown",
      "metadata": {
        "id": "C_1-G2hBCnCW"
      },
      "source": [
        "El club 'football' es el del balón."
      ]
    },
    {
      "cell_type": "code",
      "execution_count": 13,
      "metadata": {
        "colab": {
          "base_uri": "https://localhost:8080/",
          "height": 565
        },
        "id": "CHrsRhkiGE_d",
        "outputId": "b9782125-52ef-4e33-b78e-03c15e4a5ea5"
      },
      "outputs": [
        {
          "data": {
            "image/png": "[encoded data removed]",
            "text/plain": [
              "<Figure size 1000x600 with 1 Axes>"
            ]
          },
          "metadata": {},
          "output_type": "display_data"
        }
      ],
      "source": [
        "import matplotlib.pyplot as plt\n",
        "import itertools\n",
        "\n",
        "# Crear el gráfico de dispersión\n",
        "plt.figure(figsize=(10, 6))\n",
        "plt.scatter(snapshot['x'], snapshot['y'], marker='o')\n",
        "\n",
        "# Añadir etiquetas y título\n",
        "plt.xlabel('Coordenada X')\n",
        "plt.ylabel('Coordenada Y')\n",
        "plt.title('Posición inicial de los Jugadores')\n",
        "\n",
        "\n",
        "# Añadir etiquetas para cada punto\n",
        "for i, row in snapshot.iterrows():\n",
        "    if row['club'] == clubs[0]:\n",
        "      color = 'blue'\n",
        "    elif row['club'] == clubs[1]:\n",
        "      color = 'green'\n",
        "    else:\n",
        "      color = 'red'\n",
        "    if color != 'red':\n",
        "      plt.annotate(int(row['jerseyNumber']), (row['x'], row['y']), textcoords=\"offset points\", xytext=(0, 5), ha='center',color=color)\n",
        "    plt.scatter(row['x'], row['y'],color=color)\n",
        "\n",
        "# Mostrar el gráfico\n",
        "plt.show()"
      ]
    },
    {
      "cell_type": "markdown",
      "metadata": {
        "id": "JDsV-1FPSRVA"
      },
      "source": [
        "Se muestra cada equipo en un color y el balón en rojo. Cada jugador tiene un número de jersey."
      ]
    },
    {
      "cell_type": "markdown",
      "metadata": {
        "id": "FOCTPoSoBgv6"
      },
      "source": [
        "Pero lo que nos interesa es ver el ritmo del juego por lo que tomaremos como ejemplo la jugada 56 del primer partido, y representaremos sus frames."
      ]
    },
    {
      "cell_type": "code",
      "execution_count": 14,
      "metadata": {
        "colab": {
          "base_uri": "https://localhost:8080/"
        },
        "id": "ApwkoGJmnP0e",
        "outputId": "6d5e8bf3-c29e-4e26-b649-46bc1fc7b645"
      },
      "outputs": [
        {
          "name": "stderr",
          "output_type": "stream",
          "text": [
            "C:\\Users\\alfre\\AppData\\Local\\Temp\\ipykernel_24940\\314849569.py:1: UserWarning: Boolean Series key will be reindexed to match DataFrame index.\n",
            "  play56_game1 = df[df['playId']==56][df['gameId']==2022090800]\n"
          ]
        }
      ],
      "source": [
        "play56_game1 = df[df['playId']==56][df['gameId']==2022090800]"
      ]
    },
    {
      "cell_type": "markdown",
      "metadata": {
        "id": "bECXgCcQ9YG9"
      },
      "source": [
        "Graficamos los 4 primeros frames de la jugada 56 del primer partido."
      ]
    },
    {
      "cell_type": "code",
      "execution_count": 15,
      "metadata": {
        "colab": {
          "base_uri": "https://localhost:8080/",
          "height": 830
        },
        "id": "K1_GebUp1Uh9",
        "outputId": "2a230e6a-fa6e-4b60-e47c-af9b480fa446"
      },
      "outputs": [
        {
          "data": {
            "image/png": "[encoded data removed]",
            "text/plain": [
              "<Figure size 533x1000 with 4 Axes>"
            ]
          },
          "metadata": {},
          "output_type": "display_data"
        }
      ],
      "source": [
        "import matplotlib.pyplot as plt\n",
        "frames = play56_game1['frameId'].unique() # contamos cuantos frames tiene la jugada 56\n",
        "clubs = play56_game1['club'].unique()     # los equipos del partido (el balón es el equipo 'football')\n",
        "\n",
        "fig, axs = plt.subplots(nrows=4, ncols=1, figsize=(5.33, 10))\n",
        "\n",
        "for frame in df['frameId'].unique()[:4]:\n",
        "  snapshot = play56_game1[play56_game1['frameId'] == frame]\n",
        "  for i, row in snapshot.iterrows():\n",
        "    if row['club'] == clubs[0]:\n",
        "      color = 'blue'\n",
        "    elif row['club'] == clubs[1]:\n",
        "      color = 'red'\n",
        "    else:\n",
        "      color = 'black'\n",
        "    axs[frame-1].scatter(row['x'], row['y'], marker='o', color=color)\n",
        "    plt.xticks(range(0, 110, 10))\n",
        "    plt.yticks([0, 53.3])\n",
        "    axs[frame-1].set_facecolor('green')\n",
        "\n",
        "plt.show()\n"
      ]
    },
    {
      "cell_type": "markdown",
      "metadata": {
        "id": "3oaAqjrcC5Pu"
      },
      "source": [
        "Podríamos graficar todos los frames pero con 4 ya se ve cómo los jugadores y el balón se mueven por el campo.\n",
        "\n",
        "Nota: el campo de juego del fútbol americano tiene 100 yardas de largo y 53.3 de ancho."
      ]
    },
    {
      "cell_type": "markdown",
      "metadata": {
        "id": "2igsgXwWg7hs"
      },
      "source": [
        "# Preparación de los datos"
      ]
    },
    {
      "cell_type": "markdown",
      "metadata": {
        "id": "5kzw7NmjBWCQ"
      },
      "source": [
        "La manera en la que vamos a usar los datos será una matriz, cada entrada consistirá en un frame de una jugada, y la red neuronal debe predecir quién será el portador del balón, jugador clave ya que avanzará en yardas durante la jugada."
      ]
    },
    {
      "cell_type": "markdown",
      "metadata": {
        "id": "aAoes-Y5Zcz0"
      },
      "source": [
        "Concatenamos todos los datos de las semanas de entrenamiento 1-9 y eliminamos algunas columnas innecesarias para la predicción. A este dataframe lo llamamos `ds`."
      ]
    },
    {
      "cell_type": "code",
      "execution_count": 16,
      "metadata": {
        "colab": {
          "base_uri": "https://localhost:8080/",
          "height": 143
        },
        "id": "LA_GLFeKZZlU",
        "outputId": "07199779-2fd7-480b-bb2c-1061426f15ab"
      },
      "outputs": [
        {
          "data": {
            "text/html": [
              "<div>\n",
              "<style scoped>\n",
              "    .dataframe tbody tr th:only-of-type {\n",
              "        vertical-align: middle;\n",
              "    }\n",
              "\n",
              "    .dataframe tbody tr th {\n",
              "        vertical-align: top;\n",
              "    }\n",
              "\n",
              "    .dataframe thead th {\n",
              "        text-align: right;\n",
              "    }\n",
              "</style>\n",
              "<table border=\"1\" class=\"dataframe\">\n",
              "  <thead>\n",
              "    <tr style=\"text-align: right;\">\n",
              "      <th></th>\n",
              "      <th>gameId</th>\n",
              "      <th>playId</th>\n",
              "      <th>nflId</th>\n",
              "      <th>frameId</th>\n",
              "      <th>club</th>\n",
              "      <th>playDirection</th>\n",
              "      <th>x</th>\n",
              "      <th>y</th>\n",
              "      <th>s</th>\n",
              "      <th>a</th>\n",
              "      <th>dis</th>\n",
              "      <th>o</th>\n",
              "      <th>dir</th>\n",
              "      <th>event</th>\n",
              "    </tr>\n",
              "  </thead>\n",
              "  <tbody>\n",
              "    <tr>\n",
              "      <th>0</th>\n",
              "      <td>2022090800</td>\n",
              "      <td>56</td>\n",
              "      <td>35472.0</td>\n",
              "      <td>1</td>\n",
              "      <td>BUF</td>\n",
              "      <td>left</td>\n",
              "      <td>88.37</td>\n",
              "      <td>27.27</td>\n",
              "      <td>1.62</td>\n",
              "      <td>1.15</td>\n",
              "      <td>0.16</td>\n",
              "      <td>231.74</td>\n",
              "      <td>147.90</td>\n",
              "      <td>NaN</td>\n",
              "    </tr>\n",
              "    <tr>\n",
              "      <th>1</th>\n",
              "      <td>2022090800</td>\n",
              "      <td>56</td>\n",
              "      <td>35472.0</td>\n",
              "      <td>2</td>\n",
              "      <td>BUF</td>\n",
              "      <td>left</td>\n",
              "      <td>88.47</td>\n",
              "      <td>27.13</td>\n",
              "      <td>1.67</td>\n",
              "      <td>0.61</td>\n",
              "      <td>0.17</td>\n",
              "      <td>230.98</td>\n",
              "      <td>148.53</td>\n",
              "      <td>pass_arrived</td>\n",
              "    </tr>\n",
              "    <tr>\n",
              "      <th>2</th>\n",
              "      <td>2022090800</td>\n",
              "      <td>56</td>\n",
              "      <td>35472.0</td>\n",
              "      <td>3</td>\n",
              "      <td>BUF</td>\n",
              "      <td>left</td>\n",
              "      <td>88.56</td>\n",
              "      <td>27.01</td>\n",
              "      <td>1.57</td>\n",
              "      <td>0.49</td>\n",
              "      <td>0.15</td>\n",
              "      <td>230.98</td>\n",
              "      <td>147.05</td>\n",
              "      <td>NaN</td>\n",
              "    </tr>\n",
              "  </tbody>\n",
              "</table>\n",
              "</div>"
            ],
            "text/plain": [
              "       gameId  playId    nflId  frameId club playDirection      x      y  \\\n",
              "0  2022090800      56  35472.0        1  BUF          left  88.37  27.27   \n",
              "1  2022090800      56  35472.0        2  BUF          left  88.47  27.13   \n",
              "2  2022090800      56  35472.0        3  BUF          left  88.56  27.01   \n",
              "\n",
              "      s     a   dis       o     dir         event  \n",
              "0  1.62  1.15  0.16  231.74  147.90           NaN  \n",
              "1  1.67  0.61  0.17  230.98  148.53  pass_arrived  \n",
              "2  1.57  0.49  0.15  230.98  147.05           NaN  "
            ]
          },
          "execution_count": 16,
          "metadata": {},
          "output_type": "execute_result"
        }
      ],
      "source": [
        "ds = pd.concat([dfs[f'tracking_week_{i}'] for i in range(1, 10)])\n",
        "ds.drop(columns=['displayName', 'jerseyNumber', 'time'], inplace=True)\n",
        "ds.head(3)"
      ]
    },
    {
      "cell_type": "markdown",
      "metadata": {
        "id": "IZyKGf9Lp-zu"
      },
      "source": [
        "Eliminaremos las jugadas en las que no hay uno de los 3 tipos de jugada:\n",
        "- `pass_forward`\n",
        "- `pass_shovel`\n",
        "- `run`\n",
        "\n",
        "Queremos analizar jugadas que no parten de un evento caótico como la intercepción o que la posesión no pertenece a ningún equipo.\n",
        "\n",
        "Así también reducimos a la mitad los frames, cosa necesaria para mantener la RAM de google collab y un tiempo asequible de compilación.\n",
        "\n",
        "Además eliminaremos los frames en los que ya se sabe quién es el portador del balón, ya que es lo que queremos predecir."
      ]
    },
    {
      "cell_type": "code",
      "execution_count": 17,
      "metadata": {
        "colab": {
          "base_uri": "https://localhost:8080/"
        },
        "id": "8lFKKIdWp_He",
        "outputId": "bfa32d6c-fca3-4822-eb72-29eb724441ce"
      },
      "outputs": [
        {
          "name": "stderr",
          "output_type": "stream",
          "text": [
            "C:\\Users\\alfre\\AppData\\Local\\Temp\\ipykernel_24940\\4004582040.py:4: SettingWithCopyWarning: \n",
            "A value is trying to be set on a copy of a slice from a DataFrame\n",
            "\n",
            "See the caveats in the documentation: https://pandas.pydata.org/pandas-docs/stable/user_guide/indexing.html#returning-a-view-versus-a-copy\n",
            "  aux_plays.drop_duplicates(inplace=True)\n",
            "C:\\Users\\alfre\\AppData\\Local\\Temp\\ipykernel_24940\\4004582040.py:9: SettingWithCopyWarning: \n",
            "A value is trying to be set on a copy of a slice from a DataFrame\n",
            "\n",
            "See the caveats in the documentation: https://pandas.pydata.org/pandas-docs/stable/user_guide/indexing.html#returning-a-view-versus-a-copy\n",
            "  aux_frames.drop_duplicates(inplace=True)\n",
            "C:\\Users\\alfre\\AppData\\Local\\Temp\\ipykernel_24940\\4004582040.py:17: SettingWithCopyWarning: \n",
            "A value is trying to be set on a copy of a slice from a DataFrame\n",
            "\n",
            "See the caveats in the documentation: https://pandas.pydata.org/pandas-docs/stable/user_guide/indexing.html#returning-a-view-versus-a-copy\n",
            "  ds.drop(columns='frameId_aux_frames', inplace=True)\n"
          ]
        }
      ],
      "source": [
        "aux = ds[(ds['event'] == 'pass_forward') | (ds['event'] == 'pass_shovel') | (ds['event'] == 'run')]\n",
        "\n",
        "aux_plays = aux[['gameId', 'playId']]\n",
        "aux_plays.drop_duplicates(inplace=True)\n",
        "\n",
        "ds = pd.merge(ds, aux_plays, on=['gameId', 'playId'], how='inner')\n",
        "\n",
        "aux_frames = aux[['gameId', 'playId', 'frameId']]\n",
        "aux_frames.drop_duplicates(inplace=True)\n",
        "aux_frames\n",
        "\n",
        "ds_combinado = pd.merge(ds, aux_frames, on=['gameId', 'playId'], how='left', suffixes=('', '_aux_frames'))\n",
        "ds_combinado\n",
        "\n",
        "ds = ds_combinado[ds_combinado['frameId'] <= ds_combinado['frameId_aux_frames']]\n",
        "\n",
        "ds.drop(columns='frameId_aux_frames', inplace=True)"
      ]
    },
    {
      "cell_type": "code",
      "execution_count": 18,
      "metadata": {
        "id": "faq3gVrksWta"
      },
      "outputs": [],
      "source": [
        "ds = ds.drop(columns=['event'])"
      ]
    },
    {
      "cell_type": "markdown",
      "metadata": {
        "id": "62SSQ-0BtIg_"
      },
      "source": [
        "Para asegurarnos de que hay 23 agentes en cada snapshot:\n",
        "\n",
        "$23 = 11 jugadores\\times 2 equipos + 1balón$\n",
        "\n",
        "Los frames que no sigan esa estructura no nos aportan ninguna información y pueden suponer un problema, comprobamos:"
      ]
    },
    {
      "cell_type": "code",
      "execution_count": 19,
      "metadata": {
        "colab": {
          "base_uri": "https://localhost:8080/"
        },
        "id": "9ypyq5SytK66",
        "outputId": "60ce79a7-d615-452f-b9c3-2ed75b0f1d51"
      },
      "outputs": [
        {
          "name": "stdout",
          "output_type": "stream",
          "text": [
            "Array con número de agentes por frame encontrados [23]\n"
          ]
        }
      ],
      "source": [
        "import numpy as np\n",
        "ds_conteo = ds.groupby(['gameId', 'playId', 'frameId']).size().reset_index(name='Conteo')\n",
        "print(f'Array con número de agentes por frame encontrados {np.unique(ds_conteo[\"Conteo\"])}')"
      ]
    },
    {
      "cell_type": "markdown",
      "metadata": {
        "id": "pHjKAYdrrEw2"
      },
      "source": [
        "Como todos siguen la estructura, no es necesario realizar más acciones.\\\n",
        "(Nótese que si no hubiesemos filtrado jugadas si existen frames con un solo agente en vez de 23 en el dataframe inicial)"
      ]
    },
    {
      "cell_type": "code",
      "execution_count": 20,
      "metadata": {
        "colab": {
          "base_uri": "https://localhost:8080/",
          "height": 81
        },
        "id": "wT-ZBip6AVBV",
        "outputId": "6233d353-42f5-4b63-c4ab-136b142a63e1"
      },
      "outputs": [
        {
          "data": {
            "text/html": [
              "<div>\n",
              "<style scoped>\n",
              "    .dataframe tbody tr th:only-of-type {\n",
              "        vertical-align: middle;\n",
              "    }\n",
              "\n",
              "    .dataframe tbody tr th {\n",
              "        vertical-align: top;\n",
              "    }\n",
              "\n",
              "    .dataframe thead th {\n",
              "        text-align: right;\n",
              "    }\n",
              "</style>\n",
              "<table border=\"1\" class=\"dataframe\">\n",
              "  <thead>\n",
              "    <tr style=\"text-align: right;\">\n",
              "      <th></th>\n",
              "      <th>gameId</th>\n",
              "      <th>playId</th>\n",
              "      <th>nflId</th>\n",
              "      <th>frameId</th>\n",
              "      <th>club</th>\n",
              "      <th>playDirection</th>\n",
              "      <th>x</th>\n",
              "      <th>y</th>\n",
              "      <th>s</th>\n",
              "      <th>a</th>\n",
              "      <th>dis</th>\n",
              "      <th>o</th>\n",
              "      <th>dir</th>\n",
              "    </tr>\n",
              "  </thead>\n",
              "  <tbody>\n",
              "    <tr>\n",
              "      <th>0</th>\n",
              "      <td>2022090800</td>\n",
              "      <td>80</td>\n",
              "      <td>35472.0</td>\n",
              "      <td>1</td>\n",
              "      <td>BUF</td>\n",
              "      <td>left</td>\n",
              "      <td>82.42</td>\n",
              "      <td>26.13</td>\n",
              "      <td>2.43</td>\n",
              "      <td>0.37</td>\n",
              "      <td>0.24</td>\n",
              "      <td>196.42</td>\n",
              "      <td>140.67</td>\n",
              "    </tr>\n",
              "  </tbody>\n",
              "</table>\n",
              "</div>"
            ],
            "text/plain": [
              "       gameId  playId    nflId  frameId club playDirection      x      y  \\\n",
              "0  2022090800      80  35472.0        1  BUF          left  82.42  26.13   \n",
              "\n",
              "      s     a   dis       o     dir  \n",
              "0  2.43  0.37  0.24  196.42  140.67  "
            ]
          },
          "execution_count": 20,
          "metadata": {},
          "output_type": "execute_result"
        }
      ],
      "source": [
        "ds.head(1)"
      ]
    },
    {
      "cell_type": "markdown",
      "metadata": {},
      "source": [
        "## Datos que formarán parte del input de la red neuronal convolucional"
      ]
    },
    {
      "cell_type": "markdown",
      "metadata": {
        "id": "VJjSM49AiT71"
      },
      "source": [
        "## Orientación jugadores"
      ]
    },
    {
      "cell_type": "markdown",
      "metadata": {
        "id": "LUJEKa9WiWL7"
      },
      "source": [
        "Es NaN para el balón. Sustituimos NaN por cero."
      ]
    },
    {
      "cell_type": "code",
      "execution_count": 21,
      "metadata": {
        "id": "Crur39MJn4gZ"
      },
      "outputs": [],
      "source": [
        "ds['dir'] = ds['dir'].fillna(0)\n",
        "ds['o'] = ds['o'].fillna(0)"
      ]
    },
    {
      "cell_type": "markdown",
      "metadata": {
        "id": "12zybVil86WN"
      },
      "source": [
        "## Número de intento\n",
        "En fútbol americano el equipo atacante tiene 4 intentos para avanzar 10 yardas, creemos que el número de yardas restantes por avanzar influyen en quién puedee ser un receptor adecuado."
      ]
    },
    {
      "cell_type": "code",
      "execution_count": 22,
      "metadata": {
        "id": "lGUA5hPC85v8"
      },
      "outputs": [],
      "source": [
        "ds = pd.merge(ds, dfs['plays'][['down', 'gameId','playId']], on=['gameId','playId'], how='left')"
      ]
    },
    {
      "cell_type": "markdown",
      "metadata": {
        "id": "k7t7v3edn1PY"
      },
      "source": [
        "## Yardas a completar\n",
        "Cuantas yardas quedan por realizar para no perder la posesión tras 4 intentos"
      ]
    },
    {
      "cell_type": "code",
      "execution_count": 23,
      "metadata": {
        "id": "IbQbsJJzihjz"
      },
      "outputs": [],
      "source": [
        "ds = pd.merge(ds, dfs['plays'][['yardsToGo', 'gameId','playId']], on=['gameId','playId'], how='left')"
      ]
    },
    {
      "cell_type": "markdown",
      "metadata": {
        "id": "mJmF1FJz_MaD"
      },
      "source": [
        "## Línea de las yardas\n",
        "Línea del campo que indica desde donde comienza el intento"
      ]
    },
    {
      "cell_type": "code",
      "execution_count": 24,
      "metadata": {
        "colab": {
          "base_uri": "https://localhost:8080/",
          "height": 81
        },
        "id": "HHivth85_PFE",
        "outputId": "8fbc0288-7bc5-431d-8421-7572589b2ace"
      },
      "outputs": [
        {
          "data": {
            "text/html": [
              "<div>\n",
              "<style scoped>\n",
              "    .dataframe tbody tr th:only-of-type {\n",
              "        vertical-align: middle;\n",
              "    }\n",
              "\n",
              "    .dataframe tbody tr th {\n",
              "        vertical-align: top;\n",
              "    }\n",
              "\n",
              "    .dataframe thead th {\n",
              "        text-align: right;\n",
              "    }\n",
              "</style>\n",
              "<table border=\"1\" class=\"dataframe\">\n",
              "  <thead>\n",
              "    <tr style=\"text-align: right;\">\n",
              "      <th></th>\n",
              "      <th>gameId</th>\n",
              "      <th>playId</th>\n",
              "      <th>nflId</th>\n",
              "      <th>frameId</th>\n",
              "      <th>club</th>\n",
              "      <th>playDirection</th>\n",
              "      <th>x</th>\n",
              "      <th>y</th>\n",
              "      <th>s</th>\n",
              "      <th>a</th>\n",
              "      <th>dis</th>\n",
              "      <th>o</th>\n",
              "      <th>dir</th>\n",
              "      <th>down</th>\n",
              "      <th>yardsToGo</th>\n",
              "      <th>yardlineNumber</th>\n",
              "    </tr>\n",
              "  </thead>\n",
              "  <tbody>\n",
              "    <tr>\n",
              "      <th>0</th>\n",
              "      <td>2022090800</td>\n",
              "      <td>80</td>\n",
              "      <td>35472.0</td>\n",
              "      <td>1</td>\n",
              "      <td>BUF</td>\n",
              "      <td>left</td>\n",
              "      <td>82.42</td>\n",
              "      <td>26.13</td>\n",
              "      <td>2.43</td>\n",
              "      <td>0.37</td>\n",
              "      <td>0.24</td>\n",
              "      <td>196.42</td>\n",
              "      <td>140.67</td>\n",
              "      <td>2</td>\n",
              "      <td>4</td>\n",
              "      <td>31</td>\n",
              "    </tr>\n",
              "  </tbody>\n",
              "</table>\n",
              "</div>"
            ],
            "text/plain": [
              "       gameId  playId    nflId  frameId club playDirection      x      y  \\\n",
              "0  2022090800      80  35472.0        1  BUF          left  82.42  26.13   \n",
              "\n",
              "      s     a   dis       o     dir  down  yardsToGo  yardlineNumber  \n",
              "0  2.43  0.37  0.24  196.42  140.67     2          4              31  "
            ]
          },
          "execution_count": 24,
          "metadata": {},
          "output_type": "execute_result"
        }
      ],
      "source": [
        "ds = pd.merge(ds, dfs['plays'][['yardlineNumber', 'gameId','playId']], on=['gameId','playId'], how='left')\n",
        "ds.head(1)"
      ]
    },
    {
      "cell_type": "markdown",
      "metadata": {
        "id": "HfKflDaguUh7"
      },
      "source": [
        "## Posición del jugador en el equipo\n",
        "En fútbol americano ciertas posiciones son designadas previamente a la jugada para ser candidatos a receptor.\\\n",
        "Se tratan de:\n",
        "+ Quarter back\n",
        "+ Tight end\n",
        "+ Running back\n",
        "+ Wide runner\n",
        "\n",
        "Un total de como mucho 6 jugadores (5 + el quarter back)\\\n",
        "Esto nos indica que ante un generador de números aleatorios hablaríamos de acertar 1 de cada 6 veces."
      ]
    },
    {
      "cell_type": "code",
      "execution_count": 25,
      "metadata": {
        "colab": {
          "base_uri": "https://localhost:8080/"
        },
        "id": "3Nfw6aw3u0X6",
        "outputId": "3678acce-81a0-4359-dd99-96a06920cf3c"
      },
      "outputs": [
        {
          "data": {
            "text/plain": [
              "array(['QB', 'T', 'TE', 'WR', 'DE', 'NT', 'SS', 'FS', 'G', 'OLB', 'DT',\n",
              "       'CB', 'RB', 'C', 'ILB', 'MLB', 'FB', 'LS', 'DB'], dtype=object)"
            ]
          },
          "execution_count": 25,
          "metadata": {},
          "output_type": "execute_result"
        }
      ],
      "source": [
        "dfs['players']['position'].unique()"
      ]
    },
    {
      "cell_type": "markdown",
      "metadata": {
        "id": "JeVmmjw-yHW5"
      },
      "source": [
        "Los jugadores QB, TE, WR, RB son los encargados de recibir y llevar el balón, por lo que los diferenciaremos del resto."
      ]
    },
    {
      "cell_type": "code",
      "execution_count": 26,
      "metadata": {
        "colab": {
          "base_uri": "https://localhost:8080/",
          "height": 112
        },
        "id": "XeMEK__muXeu",
        "outputId": "2f814856-5519-4993-97be-f355f21b4b30"
      },
      "outputs": [
        {
          "data": {
            "text/html": [
              "<div>\n",
              "<style scoped>\n",
              "    .dataframe tbody tr th:only-of-type {\n",
              "        vertical-align: middle;\n",
              "    }\n",
              "\n",
              "    .dataframe tbody tr th {\n",
              "        vertical-align: top;\n",
              "    }\n",
              "\n",
              "    .dataframe thead th {\n",
              "        text-align: right;\n",
              "    }\n",
              "</style>\n",
              "<table border=\"1\" class=\"dataframe\">\n",
              "  <thead>\n",
              "    <tr style=\"text-align: right;\">\n",
              "      <th></th>\n",
              "      <th>gameId</th>\n",
              "      <th>playId</th>\n",
              "      <th>nflId</th>\n",
              "      <th>frameId</th>\n",
              "      <th>club</th>\n",
              "      <th>playDirection</th>\n",
              "      <th>x</th>\n",
              "      <th>y</th>\n",
              "      <th>s</th>\n",
              "      <th>a</th>\n",
              "      <th>dis</th>\n",
              "      <th>o</th>\n",
              "      <th>dir</th>\n",
              "      <th>down</th>\n",
              "      <th>yardsToGo</th>\n",
              "      <th>yardlineNumber</th>\n",
              "      <th>pos_team</th>\n",
              "    </tr>\n",
              "  </thead>\n",
              "  <tbody>\n",
              "    <tr>\n",
              "      <th>0</th>\n",
              "      <td>2022090800</td>\n",
              "      <td>80</td>\n",
              "      <td>35472.0</td>\n",
              "      <td>1</td>\n",
              "      <td>BUF</td>\n",
              "      <td>left</td>\n",
              "      <td>82.42</td>\n",
              "      <td>26.13</td>\n",
              "      <td>2.43</td>\n",
              "      <td>0.37</td>\n",
              "      <td>0.24</td>\n",
              "      <td>196.42</td>\n",
              "      <td>140.67</td>\n",
              "      <td>2</td>\n",
              "      <td>4</td>\n",
              "      <td>31</td>\n",
              "      <td>0</td>\n",
              "    </tr>\n",
              "    <tr>\n",
              "      <th>1</th>\n",
              "      <td>2022090800</td>\n",
              "      <td>80</td>\n",
              "      <td>35472.0</td>\n",
              "      <td>2</td>\n",
              "      <td>BUF</td>\n",
              "      <td>left</td>\n",
              "      <td>82.58</td>\n",
              "      <td>25.96</td>\n",
              "      <td>2.34</td>\n",
              "      <td>0.93</td>\n",
              "      <td>0.24</td>\n",
              "      <td>203.85</td>\n",
              "      <td>138.66</td>\n",
              "      <td>2</td>\n",
              "      <td>4</td>\n",
              "      <td>31</td>\n",
              "      <td>0</td>\n",
              "    </tr>\n",
              "  </tbody>\n",
              "</table>\n",
              "</div>"
            ],
            "text/plain": [
              "       gameId  playId    nflId  frameId club playDirection      x      y  \\\n",
              "0  2022090800      80  35472.0        1  BUF          left  82.42  26.13   \n",
              "1  2022090800      80  35472.0        2  BUF          left  82.58  25.96   \n",
              "\n",
              "      s     a   dis       o     dir  down  yardsToGo  yardlineNumber  pos_team  \n",
              "0  2.43  0.37  0.24  196.42  140.67     2          4              31         0  \n",
              "1  2.34  0.93  0.24  203.85  138.66     2          4              31         0  "
            ]
          },
          "execution_count": 26,
          "metadata": {},
          "output_type": "execute_result"
        }
      ],
      "source": [
        "ds = pd.merge(ds, dfs['players'][['position', 'nflId']], on=['nflId'], how='left')\n",
        "\n",
        "ds['pos_team'] = 0\n",
        "ds.loc[(ds['position'] == 'QB')|(ds['position'] == 'TE')|(ds['position'] == 'WR')|(ds['position'] == 'RB'), 'pos_team'] = 1\n",
        "ds.drop(columns=['position'], inplace=True)\n",
        "ds.head(2)"
      ]
    },
    {
      "cell_type": "markdown",
      "metadata": {
        "id": "1D8bRn5woeCq"
      },
      "source": [
        "## Cuarto del partido\n",
        "Un partido dura 60 minutos dividido en 4 cuartos, esta información es posible que también influye en la decisión que tome el equipo ofensor"
      ]
    },
    {
      "cell_type": "code",
      "execution_count": 27,
      "metadata": {
        "id": "H-stOtPfk2Gq"
      },
      "outputs": [],
      "source": [
        "ds = pd.merge(ds, dfs['plays'][['quarter', 'gameId','playId']], on=['gameId','playId'], how='left')"
      ]
    },
    {
      "cell_type": "markdown",
      "metadata": {
        "id": "NCtCaip-dME5"
      },
      "source": [
        "## Dirección de la jugada\n",
        "En este deporte no se cambia de campo, la dirección de la jugada nos indica si el atacante es el equipo local o visitante.\\\n",
        "En vez de `left/right` usaremos 0 / 1."
      ]
    },
    {
      "cell_type": "code",
      "execution_count": 28,
      "metadata": {
        "colab": {
          "base_uri": "https://localhost:8080/",
          "height": 81
        },
        "id": "Ze_EISbDziQ7",
        "outputId": "ce8006eb-8a30-4b57-ad0e-95b9cc1756d8"
      },
      "outputs": [
        {
          "data": {
            "text/html": [
              "<div>\n",
              "<style scoped>\n",
              "    .dataframe tbody tr th:only-of-type {\n",
              "        vertical-align: middle;\n",
              "    }\n",
              "\n",
              "    .dataframe tbody tr th {\n",
              "        vertical-align: top;\n",
              "    }\n",
              "\n",
              "    .dataframe thead th {\n",
              "        text-align: right;\n",
              "    }\n",
              "</style>\n",
              "<table border=\"1\" class=\"dataframe\">\n",
              "  <thead>\n",
              "    <tr style=\"text-align: right;\">\n",
              "      <th></th>\n",
              "      <th>gameId</th>\n",
              "      <th>playId</th>\n",
              "      <th>nflId</th>\n",
              "      <th>frameId</th>\n",
              "      <th>club</th>\n",
              "      <th>playDirection</th>\n",
              "      <th>x</th>\n",
              "      <th>y</th>\n",
              "      <th>s</th>\n",
              "      <th>a</th>\n",
              "      <th>dis</th>\n",
              "      <th>o</th>\n",
              "      <th>dir</th>\n",
              "      <th>down</th>\n",
              "      <th>yardsToGo</th>\n",
              "      <th>yardlineNumber</th>\n",
              "      <th>pos_team</th>\n",
              "      <th>quarter</th>\n",
              "    </tr>\n",
              "  </thead>\n",
              "  <tbody>\n",
              "    <tr>\n",
              "      <th>0</th>\n",
              "      <td>2022090800</td>\n",
              "      <td>80</td>\n",
              "      <td>35472.0</td>\n",
              "      <td>1</td>\n",
              "      <td>BUF</td>\n",
              "      <td>0</td>\n",
              "      <td>82.42</td>\n",
              "      <td>26.13</td>\n",
              "      <td>2.43</td>\n",
              "      <td>0.37</td>\n",
              "      <td>0.24</td>\n",
              "      <td>196.42</td>\n",
              "      <td>140.67</td>\n",
              "      <td>2</td>\n",
              "      <td>4</td>\n",
              "      <td>31</td>\n",
              "      <td>0</td>\n",
              "      <td>1</td>\n",
              "    </tr>\n",
              "  </tbody>\n",
              "</table>\n",
              "</div>"
            ],
            "text/plain": [
              "       gameId  playId    nflId  frameId club  playDirection      x      y  \\\n",
              "0  2022090800      80  35472.0        1  BUF              0  82.42  26.13   \n",
              "\n",
              "      s     a   dis       o     dir  down  yardsToGo  yardlineNumber  \\\n",
              "0  2.43  0.37  0.24  196.42  140.67     2          4              31   \n",
              "\n",
              "   pos_team  quarter  \n",
              "0         0        1  "
            ]
          },
          "execution_count": 28,
          "metadata": {},
          "output_type": "execute_result"
        }
      ],
      "source": [
        "ds['playDirection'] = ds['playDirection'].replace({'left': 0, 'right': 1})\n",
        "ds.head(1)"
      ]
    },
    {
      "cell_type": "markdown",
      "metadata": {
        "id": "IKdvExw5whti"
      },
      "source": [
        "## Equipo local/visitante"
      ]
    },
    {
      "cell_type": "markdown",
      "metadata": {
        "id": "iCvKScRJRo10"
      },
      "source": [
        "Local/visitante aparece como `homeTeamAbbr/visitorTeamAbb`en el dataset de partidos. Y lo queremos añadir a `ds`."
      ]
    },
    {
      "cell_type": "code",
      "execution_count": 29,
      "metadata": {
        "id": "38plRRWFS375"
      },
      "outputs": [],
      "source": [
        "ds = pd.merge(ds, dfs['games'][['homeTeamAbbr', 'gameId']], on='gameId', how='left')"
      ]
    },
    {
      "cell_type": "markdown",
      "metadata": {
        "id": "0TxSgTpsdv4Q"
      },
      "source": [
        "Con valores:\n",
        "- `1: local`\n",
        "- `-1: visitante`\n",
        "- `0: balón`"
      ]
    },
    {
      "cell_type": "code",
      "execution_count": 30,
      "metadata": {
        "id": "8pfD-cPJvTp0"
      },
      "outputs": [],
      "source": [
        "ds['local'] = -1\n",
        "ds.loc[ds['club'] == ds['homeTeamAbbr'], 'local'] = 1\n",
        "ds.loc[ds['club'] == 'football', 'local'] = 0\n",
        "ds.drop(columns=['club', 'homeTeamAbbr'], inplace=True)"
      ]
    },
    {
      "cell_type": "markdown",
      "metadata": {
        "id": "mQa-sfWEu1yD"
      },
      "source": [
        "## Posesión del balón"
      ]
    },
    {
      "cell_type": "markdown",
      "metadata": {
        "id": "ocJMmSuXdjG5"
      },
      "source": [
        "Es lo que nos interesa predecir y por tanto será nuestra etiqueta en formato one-hot encoding. Es decir, un vector que toma el valor 1 en la posición del jugador que obtenga la posesión del balón en la jugada, también llamado ballCarrier. \n",
        "\n",
        "Más adelante mostraremos la forma de la etiqueta."
      ]
    },
    {
      "cell_type": "code",
      "execution_count": 31,
      "metadata": {
        "id": "_aukL6hTu6at"
      },
      "outputs": [],
      "source": [
        "ds = pd.merge(ds, dfs['plays'][['ballCarrierId', 'playId', 'gameId']], on=['playId', 'gameId'], how='left')\n",
        "ds['ballCarrier'] = 0\n",
        "ds.loc[ds['nflId'] == ds['ballCarrierId'], 'ballCarrier'] = 1\n",
        "ds.drop(columns='ballCarrierId', inplace=True)"
      ]
    },
    {
      "cell_type": "markdown",
      "metadata": {
        "id": "TLz0FTRteAv_"
      },
      "source": [
        "Ordenamos el dataFrame para que aparezcan primero los jugadores del equipo local seguidos por los del visitante. De esta manera, ya no necesitamos una columna que especifique de qué equipo es cada jugador. En un frame:\n",
        "\n",
        "- Las 11 primeras filas son 11 jugadores que pertenecen al equipo local.\n",
        "- Las 11 siguientes filas son 11 jugadores que pertenecen al equipo visitante.\n",
        "- La última fila es el balón."
      ]
    },
    {
      "cell_type": "code",
      "execution_count": 32,
      "metadata": {
        "id": "Ix01_boxerr5"
      },
      "outputs": [],
      "source": [
        "ds.sort_values(by=['gameId', 'playId', 'frameId', 'local'], ascending=True, inplace=True)\n",
        "# Como el orden de local es ascendente los 11 jugadores de las primeras 11 filas se corresponden con visitantes\n",
        "# Haciendo innecesario el uso de la columna local\n",
        "ds.reset_index(drop=True, inplace=True)"
      ]
    },
    {
      "cell_type": "code",
      "execution_count": 33,
      "metadata": {
        "colab": {
          "base_uri": "https://localhost:8080/",
          "height": 363
        },
        "id": "3qCSpuh-s0Mh",
        "outputId": "f8ed39e7-48b0-4fe8-e401-eccb2a0fda36"
      },
      "outputs": [
        {
          "data": {
            "text/html": [
              "<div>\n",
              "<style scoped>\n",
              "    .dataframe tbody tr th:only-of-type {\n",
              "        vertical-align: middle;\n",
              "    }\n",
              "\n",
              "    .dataframe tbody tr th {\n",
              "        vertical-align: top;\n",
              "    }\n",
              "\n",
              "    .dataframe thead th {\n",
              "        text-align: right;\n",
              "    }\n",
              "</style>\n",
              "<table border=\"1\" class=\"dataframe\">\n",
              "  <thead>\n",
              "    <tr style=\"text-align: right;\">\n",
              "      <th></th>\n",
              "      <th>gameId</th>\n",
              "      <th>playId</th>\n",
              "      <th>nflId</th>\n",
              "      <th>frameId</th>\n",
              "      <th>playDirection</th>\n",
              "      <th>x</th>\n",
              "      <th>y</th>\n",
              "      <th>s</th>\n",
              "      <th>a</th>\n",
              "      <th>dis</th>\n",
              "      <th>o</th>\n",
              "      <th>dir</th>\n",
              "      <th>down</th>\n",
              "      <th>yardsToGo</th>\n",
              "      <th>yardlineNumber</th>\n",
              "      <th>pos_team</th>\n",
              "      <th>quarter</th>\n",
              "      <th>local</th>\n",
              "      <th>ballCarrier</th>\n",
              "    </tr>\n",
              "  </thead>\n",
              "  <tbody>\n",
              "    <tr>\n",
              "      <th>0</th>\n",
              "      <td>2022090800</td>\n",
              "      <td>80</td>\n",
              "      <td>35472.0</td>\n",
              "      <td>1</td>\n",
              "      <td>0</td>\n",
              "      <td>82.42</td>\n",
              "      <td>26.13</td>\n",
              "      <td>2.43</td>\n",
              "      <td>0.37</td>\n",
              "      <td>0.24</td>\n",
              "      <td>196.42</td>\n",
              "      <td>140.67</td>\n",
              "      <td>2</td>\n",
              "      <td>4</td>\n",
              "      <td>31</td>\n",
              "      <td>0</td>\n",
              "      <td>1</td>\n",
              "      <td>-1</td>\n",
              "      <td>0</td>\n",
              "    </tr>\n",
              "    <tr>\n",
              "      <th>1</th>\n",
              "      <td>2022090800</td>\n",
              "      <td>80</td>\n",
              "      <td>42392.0</td>\n",
              "      <td>1</td>\n",
              "      <td>0</td>\n",
              "      <td>81.75</td>\n",
              "      <td>28.39</td>\n",
              "      <td>1.18</td>\n",
              "      <td>2.36</td>\n",
              "      <td>0.13</td>\n",
              "      <td>271.20</td>\n",
              "      <td>344.32</td>\n",
              "      <td>2</td>\n",
              "      <td>4</td>\n",
              "      <td>31</td>\n",
              "      <td>0</td>\n",
              "      <td>1</td>\n",
              "      <td>-1</td>\n",
              "      <td>0</td>\n",
              "    </tr>\n",
              "    <tr>\n",
              "      <th>2</th>\n",
              "      <td>2022090800</td>\n",
              "      <td>80</td>\n",
              "      <td>42489.0</td>\n",
              "      <td>1</td>\n",
              "      <td>0</td>\n",
              "      <td>69.42</td>\n",
              "      <td>22.59</td>\n",
              "      <td>5.78</td>\n",
              "      <td>5.05</td>\n",
              "      <td>0.58</td>\n",
              "      <td>298.77</td>\n",
              "      <td>287.87</td>\n",
              "      <td>2</td>\n",
              "      <td>4</td>\n",
              "      <td>31</td>\n",
              "      <td>1</td>\n",
              "      <td>1</td>\n",
              "      <td>-1</td>\n",
              "      <td>0</td>\n",
              "    </tr>\n",
              "    <tr>\n",
              "      <th>3</th>\n",
              "      <td>2022090800</td>\n",
              "      <td>80</td>\n",
              "      <td>44875.0</td>\n",
              "      <td>1</td>\n",
              "      <td>0</td>\n",
              "      <td>82.93</td>\n",
              "      <td>24.59</td>\n",
              "      <td>1.04</td>\n",
              "      <td>3.38</td>\n",
              "      <td>0.12</td>\n",
              "      <td>246.66</td>\n",
              "      <td>131.40</td>\n",
              "      <td>2</td>\n",
              "      <td>4</td>\n",
              "      <td>31</td>\n",
              "      <td>0</td>\n",
              "      <td>1</td>\n",
              "      <td>-1</td>\n",
              "      <td>0</td>\n",
              "    </tr>\n",
              "    <tr>\n",
              "      <th>4</th>\n",
              "      <td>2022090800</td>\n",
              "      <td>80</td>\n",
              "      <td>44985.0</td>\n",
              "      <td>1</td>\n",
              "      <td>0</td>\n",
              "      <td>72.64</td>\n",
              "      <td>8.50</td>\n",
              "      <td>5.55</td>\n",
              "      <td>4.09</td>\n",
              "      <td>0.57</td>\n",
              "      <td>289.54</td>\n",
              "      <td>232.62</td>\n",
              "      <td>2</td>\n",
              "      <td>4</td>\n",
              "      <td>31</td>\n",
              "      <td>1</td>\n",
              "      <td>1</td>\n",
              "      <td>-1</td>\n",
              "      <td>0</td>\n",
              "    </tr>\n",
              "    <tr>\n",
              "      <th>5</th>\n",
              "      <td>2022090800</td>\n",
              "      <td>80</td>\n",
              "      <td>46076.0</td>\n",
              "      <td>1</td>\n",
              "      <td>0</td>\n",
              "      <td>83.80</td>\n",
              "      <td>30.14</td>\n",
              "      <td>3.95</td>\n",
              "      <td>2.99</td>\n",
              "      <td>0.38</td>\n",
              "      <td>288.71</td>\n",
              "      <td>294.20</td>\n",
              "      <td>2</td>\n",
              "      <td>4</td>\n",
              "      <td>31</td>\n",
              "      <td>1</td>\n",
              "      <td>1</td>\n",
              "      <td>-1</td>\n",
              "      <td>1</td>\n",
              "    </tr>\n",
              "    <tr>\n",
              "      <th>6</th>\n",
              "      <td>2022090800</td>\n",
              "      <td>80</td>\n",
              "      <td>47857.0</td>\n",
              "      <td>1</td>\n",
              "      <td>0</td>\n",
              "      <td>84.18</td>\n",
              "      <td>45.45</td>\n",
              "      <td>4.12</td>\n",
              "      <td>1.83</td>\n",
              "      <td>0.42</td>\n",
              "      <td>222.73</td>\n",
              "      <td>340.61</td>\n",
              "      <td>2</td>\n",
              "      <td>4</td>\n",
              "      <td>31</td>\n",
              "      <td>1</td>\n",
              "      <td>1</td>\n",
              "      <td>-1</td>\n",
              "      <td>0</td>\n",
              "    </tr>\n",
              "    <tr>\n",
              "      <th>7</th>\n",
              "      <td>2022090800</td>\n",
              "      <td>80</td>\n",
              "      <td>47879.0</td>\n",
              "      <td>1</td>\n",
              "      <td>0</td>\n",
              "      <td>74.64</td>\n",
              "      <td>34.59</td>\n",
              "      <td>1.96</td>\n",
              "      <td>2.40</td>\n",
              "      <td>0.21</td>\n",
              "      <td>105.37</td>\n",
              "      <td>216.26</td>\n",
              "      <td>2</td>\n",
              "      <td>4</td>\n",
              "      <td>31</td>\n",
              "      <td>1</td>\n",
              "      <td>1</td>\n",
              "      <td>-1</td>\n",
              "      <td>0</td>\n",
              "    </tr>\n",
              "    <tr>\n",
              "      <th>8</th>\n",
              "      <td>2022090800</td>\n",
              "      <td>80</td>\n",
              "      <td>48512.0</td>\n",
              "      <td>1</td>\n",
              "      <td>0</td>\n",
              "      <td>85.59</td>\n",
              "      <td>29.63</td>\n",
              "      <td>2.46</td>\n",
              "      <td>2.27</td>\n",
              "      <td>0.26</td>\n",
              "      <td>117.12</td>\n",
              "      <td>119.97</td>\n",
              "      <td>2</td>\n",
              "      <td>4</td>\n",
              "      <td>31</td>\n",
              "      <td>0</td>\n",
              "      <td>1</td>\n",
              "      <td>-1</td>\n",
              "      <td>0</td>\n",
              "    </tr>\n",
              "    <tr>\n",
              "      <th>9</th>\n",
              "      <td>2022090800</td>\n",
              "      <td>80</td>\n",
              "      <td>52536.0</td>\n",
              "      <td>1</td>\n",
              "      <td>0</td>\n",
              "      <td>71.62</td>\n",
              "      <td>14.41</td>\n",
              "      <td>3.43</td>\n",
              "      <td>3.38</td>\n",
              "      <td>0.36</td>\n",
              "      <td>19.41</td>\n",
              "      <td>311.87</td>\n",
              "      <td>2</td>\n",
              "      <td>4</td>\n",
              "      <td>31</td>\n",
              "      <td>1</td>\n",
              "      <td>1</td>\n",
              "      <td>-1</td>\n",
              "      <td>0</td>\n",
              "    </tr>\n",
              "  </tbody>\n",
              "</table>\n",
              "</div>"
            ],
            "text/plain": [
              "       gameId  playId    nflId  frameId  playDirection      x      y     s  \\\n",
              "0  2022090800      80  35472.0        1              0  82.42  26.13  2.43   \n",
              "1  2022090800      80  42392.0        1              0  81.75  28.39  1.18   \n",
              "2  2022090800      80  42489.0        1              0  69.42  22.59  5.78   \n",
              "3  2022090800      80  44875.0        1              0  82.93  24.59  1.04   \n",
              "4  2022090800      80  44985.0        1              0  72.64   8.50  5.55   \n",
              "5  2022090800      80  46076.0        1              0  83.80  30.14  3.95   \n",
              "6  2022090800      80  47857.0        1              0  84.18  45.45  4.12   \n",
              "7  2022090800      80  47879.0        1              0  74.64  34.59  1.96   \n",
              "8  2022090800      80  48512.0        1              0  85.59  29.63  2.46   \n",
              "9  2022090800      80  52536.0        1              0  71.62  14.41  3.43   \n",
              "\n",
              "      a   dis       o     dir  down  yardsToGo  yardlineNumber  pos_team  \\\n",
              "0  0.37  0.24  196.42  140.67     2          4              31         0   \n",
              "1  2.36  0.13  271.20  344.32     2          4              31         0   \n",
              "2  5.05  0.58  298.77  287.87     2          4              31         1   \n",
              "3  3.38  0.12  246.66  131.40     2          4              31         0   \n",
              "4  4.09  0.57  289.54  232.62     2          4              31         1   \n",
              "5  2.99  0.38  288.71  294.20     2          4              31         1   \n",
              "6  1.83  0.42  222.73  340.61     2          4              31         1   \n",
              "7  2.40  0.21  105.37  216.26     2          4              31         1   \n",
              "8  2.27  0.26  117.12  119.97     2          4              31         0   \n",
              "9  3.38  0.36   19.41  311.87     2          4              31         1   \n",
              "\n",
              "   quarter  local  ballCarrier  \n",
              "0        1     -1            0  \n",
              "1        1     -1            0  \n",
              "2        1     -1            0  \n",
              "3        1     -1            0  \n",
              "4        1     -1            0  \n",
              "5        1     -1            1  \n",
              "6        1     -1            0  \n",
              "7        1     -1            0  \n",
              "8        1     -1            0  \n",
              "9        1     -1            0  "
            ]
          },
          "execution_count": 33,
          "metadata": {},
          "output_type": "execute_result"
        }
      ],
      "source": [
        "ds.head(10)"
      ]
    },
    {
      "cell_type": "markdown",
      "metadata": {},
      "source": [
        "Finalmente eliminamos las columnas ya no son necesarias para definir el input"
      ]
    },
    {
      "cell_type": "code",
      "execution_count": 34,
      "metadata": {
        "colab": {
          "base_uri": "https://localhost:8080/",
          "height": 81
        },
        "id": "gKCnNZg9h_sj",
        "outputId": "43e9782d-fb2c-45c0-fb7a-001763bca27a"
      },
      "outputs": [
        {
          "data": {
            "text/html": [
              "<div>\n",
              "<style scoped>\n",
              "    .dataframe tbody tr th:only-of-type {\n",
              "        vertical-align: middle;\n",
              "    }\n",
              "\n",
              "    .dataframe tbody tr th {\n",
              "        vertical-align: top;\n",
              "    }\n",
              "\n",
              "    .dataframe thead th {\n",
              "        text-align: right;\n",
              "    }\n",
              "</style>\n",
              "<table border=\"1\" class=\"dataframe\">\n",
              "  <thead>\n",
              "    <tr style=\"text-align: right;\">\n",
              "      <th></th>\n",
              "      <th>playDirection</th>\n",
              "      <th>x</th>\n",
              "      <th>y</th>\n",
              "      <th>s</th>\n",
              "      <th>a</th>\n",
              "      <th>dis</th>\n",
              "      <th>o</th>\n",
              "      <th>dir</th>\n",
              "      <th>down</th>\n",
              "      <th>yardsToGo</th>\n",
              "      <th>yardlineNumber</th>\n",
              "      <th>pos_team</th>\n",
              "      <th>quarter</th>\n",
              "      <th>ballCarrier</th>\n",
              "    </tr>\n",
              "  </thead>\n",
              "  <tbody>\n",
              "    <tr>\n",
              "      <th>0</th>\n",
              "      <td>0</td>\n",
              "      <td>82.42</td>\n",
              "      <td>26.13</td>\n",
              "      <td>2.43</td>\n",
              "      <td>0.37</td>\n",
              "      <td>0.24</td>\n",
              "      <td>196.42</td>\n",
              "      <td>140.67</td>\n",
              "      <td>2</td>\n",
              "      <td>4</td>\n",
              "      <td>31</td>\n",
              "      <td>0</td>\n",
              "      <td>1</td>\n",
              "      <td>0</td>\n",
              "    </tr>\n",
              "  </tbody>\n",
              "</table>\n",
              "</div>"
            ],
            "text/plain": [
              "   playDirection      x      y     s     a   dis       o     dir  down  \\\n",
              "0              0  82.42  26.13  2.43  0.37  0.24  196.42  140.67     2   \n",
              "\n",
              "   yardsToGo  yardlineNumber  pos_team  quarter  ballCarrier  \n",
              "0          4              31         0        1            0  "
            ]
          },
          "execution_count": 34,
          "metadata": {},
          "output_type": "execute_result"
        }
      ],
      "source": [
        "ds = ds.drop(columns=['gameId','playId','nflId','frameId','local'])\n",
        "ds.head(1)"
      ]
    },
    {
      "cell_type": "markdown",
      "metadata": {
        "id": "yWe2QYYJfSpo"
      },
      "source": [
        "# Normalización de columnas"
      ]
    },
    {
      "cell_type": "markdown",
      "metadata": {
        "id": "8lkAZsCDfV2O"
      },
      "source": [
        "Buscamos que las columnas estén normalizadas para darle facilidad a la red neuronal."
      ]
    },
    {
      "cell_type": "code",
      "execution_count": 35,
      "metadata": {
        "id": "vnS74MnJfVfF"
      },
      "outputs": [],
      "source": [
        "columnas = ['x','y','s','a','dis','o','dir','down','yardsToGo','yardlineNumber','quarter']\n",
        "for columna in columnas:\n",
        "  # Normalización min-max\n",
        "  min_val = ds[columna].min()\n",
        "  max_val = ds[columna].max()\n",
        "  ds[columna] = (ds[columna] - min_val) / (max_val - min_val)"
      ]
    },
    {
      "cell_type": "code",
      "execution_count": 36,
      "metadata": {
        "colab": {
          "base_uri": "https://localhost:8080/",
          "height": 363
        },
        "id": "UU_TAYchtl_D",
        "outputId": "fd4e1850-bf46-4232-f0a9-9169a17b3dcf"
      },
      "outputs": [
        {
          "data": {
            "text/html": [
              "<div>\n",
              "<style scoped>\n",
              "    .dataframe tbody tr th:only-of-type {\n",
              "        vertical-align: middle;\n",
              "    }\n",
              "\n",
              "    .dataframe tbody tr th {\n",
              "        vertical-align: top;\n",
              "    }\n",
              "\n",
              "    .dataframe thead th {\n",
              "        text-align: right;\n",
              "    }\n",
              "</style>\n",
              "<table border=\"1\" class=\"dataframe\">\n",
              "  <thead>\n",
              "    <tr style=\"text-align: right;\">\n",
              "      <th></th>\n",
              "      <th>playDirection</th>\n",
              "      <th>x</th>\n",
              "      <th>y</th>\n",
              "      <th>s</th>\n",
              "      <th>a</th>\n",
              "      <th>dis</th>\n",
              "      <th>o</th>\n",
              "      <th>dir</th>\n",
              "      <th>down</th>\n",
              "      <th>yardsToGo</th>\n",
              "      <th>yardlineNumber</th>\n",
              "      <th>pos_team</th>\n",
              "      <th>quarter</th>\n",
              "      <th>ballCarrier</th>\n",
              "    </tr>\n",
              "  </thead>\n",
              "  <tbody>\n",
              "    <tr>\n",
              "      <th>0</th>\n",
              "      <td>0</td>\n",
              "      <td>0.677382</td>\n",
              "      <td>0.466726</td>\n",
              "      <td>0.115166</td>\n",
              "      <td>0.014352</td>\n",
              "      <td>0.060914</td>\n",
              "      <td>0.545611</td>\n",
              "      <td>0.390750</td>\n",
              "      <td>0.333333</td>\n",
              "      <td>0.125</td>\n",
              "      <td>0.612245</td>\n",
              "      <td>0</td>\n",
              "      <td>0.0</td>\n",
              "      <td>0</td>\n",
              "    </tr>\n",
              "    <tr>\n",
              "      <th>1</th>\n",
              "      <td>0</td>\n",
              "      <td>0.671831</td>\n",
              "      <td>0.506940</td>\n",
              "      <td>0.055924</td>\n",
              "      <td>0.091544</td>\n",
              "      <td>0.032995</td>\n",
              "      <td>0.753333</td>\n",
              "      <td>0.956444</td>\n",
              "      <td>0.333333</td>\n",
              "      <td>0.125</td>\n",
              "      <td>0.612245</td>\n",
              "      <td>0</td>\n",
              "      <td>0.0</td>\n",
              "      <td>0</td>\n",
              "    </tr>\n",
              "    <tr>\n",
              "      <th>2</th>\n",
              "      <td>0</td>\n",
              "      <td>0.569677</td>\n",
              "      <td>0.403737</td>\n",
              "      <td>0.273934</td>\n",
              "      <td>0.195888</td>\n",
              "      <td>0.147208</td>\n",
              "      <td>0.829917</td>\n",
              "      <td>0.799639</td>\n",
              "      <td>0.333333</td>\n",
              "      <td>0.125</td>\n",
              "      <td>0.612245</td>\n",
              "      <td>1</td>\n",
              "      <td>0.0</td>\n",
              "      <td>0</td>\n",
              "    </tr>\n",
              "    <tr>\n",
              "      <th>3</th>\n",
              "      <td>0</td>\n",
              "      <td>0.681607</td>\n",
              "      <td>0.439324</td>\n",
              "      <td>0.049289</td>\n",
              "      <td>0.131109</td>\n",
              "      <td>0.030457</td>\n",
              "      <td>0.685167</td>\n",
              "      <td>0.365000</td>\n",
              "      <td>0.333333</td>\n",
              "      <td>0.125</td>\n",
              "      <td>0.612245</td>\n",
              "      <td>0</td>\n",
              "      <td>0.0</td>\n",
              "      <td>0</td>\n",
              "    </tr>\n",
              "    <tr>\n",
              "      <th>4</th>\n",
              "      <td>0</td>\n",
              "      <td>0.596355</td>\n",
              "      <td>0.153025</td>\n",
              "      <td>0.263033</td>\n",
              "      <td>0.158650</td>\n",
              "      <td>0.144670</td>\n",
              "      <td>0.804278</td>\n",
              "      <td>0.646167</td>\n",
              "      <td>0.333333</td>\n",
              "      <td>0.125</td>\n",
              "      <td>0.612245</td>\n",
              "      <td>1</td>\n",
              "      <td>0.0</td>\n",
              "      <td>0</td>\n",
              "    </tr>\n",
              "    <tr>\n",
              "      <th>5</th>\n",
              "      <td>0</td>\n",
              "      <td>0.688815</td>\n",
              "      <td>0.538078</td>\n",
              "      <td>0.187204</td>\n",
              "      <td>0.115981</td>\n",
              "      <td>0.096447</td>\n",
              "      <td>0.801972</td>\n",
              "      <td>0.817222</td>\n",
              "      <td>0.333333</td>\n",
              "      <td>0.125</td>\n",
              "      <td>0.612245</td>\n",
              "      <td>1</td>\n",
              "      <td>0.0</td>\n",
              "      <td>1</td>\n",
              "    </tr>\n",
              "    <tr>\n",
              "      <th>6</th>\n",
              "      <td>0</td>\n",
              "      <td>0.691964</td>\n",
              "      <td>0.810498</td>\n",
              "      <td>0.195261</td>\n",
              "      <td>0.070985</td>\n",
              "      <td>0.106599</td>\n",
              "      <td>0.618694</td>\n",
              "      <td>0.946139</td>\n",
              "      <td>0.333333</td>\n",
              "      <td>0.125</td>\n",
              "      <td>0.612245</td>\n",
              "      <td>1</td>\n",
              "      <td>0.0</td>\n",
              "      <td>0</td>\n",
              "    </tr>\n",
              "    <tr>\n",
              "      <th>7</th>\n",
              "      <td>0</td>\n",
              "      <td>0.612925</td>\n",
              "      <td>0.617260</td>\n",
              "      <td>0.092891</td>\n",
              "      <td>0.093095</td>\n",
              "      <td>0.053299</td>\n",
              "      <td>0.292694</td>\n",
              "      <td>0.600722</td>\n",
              "      <td>0.333333</td>\n",
              "      <td>0.125</td>\n",
              "      <td>0.612245</td>\n",
              "      <td>1</td>\n",
              "      <td>0.0</td>\n",
              "      <td>0</td>\n",
              "    </tr>\n",
              "    <tr>\n",
              "      <th>8</th>\n",
              "      <td>0</td>\n",
              "      <td>0.703645</td>\n",
              "      <td>0.529004</td>\n",
              "      <td>0.116588</td>\n",
              "      <td>0.088053</td>\n",
              "      <td>0.065990</td>\n",
              "      <td>0.325333</td>\n",
              "      <td>0.333250</td>\n",
              "      <td>0.333333</td>\n",
              "      <td>0.125</td>\n",
              "      <td>0.612245</td>\n",
              "      <td>0</td>\n",
              "      <td>0.0</td>\n",
              "      <td>0</td>\n",
              "    </tr>\n",
              "    <tr>\n",
              "      <th>9</th>\n",
              "      <td>0</td>\n",
              "      <td>0.587904</td>\n",
              "      <td>0.258185</td>\n",
              "      <td>0.162559</td>\n",
              "      <td>0.131109</td>\n",
              "      <td>0.091371</td>\n",
              "      <td>0.053917</td>\n",
              "      <td>0.866306</td>\n",
              "      <td>0.333333</td>\n",
              "      <td>0.125</td>\n",
              "      <td>0.612245</td>\n",
              "      <td>1</td>\n",
              "      <td>0.0</td>\n",
              "      <td>0</td>\n",
              "    </tr>\n",
              "  </tbody>\n",
              "</table>\n",
              "</div>"
            ],
            "text/plain": [
              "   playDirection         x         y         s         a       dis         o  \\\n",
              "0              0  0.677382  0.466726  0.115166  0.014352  0.060914  0.545611   \n",
              "1              0  0.671831  0.506940  0.055924  0.091544  0.032995  0.753333   \n",
              "2              0  0.569677  0.403737  0.273934  0.195888  0.147208  0.829917   \n",
              "3              0  0.681607  0.439324  0.049289  0.131109  0.030457  0.685167   \n",
              "4              0  0.596355  0.153025  0.263033  0.158650  0.144670  0.804278   \n",
              "5              0  0.688815  0.538078  0.187204  0.115981  0.096447  0.801972   \n",
              "6              0  0.691964  0.810498  0.195261  0.070985  0.106599  0.618694   \n",
              "7              0  0.612925  0.617260  0.092891  0.093095  0.053299  0.292694   \n",
              "8              0  0.703645  0.529004  0.116588  0.088053  0.065990  0.325333   \n",
              "9              0  0.587904  0.258185  0.162559  0.131109  0.091371  0.053917   \n",
              "\n",
              "        dir      down  yardsToGo  yardlineNumber  pos_team  quarter  \\\n",
              "0  0.390750  0.333333      0.125        0.612245         0      0.0   \n",
              "1  0.956444  0.333333      0.125        0.612245         0      0.0   \n",
              "2  0.799639  0.333333      0.125        0.612245         1      0.0   \n",
              "3  0.365000  0.333333      0.125        0.612245         0      0.0   \n",
              "4  0.646167  0.333333      0.125        0.612245         1      0.0   \n",
              "5  0.817222  0.333333      0.125        0.612245         1      0.0   \n",
              "6  0.946139  0.333333      0.125        0.612245         1      0.0   \n",
              "7  0.600722  0.333333      0.125        0.612245         1      0.0   \n",
              "8  0.333250  0.333333      0.125        0.612245         0      0.0   \n",
              "9  0.866306  0.333333      0.125        0.612245         1      0.0   \n",
              "\n",
              "   ballCarrier  \n",
              "0            0  \n",
              "1            0  \n",
              "2            0  \n",
              "3            0  \n",
              "4            0  \n",
              "5            1  \n",
              "6            0  \n",
              "7            0  \n",
              "8            0  \n",
              "9            0  "
            ]
          },
          "execution_count": 36,
          "metadata": {},
          "output_type": "execute_result"
        }
      ],
      "source": [
        "ds.head(10)"
      ]
    },
    {
      "cell_type": "code",
      "execution_count": 37,
      "metadata": {
        "colab": {
          "base_uri": "https://localhost:8080/"
        },
        "id": "8K-rpLg-7ytz",
        "outputId": "c925663e-1baa-4c57-d099-8192bea160d8"
      },
      "outputs": [
        {
          "data": {
            "text/plain": [
              "(287454, 14)"
            ]
          },
          "execution_count": 37,
          "metadata": {},
          "output_type": "execute_result"
        }
      ],
      "source": [
        "ds.shape"
      ]
    },
    {
      "cell_type": "markdown",
      "metadata": {
        "id": "kwNhs3glCV5B"
      },
      "source": [
        "Que es divisible entre 23. (Esperamos frames con 23 filas una por cada agente)"
      ]
    },
    {
      "cell_type": "code",
      "execution_count": 38,
      "metadata": {
        "colab": {
          "base_uri": "https://localhost:8080/"
        },
        "id": "EwjnKAfDCUXd",
        "outputId": "30d0a658-adf2-40a4-e274-2452ed47a404"
      },
      "outputs": [
        {
          "data": {
            "text/plain": [
              "12498.0"
            ]
          },
          "execution_count": 38,
          "metadata": {},
          "output_type": "execute_result"
        }
      ],
      "source": [
        "287454/23"
      ]
    },
    {
      "cell_type": "markdown",
      "metadata": {
        "id": "kZP56bY4fxrx"
      },
      "source": [
        "# Preparación del input"
      ]
    },
    {
      "cell_type": "markdown",
      "metadata": {
        "id": "grdqFCIDgCJe"
      },
      "source": [
        "Convertimos el dataFrame a un tensor con **snapshots** y **etiquetas**."
      ]
    },
    {
      "cell_type": "code",
      "execution_count": 39,
      "metadata": {
        "colab": {
          "base_uri": "https://localhost:8080/"
        },
        "id": "wY2Ljl0rf0oy",
        "outputId": "cf544f00-3973-4ace-baf3-2c8adf01cc66"
      },
      "outputs": [
        {
          "name": "stdout",
          "output_type": "stream",
          "text": [
            "WARNING:tensorflow:From c:\\Users\\alfre\\Desktop\\Utils\\NFL2022_TacklePredictNN\\.venv\\Lib\\site-packages\\keras\\src\\losses.py:2976: The name tf.losses.sparse_softmax_cross_entropy is deprecated. Please use tf.compat.v1.losses.sparse_softmax_cross_entropy instead.\n",
            "\n"
          ]
        },
        {
          "data": {
            "text/plain": [
              "(TensorShape([12498, 23, 13]), TensorShape([12498, 23]))"
            ]
          },
          "execution_count": 39,
          "metadata": {},
          "output_type": "execute_result"
        }
      ],
      "source": [
        "import tensorflow as tf\n",
        "numeric_feature_names = ['playDirection', 'x','y','s','a','dis','o','dir','down','yardsToGo','yardlineNumber','pos_team','quarter']\n",
        "numeric_features = ds[numeric_feature_names]\n",
        "numeric_features.head()\n",
        "snapshots = tf.convert_to_tensor(numeric_features)\n",
        "snapshots = tf.reshape(snapshots, (-1, 23, 13))\n",
        "\n",
        "target = 'ballCarrier'\n",
        "label_features = ds[target]\n",
        "labels = tf.convert_to_tensor(label_features)\n",
        "labels = tf.reshape(labels, (-1, 23))\n",
        "snapshots.shape, labels.shape"
      ]
    },
    {
      "cell_type": "markdown",
      "metadata": {
        "id": "FbNA1VaYeVK9"
      },
      "source": [
        "Los datos de entrenamiento:"
      ]
    },
    {
      "cell_type": "code",
      "execution_count": 40,
      "metadata": {
        "colab": {
          "base_uri": "https://localhost:8080/"
        },
        "id": "PwhelFXIeYVZ",
        "outputId": "52d7abe9-946e-4dbe-9845-1eb81300b9c1"
      },
      "outputs": [
        {
          "data": {
            "text/plain": [
              "<_TensorSliceDataset element_spec=(TensorSpec(shape=(23, 13), dtype=tf.float64, name=None), TensorSpec(shape=(23,), dtype=tf.int64, name=None))>"
            ]
          },
          "execution_count": 40,
          "metadata": {},
          "output_type": "execute_result"
        }
      ],
      "source": [
        "ds_nfl =  tf.data.Dataset.from_tensor_slices((snapshots, labels))\n",
        "ds_nfl"
      ]
    },
    {
      "cell_type": "markdown",
      "metadata": {
        "id": "nFDEXiz6gUtE"
      },
      "source": [
        "Imprimimos el primero para ver qué forma tiene."
      ]
    },
    {
      "cell_type": "code",
      "execution_count": 41,
      "metadata": {
        "colab": {
          "base_uri": "https://localhost:8080/"
        },
        "id": "D0NI-ghGgTrh",
        "outputId": "6ea9199d-2bdf-4e78-e1ee-122f57f32a2d"
      },
      "outputs": [
        {
          "name": "stdout",
          "output_type": "stream",
          "text": [
            "(<tf.Tensor: shape=(23, 13), dtype=float64, numpy=\n",
            "array([[0.        , 0.67738194, 0.46672598, 0.11516587, 0.01435221,\n",
            "        0.0609137 , 0.54561111, 0.39075   , 0.33333333, 0.125     ,\n",
            "        0.6122449 , 0.        , 0.        ],\n",
            "       [0.        , 0.67183099, 0.5069395 , 0.05592417, 0.09154383,\n",
            "        0.03299492, 0.75333333, 0.95644444, 0.33333333, 0.125     ,\n",
            "        0.6122449 , 0.        , 0.        ],\n",
            "       [0.        , 0.56967688, 0.40373665, 0.27393364, 0.19588828,\n",
            "        0.14720812, 0.82991667, 0.79963889, 0.33333333, 0.125     ,\n",
            "        0.6122449 , 1.        , 0.        ],\n",
            "       [0.        , 0.68160729, 0.43932384, 0.0492891 , 0.13110938,\n",
            "        0.03045685, 0.68516667, 0.365     , 0.33333333, 0.125     ,\n",
            "        0.6122449 , 0.        , 0.        ],\n",
            "       [0.        , 0.5963546 , 0.15302491, 0.26303317, 0.15865011,\n",
            "        0.14467005, 0.80427778, 0.64616667, 0.33333333, 0.125     ,\n",
            "        0.6122449 , 1.        , 0.        ],\n",
            "       [0.        , 0.68881524, 0.53807829, 0.18720379, 0.11598138,\n",
            "        0.0964467 , 0.80197222, 0.81722222, 0.33333333, 0.125     ,\n",
            "        0.6122449 , 1.        , 0.        ],\n",
            "       [0.        , 0.69196355, 0.81049822, 0.19526066, 0.07098526,\n",
            "        0.10659898, 0.61869444, 0.94613889, 0.33333333, 0.125     ,\n",
            "        0.6122449 , 1.        , 0.        ],\n",
            "       [0.        , 0.61292461, 0.61725979, 0.09289099, 0.09309542,\n",
            "        0.05329949, 0.29269444, 0.60072222, 0.33333333, 0.125     ,\n",
            "        0.6122449 , 1.        , 0.        ],\n",
            "       [0.        , 0.7036454 , 0.52900356, 0.11658768, 0.08805275,\n",
            "        0.06598985, 0.32533333, 0.33325   , 0.33333333, 0.125     ,\n",
            "        0.6122449 , 0.        , 0.        ],\n",
            "       [0.        , 0.58790389, 0.25818505, 0.16255924, 0.13110938,\n",
            "        0.09137056, 0.05391667, 0.86630556, 0.33333333, 0.125     ,\n",
            "        0.6122449 , 1.        , 0.        ],\n",
            "       [0.        , 0.70936205, 0.59341637, 0.07440758, 0.14546159,\n",
            "        0.04314721, 0.05558333, 0.33038889, 0.33333333, 0.125     ,\n",
            "        0.6122449 , 0.        , 0.        ],\n",
            "       [0.        , 0.6860812 , 0.54377223, 0.04028436, 0.13421257,\n",
            "        0.02030457, 0.        , 0.        , 0.33333333, 0.125     ,\n",
            "        0.6122449 , 0.        , 0.        ],\n",
            "       [0.        , 0.58873239, 0.41441281, 0.07014218, 0.10861132,\n",
            "        0.03807107, 0.06697222, 0.90352778, 0.33333333, 0.125     ,\n",
            "        0.6122449 , 0.        , 0.        ],\n",
            "       [0.        , 0.71358741, 0.5247331 , 0.18246445, 0.128782  ,\n",
            "        0.10152284, 0.44219444, 0.37319444, 0.33333333, 0.125     ,\n",
            "        0.6122449 , 0.        , 0.        ],\n",
            "       [0.        , 0.53761392, 0.18291815, 0.18720379, 0.12024825,\n",
            "        0.09898477, 0.98172222, 0.83658333, 0.33333333, 0.125     ,\n",
            "        0.6122449 , 0.        , 0.        ],\n",
            "       [0.        , 0.59511185, 0.78362989, 0.09478673, 0.03025601,\n",
            "        0.05076142, 0.34311111, 0.05733333, 0.33333333, 0.125     ,\n",
            "        0.6122449 , 0.        , 0.        ],\n",
            "       [0.        , 0.71184756, 0.61352313, 0.0042654 , 0.30256012,\n",
            "        0.01269036, 0.63694444, 0.52966667, 0.33333333, 0.125     ,\n",
            "        0.6122449 , 0.        , 0.        ],\n",
            "       [0.        , 0.67497929, 0.43042705, 0.0450237 , 0.10744763,\n",
            "        0.02284264, 0.2315    , 0.35166667, 0.33333333, 0.125     ,\n",
            "        0.6122449 , 0.        , 0.        ],\n",
            "       [0.        , 0.55078708, 0.17829181, 0.24028436, 0.05042669,\n",
            "        0.12944162, 0.45544444, 0.62258333, 0.33333333, 0.125     ,\n",
            "        0.6122449 , 0.        , 0.        ],\n",
            "       [0.        , 0.66106048, 0.50160142, 0.13601895, 0.14584949,\n",
            "        0.06598985, 0.17908333, 0.96386111, 0.33333333, 0.125     ,\n",
            "        0.6122449 , 0.        , 0.        ],\n",
            "       [0.        , 0.4937034 , 0.45409253, 0.13791469, 0.05391776,\n",
            "        0.07614213, 0.20255556, 0.85758333, 0.33333333, 0.125     ,\n",
            "        0.6122449 , 0.        , 0.        ],\n",
            "       [0.        , 0.51888981, 0.64181495, 0.11184834, 0.06245151,\n",
            "        0.0609137 , 0.35575   , 0.71833333, 0.33333333, 0.125     ,\n",
            "        0.6122449 , 0.        , 0.        ],\n",
            "       [0.        , 0.60671085, 0.63380783, 0.05023697, 0.13925523,\n",
            "        0.02284264, 0.33186111, 0.54341667, 0.33333333, 0.125     ,\n",
            "        0.6122449 , 0.        , 0.        ]])>, <tf.Tensor: shape=(23,), dtype=int64, numpy=\n",
            "array([0, 0, 0, 0, 0, 1, 0, 0, 0, 0, 0, 0, 0, 0, 0, 0, 0, 0, 0, 0, 0, 0,\n",
            "       0], dtype=int64)>)\n"
          ]
        }
      ],
      "source": [
        "for elem in ds_nfl.take(1):\n",
        "  print(elem)"
      ]
    },
    {
      "cell_type": "markdown",
      "metadata": {
        "id": "buhmUci6gP70"
      },
      "source": [
        "**Datos de test**\\\n",
        "Tomaremos un 20 % de los datos para test y el resto para entrenamiento"
      ]
    },
    {
      "cell_type": "code",
      "execution_count": 42,
      "metadata": {
        "id": "jXxk1sWPgbV_"
      },
      "outputs": [],
      "source": [
        "num_train = len(ds_nfl)\n",
        "\n",
        "RATIO = 0.2\n",
        "test_size = int(RATIO * num_train)\n",
        "\n",
        "ds_train = ds_nfl.skip(test_size)\n",
        "ds_test = ds_nfl.take(test_size)"
      ]
    },
    {
      "cell_type": "markdown",
      "metadata": {
        "id": "G6wwYpEMgdZq"
      },
      "source": [
        "**Datos de validación**\\\n",
        "De los datos de entrenamiento igual que antes tomamos un 20% que servirán para validación"
      ]
    },
    {
      "cell_type": "code",
      "execution_count": 43,
      "metadata": {
        "id": "eMRRoItrgfeL"
      },
      "outputs": [],
      "source": [
        "num_train = len(ds_train)\n",
        "\n",
        "RATIO = 0.2\n",
        "validation_size = int(RATIO * num_train)\n",
        "\n",
        "ds_fit = ds_nfl.skip(validation_size)\n",
        "ds_val = ds_nfl.take(validation_size)"
      ]
    },
    {
      "cell_type": "markdown",
      "metadata": {
        "id": "3Ah_0kS-ghpV"
      },
      "source": [
        "Mezclamos los datos de manera aleatoria y los empaquetamos en paquetes de tamaño 1024. Es decir, cada 1024 snapshots, se actualizan los pesos. Debido a que tenemos una gran cantidad de datos, hemos elegido un **batch_size alto** para evitar el sobreentrenamiento."
      ]
    },
    {
      "cell_type": "code",
      "execution_count": 44,
      "metadata": {
        "id": "a35x9jNCghUc"
      },
      "outputs": [],
      "source": [
        "AUTOTUNE = tf.data.AUTOTUNE\n",
        "BATCH_SIZE = 1024\n",
        "ds_fit = (\n",
        "    ds_fit\n",
        "    .cache()\n",
        "    .shuffle(len(ds_fit))\n",
        "    .batch(BATCH_SIZE)\n",
        "    .prefetch(AUTOTUNE)\n",
        ")\n",
        "\n",
        "ds_val = (\n",
        "    ds_val\n",
        "    .cache()\n",
        "    .batch(BATCH_SIZE)\n",
        "    .prefetch(tf.data.AUTOTUNE)\n",
        ")"
      ]
    },
    {
      "cell_type": "markdown",
      "metadata": {
        "id": "QK0Gm-1jhHDZ"
      },
      "source": [
        "# Definición de callbacks"
      ]
    },
    {
      "cell_type": "markdown",
      "metadata": {
        "id": "XT-x5ng6hSAr"
      },
      "source": [
        "Utilizaremos los callbacks `ReduceLROnPlateau` y `EarlyStopping`, para disminuir el learning rate y detener el entrenamiento en caso de no mejorar la precisión en los datos de validación."
      ]
    },
    {
      "cell_type": "code",
      "execution_count": 45,
      "metadata": {
        "id": "XRoLcn4WhUsM"
      },
      "outputs": [],
      "source": [
        "from tensorflow.keras.callbacks import EarlyStopping, ReduceLROnPlateau\n",
        "\n",
        "# Reduce learning rate\n",
        "reduce_lr = ReduceLROnPlateau(monitor='val_accuracy', factor=0.2, patience=4, min_lr=0.0001)\n",
        "\n",
        "epoch_wait = 5\n",
        "# Crear el EarlyStopping callback con la función on_train_end\n",
        "early_stopping = EarlyStopping(monitor='val_loss', mode='min', verbose=1, patience=epoch_wait)\n",
        "\n",
        "# Definimos los callbacks\n",
        "callbacks = [early_stopping, reduce_lr]"
      ]
    },
    {
      "cell_type": "markdown",
      "metadata": {
        "id": "S4adW8fNhVOB"
      },
      "source": [
        "Como queremos obtener los mismos resultados para cualquier usuario que ejecute el programa, usamos una seed para inicializar los pesos posteriormente."
      ]
    },
    {
      "cell_type": "code",
      "execution_count": 46,
      "metadata": {
        "id": "Sdlc0XCZhWg-"
      },
      "outputs": [],
      "source": [
        "# Establecer la semilla global\n",
        "seed_value = 42\n",
        "tf.random.set_seed(seed_value)"
      ]
    },
    {
      "cell_type": "markdown",
      "metadata": {
        "id": "0j0yxNMSxR4i"
      },
      "source": [
        "# Arquitectura de la red"
      ]
    },
    {
      "cell_type": "markdown",
      "metadata": {
        "id": "9-Hisz9biafR"
      },
      "source": [
        "Debido a que tenemos tensores de más de una dimensión que representan una tabla de datos, usaremos la arquitectura de una red convolucional, teniendo en cuenta las dimensiones del input."
      ]
    },
    {
      "cell_type": "code",
      "execution_count": 47,
      "metadata": {
        "colab": {
          "base_uri": "https://localhost:8080/"
        },
        "id": "jZCmeh62y34n",
        "outputId": "8c61ca78-8422-4112-857e-0ceac3708a20"
      },
      "outputs": [
        {
          "name": "stdout",
          "output_type": "stream",
          "text": [
            "WARNING:tensorflow:From c:\\Users\\alfre\\Desktop\\Utils\\NFL2022_TacklePredictNN\\.venv\\Lib\\site-packages\\keras\\src\\backend.py:873: The name tf.get_default_graph is deprecated. Please use tf.compat.v1.get_default_graph instead.\n",
            "\n"
          ]
        },
        {
          "name": "stdout",
          "output_type": "stream",
          "text": [
            "WARNING:tensorflow:From c:\\Users\\alfre\\Desktop\\Utils\\NFL2022_TacklePredictNN\\.venv\\Lib\\site-packages\\keras\\src\\optimizers\\__init__.py:309: The name tf.train.Optimizer is deprecated. Please use tf.compat.v1.train.Optimizer instead.\n",
            "\n",
            "Model: \"sequential\"\n",
            "_________________________________________________________________\n",
            " Layer (type)                Output Shape              Param #   \n",
            "=================================================================\n",
            " conv1d (Conv1D)             (None, 23, 64)            2560      \n",
            "                                                                 \n",
            " dropout (Dropout)           (None, 23, 64)            0         \n",
            "                                                                 \n",
            " flatten (Flatten)           (None, 1472)              0         \n",
            "                                                                 \n",
            " dense (Dense)               (None, 128)               188544    \n",
            "                                                                 \n",
            " batch_normalization (Batch  (None, 128)               512       \n",
            " Normalization)                                                  \n",
            "                                                                 \n",
            " dropout_1 (Dropout)         (None, 128)               0         \n",
            "                                                                 \n",
            " dense_1 (Dense)             (None, 23)                2967      \n",
            "                                                                 \n",
            "=================================================================\n",
            "Total params: 194583 (760.09 KB)\n",
            "Trainable params: 194327 (759.09 KB)\n",
            "Non-trainable params: 256 (1.00 KB)\n",
            "_________________________________________________________________\n"
          ]
        }
      ],
      "source": [
        "import tensorflow as tf\n",
        "from tensorflow.keras import layers, models\n",
        "from tensorflow.keras.regularizers import l2\n",
        "\n",
        "# Arquitectura de la red convolucional\n",
        "model = models.Sequential()\n",
        "model.add(layers.Input(shape=(23, 13)))\n",
        "\n",
        "# Capa de convolución 1D con padding 'same' para mantener la longitud original de la secuencia\n",
        "model.add(layers.Conv1D(64, kernel_size=3, activation='relu', padding='same', kernel_regularizer=l2(0.01)))\n",
        "model.add(layers.Dropout(0.5))\n",
        "\n",
        "# Capa de aplanado para conectar con una capa densa\n",
        "model.add(layers.Flatten())\n",
        "\n",
        "# Capa densa con Batch Normalization\n",
        "model.add(layers.Dense(128, activation='relu', kernel_regularizer=l2(0.01)))\n",
        "model.add(layers.BatchNormalization())\n",
        "model.add(layers.Dropout(0.5))\n",
        "\n",
        "# Capa de salida\n",
        "model.add(layers.Dense(23, activation='softmax', kernel_regularizer=l2(0.01)))\n",
        "\n",
        "# Compilar el modelo\n",
        "model.compile(optimizer='adam', loss='categorical_crossentropy', metrics=['accuracy'])\n",
        "\n",
        "# Resumen de la arquitectura del modelo\n",
        "model.summary()\n"
      ]
    },
    {
      "cell_type": "markdown",
      "metadata": {
        "id": "Aa4orjoEjP33"
      },
      "source": [
        "## Entrenamiento del modelo"
      ]
    },
    {
      "cell_type": "markdown",
      "metadata": {
        "id": "AmrXRWCqjTdr"
      },
      "source": [
        "Utilizando los callbacks, datos de validación y con 50 épocas, veremos como evoluciona la precisión de la red.\n",
        "\n",
        "Igualmente, representaremos más adelante en una gráfica el comportamiento de la red neuronal respecto a las precisiones obtenidas con los datos de test y validación."
      ]
    },
    {
      "cell_type": "code",
      "execution_count": 48,
      "metadata": {
        "colab": {
          "base_uri": "https://localhost:8080/"
        },
        "id": "lIo54v8ujRl0",
        "outputId": "24de00ce-f83f-461c-b033-e4dec08db930"
      },
      "outputs": [
        {
          "name": "stdout",
          "output_type": "stream",
          "text": [
            "Epoch 1/100\n"
          ]
        },
        {
          "name": "stdout",
          "output_type": "stream",
          "text": [
            "WARNING:tensorflow:From c:\\Users\\alfre\\Desktop\\Utils\\NFL2022_TacklePredictNN\\.venv\\Lib\\site-packages\\keras\\src\\utils\\tf_utils.py:492: The name tf.ragged.RaggedTensorValue is deprecated. Please use tf.compat.v1.ragged.RaggedTensorValue instead.\n",
            "\n",
            "WARNING:tensorflow:From c:\\Users\\alfre\\Desktop\\Utils\\NFL2022_TacklePredictNN\\.venv\\Lib\\site-packages\\keras\\src\\engine\\base_layer_utils.py:384: The name tf.executing_eagerly_outside_functions is deprecated. Please use tf.compat.v1.executing_eagerly_outside_functions instead.\n",
            "\n",
            "11/11 [==============================] - 4s 89ms/step - loss: 6.5496 - accuracy: 0.0879 - val_loss: 5.4587 - val_accuracy: 0.1031 - lr: 0.0010\n",
            "Epoch 2/100\n",
            "11/11 [==============================] - 0s 28ms/step - loss: 5.0993 - accuracy: 0.2234 - val_loss: 4.8506 - val_accuracy: 0.2181 - lr: 0.0010\n",
            "Epoch 3/100\n",
            "11/11 [==============================] - 0s 30ms/step - loss: 4.2544 - accuracy: 0.3207 - val_loss: 4.4595 - val_accuracy: 0.2421 - lr: 0.0010\n",
            "Epoch 4/100\n",
            "11/11 [==============================] - 0s 31ms/step - loss: 3.6546 - accuracy: 0.4090 - val_loss: 4.2406 - val_accuracy: 0.2411 - lr: 0.0010\n",
            "Epoch 5/100\n",
            "11/11 [==============================] - 0s 36ms/step - loss: 3.2000 - accuracy: 0.4884 - val_loss: 4.1308 - val_accuracy: 0.2591 - lr: 0.0010\n",
            "Epoch 6/100\n",
            "11/11 [==============================] - 0s 34ms/step - loss: 2.8507 - accuracy: 0.5509 - val_loss: 4.0397 - val_accuracy: 0.2801 - lr: 0.0010\n",
            "Epoch 7/100\n",
            "11/11 [==============================] - 0s 40ms/step - loss: 2.5539 - accuracy: 0.6042 - val_loss: 3.9461 - val_accuracy: 0.2746 - lr: 0.0010\n",
            "Epoch 8/100\n",
            "11/11 [==============================] - 0s 40ms/step - loss: 2.3209 - accuracy: 0.6551 - val_loss: 3.8694 - val_accuracy: 0.2761 - lr: 0.0010\n",
            "Epoch 9/100\n",
            "11/11 [==============================] - 0s 40ms/step - loss: 2.0974 - accuracy: 0.7049 - val_loss: 3.7968 - val_accuracy: 0.2826 - lr: 0.0010\n",
            "Epoch 10/100\n",
            "11/11 [==============================] - 0s 39ms/step - loss: 1.9163 - accuracy: 0.7411 - val_loss: 3.7108 - val_accuracy: 0.2911 - lr: 0.0010\n",
            "Epoch 11/100\n",
            "11/11 [==============================] - 0s 40ms/step - loss: 1.7623 - accuracy: 0.7641 - val_loss: 3.6495 - val_accuracy: 0.3112 - lr: 0.0010\n",
            "Epoch 12/100\n",
            "11/11 [==============================] - 0s 40ms/step - loss: 1.6293 - accuracy: 0.7935 - val_loss: 3.5817 - val_accuracy: 0.2971 - lr: 0.0010\n",
            "Epoch 13/100\n",
            "11/11 [==============================] - 0s 39ms/step - loss: 1.5252 - accuracy: 0.8130 - val_loss: 3.5357 - val_accuracy: 0.2961 - lr: 0.0010\n",
            "Epoch 14/100\n",
            "11/11 [==============================] - 0s 40ms/step - loss: 1.4259 - accuracy: 0.8318 - val_loss: 3.4773 - val_accuracy: 0.3157 - lr: 0.0010\n",
            "Epoch 15/100\n",
            "11/11 [==============================] - 0s 40ms/step - loss: 1.3372 - accuracy: 0.8505 - val_loss: 3.4371 - val_accuracy: 0.2986 - lr: 0.0010\n",
            "Epoch 16/100\n",
            "11/11 [==============================] - 0s 40ms/step - loss: 1.2706 - accuracy: 0.8584 - val_loss: 3.3937 - val_accuracy: 0.3012 - lr: 0.0010\n",
            "Epoch 17/100\n",
            "11/11 [==============================] - 0s 38ms/step - loss: 1.2145 - accuracy: 0.8663 - val_loss: 3.3494 - val_accuracy: 0.3097 - lr: 0.0010\n",
            "Epoch 18/100\n",
            "11/11 [==============================] - 0s 39ms/step - loss: 1.1678 - accuracy: 0.8740 - val_loss: 3.3086 - val_accuracy: 0.3087 - lr: 0.0010\n",
            "Epoch 19/100\n",
            "11/11 [==============================] - 0s 39ms/step - loss: 1.1294 - accuracy: 0.8843 - val_loss: 3.2858 - val_accuracy: 0.3097 - lr: 2.0000e-04\n",
            "Epoch 20/100\n",
            "11/11 [==============================] - 0s 40ms/step - loss: 1.1034 - accuracy: 0.8917 - val_loss: 3.2606 - val_accuracy: 0.3122 - lr: 2.0000e-04\n",
            "Epoch 21/100\n",
            "11/11 [==============================] - 0s 40ms/step - loss: 1.0970 - accuracy: 0.8894 - val_loss: 3.2388 - val_accuracy: 0.3142 - lr: 2.0000e-04\n",
            "Epoch 22/100\n",
            "11/11 [==============================] - 0s 29ms/step - loss: 1.0778 - accuracy: 0.8930 - val_loss: 3.2099 - val_accuracy: 0.3137 - lr: 2.0000e-04\n",
            "Epoch 23/100\n",
            "11/11 [==============================] - 0s 27ms/step - loss: 1.0708 - accuracy: 0.8990 - val_loss: 3.1856 - val_accuracy: 0.3137 - lr: 1.0000e-04\n",
            "Epoch 24/100\n",
            "11/11 [==============================] - 0s 27ms/step - loss: 1.0611 - accuracy: 0.8988 - val_loss: 3.1611 - val_accuracy: 0.3132 - lr: 1.0000e-04\n",
            "Epoch 25/100\n",
            "11/11 [==============================] - 0s 27ms/step - loss: 1.0544 - accuracy: 0.8996 - val_loss: 3.1368 - val_accuracy: 0.3172 - lr: 1.0000e-04\n",
            "Epoch 26/100\n",
            "11/11 [==============================] - 0s 26ms/step - loss: 1.0455 - accuracy: 0.9017 - val_loss: 3.1099 - val_accuracy: 0.3167 - lr: 1.0000e-04\n",
            "Epoch 27/100\n",
            "11/11 [==============================] - 0s 28ms/step - loss: 1.0481 - accuracy: 0.9001 - val_loss: 3.0817 - val_accuracy: 0.3187 - lr: 1.0000e-04\n",
            "Epoch 28/100\n",
            "11/11 [==============================] - 0s 27ms/step - loss: 1.0318 - accuracy: 0.9053 - val_loss: 3.0568 - val_accuracy: 0.3182 - lr: 1.0000e-04\n",
            "Epoch 29/100\n",
            "11/11 [==============================] - 0s 28ms/step - loss: 1.0323 - accuracy: 0.9070 - val_loss: 3.0315 - val_accuracy: 0.3187 - lr: 1.0000e-04\n",
            "Epoch 30/100\n",
            "11/11 [==============================] - 0s 27ms/step - loss: 1.0277 - accuracy: 0.9045 - val_loss: 3.0037 - val_accuracy: 0.3237 - lr: 1.0000e-04\n",
            "Epoch 31/100\n",
            "11/11 [==============================] - 0s 28ms/step - loss: 1.0176 - accuracy: 0.9086 - val_loss: 2.9769 - val_accuracy: 0.3262 - lr: 1.0000e-04\n",
            "Epoch 32/100\n",
            "11/11 [==============================] - 0s 26ms/step - loss: 1.0135 - accuracy: 0.9058 - val_loss: 2.9526 - val_accuracy: 0.3247 - lr: 1.0000e-04\n",
            "Epoch 33/100\n",
            "11/11 [==============================] - 0s 28ms/step - loss: 1.0127 - accuracy: 0.9068 - val_loss: 2.9275 - val_accuracy: 0.3237 - lr: 1.0000e-04\n",
            "Epoch 34/100\n",
            "11/11 [==============================] - 0s 27ms/step - loss: 1.0029 - accuracy: 0.9083 - val_loss: 2.9008 - val_accuracy: 0.3342 - lr: 1.0000e-04\n",
            "Epoch 35/100\n",
            "11/11 [==============================] - 0s 26ms/step - loss: 1.0028 - accuracy: 0.9091 - val_loss: 2.8760 - val_accuracy: 0.3322 - lr: 1.0000e-04\n",
            "Epoch 36/100\n",
            "11/11 [==============================] - 0s 27ms/step - loss: 0.9927 - accuracy: 0.9092 - val_loss: 2.8489 - val_accuracy: 0.3317 - lr: 1.0000e-04\n",
            "Epoch 37/100\n",
            "11/11 [==============================] - 0s 31ms/step - loss: 0.9876 - accuracy: 0.9141 - val_loss: 2.8199 - val_accuracy: 0.3332 - lr: 1.0000e-04\n",
            "Epoch 38/100\n",
            "11/11 [==============================] - 0s 29ms/step - loss: 0.9895 - accuracy: 0.9080 - val_loss: 2.7922 - val_accuracy: 0.3332 - lr: 1.0000e-04\n",
            "Epoch 39/100\n",
            "11/11 [==============================] - 0s 27ms/step - loss: 0.9851 - accuracy: 0.9075 - val_loss: 2.7696 - val_accuracy: 0.3342 - lr: 1.0000e-04\n",
            "Epoch 40/100\n",
            "11/11 [==============================] - 0s 28ms/step - loss: 0.9751 - accuracy: 0.9148 - val_loss: 2.7470 - val_accuracy: 0.3337 - lr: 1.0000e-04\n",
            "Epoch 41/100\n",
            "11/11 [==============================] - 0s 28ms/step - loss: 0.9683 - accuracy: 0.9148 - val_loss: 2.7286 - val_accuracy: 0.3302 - lr: 1.0000e-04\n",
            "Epoch 42/100\n",
            "11/11 [==============================] - 0s 28ms/step - loss: 0.9691 - accuracy: 0.9122 - val_loss: 2.7119 - val_accuracy: 0.3327 - lr: 1.0000e-04\n",
            "Epoch 43/100\n",
            "11/11 [==============================] - 0s 31ms/step - loss: 0.9611 - accuracy: 0.9184 - val_loss: 2.6912 - val_accuracy: 0.3402 - lr: 1.0000e-04\n",
            "Epoch 44/100\n",
            "11/11 [==============================] - 0s 31ms/step - loss: 0.9579 - accuracy: 0.9162 - val_loss: 2.6731 - val_accuracy: 0.3402 - lr: 1.0000e-04\n",
            "Epoch 45/100\n",
            "11/11 [==============================] - 0s 30ms/step - loss: 0.9585 - accuracy: 0.9151 - val_loss: 2.6625 - val_accuracy: 0.3402 - lr: 1.0000e-04\n",
            "Epoch 46/100\n",
            "11/11 [==============================] - 0s 30ms/step - loss: 0.9511 - accuracy: 0.9186 - val_loss: 2.6484 - val_accuracy: 0.3407 - lr: 1.0000e-04\n",
            "Epoch 47/100\n",
            "11/11 [==============================] - 0s 31ms/step - loss: 0.9441 - accuracy: 0.9218 - val_loss: 2.6389 - val_accuracy: 0.3372 - lr: 1.0000e-04\n",
            "Epoch 48/100\n",
            "11/11 [==============================] - 0s 30ms/step - loss: 0.9445 - accuracy: 0.9174 - val_loss: 2.6324 - val_accuracy: 0.3332 - lr: 1.0000e-04\n",
            "Epoch 49/100\n",
            "11/11 [==============================] - 0s 31ms/step - loss: 0.9387 - accuracy: 0.9177 - val_loss: 2.6293 - val_accuracy: 0.3322 - lr: 1.0000e-04\n",
            "Epoch 50/100\n",
            "11/11 [==============================] - 0s 32ms/step - loss: 0.9331 - accuracy: 0.9234 - val_loss: 2.6209 - val_accuracy: 0.3417 - lr: 1.0000e-04\n",
            "Epoch 51/100\n",
            "11/11 [==============================] - 0s 27ms/step - loss: 0.9324 - accuracy: 0.9200 - val_loss: 2.6284 - val_accuracy: 0.3417 - lr: 1.0000e-04\n",
            "Epoch 52/100\n",
            "11/11 [==============================] - 0s 27ms/step - loss: 0.9280 - accuracy: 0.9194 - val_loss: 2.6276 - val_accuracy: 0.3402 - lr: 1.0000e-04\n",
            "Epoch 53/100\n",
            "11/11 [==============================] - 0s 28ms/step - loss: 0.9324 - accuracy: 0.9188 - val_loss: 2.6316 - val_accuracy: 0.3402 - lr: 1.0000e-04\n",
            "Epoch 54/100\n",
            "11/11 [==============================] - 0s 28ms/step - loss: 0.9206 - accuracy: 0.9234 - val_loss: 2.6283 - val_accuracy: 0.3447 - lr: 1.0000e-04\n",
            "Epoch 55/100\n",
            "11/11 [==============================] - 0s 28ms/step - loss: 0.9194 - accuracy: 0.9195 - val_loss: 2.6270 - val_accuracy: 0.3462 - lr: 1.0000e-04\n",
            "Epoch 55: early stopping\n"
          ]
        }
      ],
      "source": [
        "history = model.fit(ds_fit, epochs=100, validation_data=ds_val, callbacks=callbacks)"
      ]
    },
    {
      "cell_type": "markdown",
      "metadata": {
        "id": "hT3qYnH5jpQa"
      },
      "source": [
        "## Resultados"
      ]
    },
    {
      "cell_type": "markdown",
      "metadata": {
        "id": "QV8Kxarajuse"
      },
      "source": [
        "Con los datos de test, probaremos que precisión se consigue."
      ]
    },
    {
      "cell_type": "code",
      "execution_count": 49,
      "metadata": {
        "colab": {
          "base_uri": "https://localhost:8080/"
        },
        "id": "YyxH93bXjzCg",
        "outputId": "ab92dc9f-b866-47a6-9d49-f634c737acd9"
      },
      "outputs": [
        {
          "name": "stdout",
          "output_type": "stream",
          "text": [
            "20/20 [==============================] - 0s 4ms/step - loss: 2.2784 - accuracy: 0.4746\n",
            "Test accuracy: 0.47458982467651367\n"
          ]
        }
      ],
      "source": [
        "BATCH_SIZE = 128\n",
        "ds_eval = (\n",
        "    ds_test.cache()\n",
        "    .batch(BATCH_SIZE)\n",
        "    .prefetch(AUTOTUNE)\n",
        ")\n",
        "test_loss, test_acc = model.evaluate(ds_eval)\n",
        "\n",
        "print('Test accuracy:', test_acc)"
      ]
    },
    {
      "cell_type": "markdown",
      "metadata": {
        "id": "NDRAIjHDj1g-"
      },
      "source": [
        "Hemos obtenido una precisión del 47% para los datos de validación\\\n",
        "Para analizar el entrenamiento podemos graficar la relación entre las precisiones de la red con datos de entrenamiento vs con datos de validación."
      ]
    },
    {
      "cell_type": "code",
      "execution_count": 50,
      "metadata": {
        "colab": {
          "base_uri": "https://localhost:8080/",
          "height": 472
        },
        "id": "ASAdaQgCj92B",
        "outputId": "7a74116f-f649-417e-8b72-a2710df0a0fe"
      },
      "outputs": [
        {
          "data": {
            "image/png": "[encoded data removed]",
            "text/plain": [
              "<Figure size 640x480 with 1 Axes>"
            ]
          },
          "metadata": {},
          "output_type": "display_data"
        }
      ],
      "source": [
        "import matplotlib.pyplot as plt\n",
        "# Extrae la precisión de entrenamiento y validación del historial\n",
        "train_accuracy = history.history['accuracy']\n",
        "val_accuracy = history.history['val_accuracy']\n",
        "\n",
        "# Número de épocas\n",
        "epochs = range(1, len(train_accuracy) + 1)\n",
        "\n",
        "# Grafica la precisión de entrenamiento y validación en función de las épocas\n",
        "plt.plot(epochs, train_accuracy, label='Precisión con datos de entrenamiento')\n",
        "plt.plot(epochs, val_accuracy, label='Precisión con datos de validación')\n",
        "plt.title('Entrenamiento vs Validación')\n",
        "plt.xlabel('Epócas')\n",
        "plt.ylabel('Precisión')\n",
        "plt.legend()\n",
        "plt.show()"
      ]
    },
    {
      "cell_type": "markdown",
      "metadata": {
        "id": "finHr2WWkB0o"
      },
      "source": [
        "Observamos como la red siempre mejora la precisión con los datos de entrenamiento y esto acaba provocando un sobreentrenamiento, donde la precisión de datos de validación empeora ya que la red se sobreajusta a los datos de entrenamiento y pierde generalidad."
      ]
    }
  ],
  "metadata": {
    "colab": {
      "include_colab_link": true,
      "provenance": []
    },
    "kernelspec": {
      "display_name": "Python 3",
      "name": "python3"
    },
    "language_info": {
      "codemirror_mode": {
        "name": "ipython",
        "version": 3
      },
      "file_extension": ".py",
      "mimetype": "text/x-python",
      "name": "python",
      "nbconvert_exporter": "python",
      "pygments_lexer": "ipython3",
      "version": "3.11.4"
    }
  },
  "nbformat": 4,
  "nbformat_minor": 0
}
