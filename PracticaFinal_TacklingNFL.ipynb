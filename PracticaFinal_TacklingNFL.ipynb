{
  "cells": [
    {
      "cell_type": "markdown",
      "metadata": {
        "colab_type": "text",
        "id": "view-in-github"
      },
      "source": [
        "<a href=\"https://colab.research.google.com/github/Alf-caput/NFL2022_TacklePredictNN/blob/dev2/PracticaFinal_TacklingNFL.ipynb\" target=\"_parent\"><img src=\"https://colab.research.google.com/assets/colab-badge.svg\" alt=\"Open In Colab\"/></a>"
      ]
    },
    {
      "cell_type": "code",
      "execution_count": 38,
      "metadata": {
        "colab": {
          "base_uri": "https://localhost:8080/",
          "height": 105
        },
        "id": "VkGAGUxCQnyC",
        "outputId": "eb581d7e-a52b-45b4-e06c-cb0301fc0d37"
      },
      "outputs": [],
      "source": [
        "import gdown\n",
        "import os\n",
        "id = '1V_fIjH-WGHTVgyRkdNFkZ6XxiqDoaMrA'\n",
        "folder = 'nfl-big-data-bowl-2024'\n",
        "endpoint = '.zip'\n",
        "\n",
        "url = f'https://drive.google.com/uc?id={id}'\n",
        "\n",
        "output = folder + endpoint\n",
        "\n",
        "if not os.path.exists(output):\n",
        "    gdown.download(url, output, quiet=False)"
      ]
    },
    {
      "cell_type": "code",
      "execution_count": 39,
      "metadata": {
        "id": "rJT6exvHSFAS"
      },
      "outputs": [],
      "source": [
        "from zipfile import ZipFile\n",
        "\n",
        "if not os.path.exists(folder):\n",
        "\twith ZipFile(output, 'r') as zObject:\n",
        "\t\tzObject.extractall(folder)"
      ]
    },
    {
      "cell_type": "code",
      "execution_count": 40,
      "metadata": {
        "id": "mleY-CvVkyVY"
      },
      "outputs": [],
      "source": [
        "import pandas as pd\n",
        "import os\n",
        "\n",
        "csv_files = [file for file in os.listdir(folder) if file.endswith('.csv')]\n",
        "csv_files.sort()"
      ]
    },
    {
      "cell_type": "code",
      "execution_count": 41,
      "metadata": {
        "colab": {
          "base_uri": "https://localhost:8080/"
        },
        "id": "4QJSYktsIFGO",
        "outputId": "25ac0a29-fc1e-4021-9292-79969ebdf803"
      },
      "outputs": [
        {
          "name": "stdout",
          "output_type": "stream",
          "text": [
            "['games.csv', 'players.csv', 'plays.csv', 'tackles.csv', 'tracking_week_1.csv', 'tracking_week_2.csv', 'tracking_week_3.csv', 'tracking_week_4.csv', 'tracking_week_5.csv', 'tracking_week_6.csv', 'tracking_week_7.csv', 'tracking_week_8.csv', 'tracking_week_9.csv']\n"
          ]
        }
      ],
      "source": [
        "print(csv_files)"
      ]
    },
    {
      "cell_type": "markdown",
      "metadata": {
        "id": "pNV-NWMmOxP7"
      },
      "source": [
        "Dentro de la carpeta nfl-big-data-bowl-2024 se encuentran los csv que utilizaremos, a continuación creamos un diccionario para facilitarnos el acceso a los diferentes dataframes (dfs)."
      ]
    },
    {
      "cell_type": "code",
      "execution_count": 42,
      "metadata": {
        "id": "5Pcf_MBaIGpB"
      },
      "outputs": [],
      "source": [
        "if 'dfs' not in locals():\n",
        "    dfs = {os.path.splitext(file)[0]: pd.read_csv(os.path.join(folder, file)) for file in csv_files}"
      ]
    },
    {
      "cell_type": "code",
      "execution_count": 43,
      "metadata": {},
      "outputs": [
        {
          "data": {
            "text/plain": [
              "dict_keys(['games', 'players', 'plays', 'tackles', 'tracking_week_1', 'tracking_week_2', 'tracking_week_3', 'tracking_week_4', 'tracking_week_5', 'tracking_week_6', 'tracking_week_7', 'tracking_week_8', 'tracking_week_9'])"
            ]
          },
          "execution_count": 43,
          "metadata": {},
          "output_type": "execute_result"
        }
      ],
      "source": [
        "dfs.keys()"
      ]
    },
    {
      "cell_type": "code",
      "execution_count": 44,
      "metadata": {},
      "outputs": [],
      "source": [
        "df = dfs['tracking_week_1']\n",
        "\n",
        "game_ids = df['gameId'].unique()\n",
        "game_1 = df[df['gameId']==game_ids[0]]\n",
        "\n",
        "play_ids = game_1['playId'].unique()\n",
        "play1_game1 = game_1[game_1['playId']==play_ids[0]]\n",
        "\n",
        "frame_ids = play1_game1['frameId'].unique()\n",
        "play1_game1_frame1 = play1_game1[play1_game1['frameId']==frame_ids[0]]"
      ]
    },
    {
      "cell_type": "code",
      "execution_count": 45,
      "metadata": {},
      "outputs": [
        {
          "data": {
            "text/html": [
              "<div>\n",
              "<style scoped>\n",
              "    .dataframe tbody tr th:only-of-type {\n",
              "        vertical-align: middle;\n",
              "    }\n",
              "\n",
              "    .dataframe tbody tr th {\n",
              "        vertical-align: top;\n",
              "    }\n",
              "\n",
              "    .dataframe thead th {\n",
              "        text-align: right;\n",
              "    }\n",
              "</style>\n",
              "<table border=\"1\" class=\"dataframe\">\n",
              "  <thead>\n",
              "    <tr style=\"text-align: right;\">\n",
              "      <th></th>\n",
              "      <th>gameId</th>\n",
              "      <th>playId</th>\n",
              "      <th>nflId</th>\n",
              "      <th>displayName</th>\n",
              "      <th>frameId</th>\n",
              "      <th>time</th>\n",
              "      <th>jerseyNumber</th>\n",
              "      <th>club</th>\n",
              "      <th>playDirection</th>\n",
              "      <th>x</th>\n",
              "      <th>y</th>\n",
              "      <th>s</th>\n",
              "      <th>a</th>\n",
              "      <th>dis</th>\n",
              "      <th>o</th>\n",
              "      <th>dir</th>\n",
              "      <th>event</th>\n",
              "    </tr>\n",
              "  </thead>\n",
              "  <tbody>\n",
              "    <tr>\n",
              "      <th>0</th>\n",
              "      <td>2022090800</td>\n",
              "      <td>56</td>\n",
              "      <td>35472.0</td>\n",
              "      <td>Rodger Saffold</td>\n",
              "      <td>1</td>\n",
              "      <td>2022-09-08 20:24:05.200000</td>\n",
              "      <td>76.0</td>\n",
              "      <td>BUF</td>\n",
              "      <td>left</td>\n",
              "      <td>88.37</td>\n",
              "      <td>27.27</td>\n",
              "      <td>1.62</td>\n",
              "      <td>1.15</td>\n",
              "      <td>0.16</td>\n",
              "      <td>231.74</td>\n",
              "      <td>147.90</td>\n",
              "      <td>NaN</td>\n",
              "    </tr>\n",
              "    <tr>\n",
              "      <th>22</th>\n",
              "      <td>2022090800</td>\n",
              "      <td>56</td>\n",
              "      <td>38577.0</td>\n",
              "      <td>Bobby Wagner</td>\n",
              "      <td>1</td>\n",
              "      <td>2022-09-08 20:24:05.200000</td>\n",
              "      <td>45.0</td>\n",
              "      <td>LA</td>\n",
              "      <td>left</td>\n",
              "      <td>78.25</td>\n",
              "      <td>27.53</td>\n",
              "      <td>1.24</td>\n",
              "      <td>3.81</td>\n",
              "      <td>0.11</td>\n",
              "      <td>4.20</td>\n",
              "      <td>331.67</td>\n",
              "      <td>NaN</td>\n",
              "    </tr>\n",
              "    <tr>\n",
              "      <th>44</th>\n",
              "      <td>2022090800</td>\n",
              "      <td>56</td>\n",
              "      <td>41239.0</td>\n",
              "      <td>Aaron Donald</td>\n",
              "      <td>1</td>\n",
              "      <td>2022-09-08 20:24:05.200000</td>\n",
              "      <td>99.0</td>\n",
              "      <td>LA</td>\n",
              "      <td>left</td>\n",
              "      <td>91.08</td>\n",
              "      <td>31.61</td>\n",
              "      <td>3.91</td>\n",
              "      <td>2.34</td>\n",
              "      <td>0.40</td>\n",
              "      <td>168.33</td>\n",
              "      <td>132.02</td>\n",
              "      <td>NaN</td>\n",
              "    </tr>\n",
              "    <tr>\n",
              "      <th>66</th>\n",
              "      <td>2022090800</td>\n",
              "      <td>56</td>\n",
              "      <td>42392.0</td>\n",
              "      <td>Mitch Morse</td>\n",
              "      <td>1</td>\n",
              "      <td>2022-09-08 20:24:05.200000</td>\n",
              "      <td>60.0</td>\n",
              "      <td>BUF</td>\n",
              "      <td>left</td>\n",
              "      <td>88.25</td>\n",
              "      <td>28.74</td>\n",
              "      <td>0.67</td>\n",
              "      <td>1.97</td>\n",
              "      <td>0.07</td>\n",
              "      <td>244.21</td>\n",
              "      <td>30.29</td>\n",
              "      <td>NaN</td>\n",
              "    </tr>\n",
              "    <tr>\n",
              "      <th>88</th>\n",
              "      <td>2022090800</td>\n",
              "      <td>56</td>\n",
              "      <td>42489.0</td>\n",
              "      <td>Stefon Diggs</td>\n",
              "      <td>1</td>\n",
              "      <td>2022-09-08 20:24:05.200000</td>\n",
              "      <td>14.0</td>\n",
              "      <td>BUF</td>\n",
              "      <td>left</td>\n",
              "      <td>80.60</td>\n",
              "      <td>38.29</td>\n",
              "      <td>6.23</td>\n",
              "      <td>0.90</td>\n",
              "      <td>0.62</td>\n",
              "      <td>140.05</td>\n",
              "      <td>189.38</td>\n",
              "      <td>NaN</td>\n",
              "    </tr>\n",
              "  </tbody>\n",
              "</table>\n",
              "</div>"
            ],
            "text/plain": [
              "        gameId  playId    nflId     displayName  frameId  \\\n",
              "0   2022090800      56  35472.0  Rodger Saffold        1   \n",
              "22  2022090800      56  38577.0    Bobby Wagner        1   \n",
              "44  2022090800      56  41239.0    Aaron Donald        1   \n",
              "66  2022090800      56  42392.0     Mitch Morse        1   \n",
              "88  2022090800      56  42489.0    Stefon Diggs        1   \n",
              "\n",
              "                          time  jerseyNumber club playDirection      x      y  \\\n",
              "0   2022-09-08 20:24:05.200000          76.0  BUF          left  88.37  27.27   \n",
              "22  2022-09-08 20:24:05.200000          45.0   LA          left  78.25  27.53   \n",
              "44  2022-09-08 20:24:05.200000          99.0   LA          left  91.08  31.61   \n",
              "66  2022-09-08 20:24:05.200000          60.0  BUF          left  88.25  28.74   \n",
              "88  2022-09-08 20:24:05.200000          14.0  BUF          left  80.60  38.29   \n",
              "\n",
              "       s     a   dis       o     dir event  \n",
              "0   1.62  1.15  0.16  231.74  147.90   NaN  \n",
              "22  1.24  3.81  0.11    4.20  331.67   NaN  \n",
              "44  3.91  2.34  0.40  168.33  132.02   NaN  \n",
              "66  0.67  1.97  0.07  244.21   30.29   NaN  \n",
              "88  6.23  0.90  0.62  140.05  189.38   NaN  "
            ]
          },
          "execution_count": 45,
          "metadata": {},
          "output_type": "execute_result"
        }
      ],
      "source": [
        "play1_game1_frame1.head()"
      ]
    },
    {
      "cell_type": "code",
      "execution_count": 46,
      "metadata": {},
      "outputs": [
        {
          "name": "stdout",
          "output_type": "stream",
          "text": [
            "True\n"
          ]
        }
      ],
      "source": [
        "import os\n",
        "print(os.path.exists(output))"
      ]
    },
    {
      "cell_type": "code",
      "execution_count": null,
      "metadata": {},
      "outputs": [],
      "source": []
    }
  ],
  "metadata": {
    "accelerator": "GPU",
    "colab": {
      "authorship_tag": "ABX9TyNv6Wv0w3wvQxwg5wLftuGR",
      "gpuType": "T4",
      "include_colab_link": true,
      "provenance": []
    },
    "kernelspec": {
      "display_name": "Python 3",
      "name": "python3"
    },
    "language_info": {
      "codemirror_mode": {
        "name": "ipython",
        "version": 3
      },
      "file_extension": ".py",
      "mimetype": "text/x-python",
      "name": "python",
      "nbconvert_exporter": "python",
      "pygments_lexer": "ipython3",
      "version": "3.11.4"
    }
  },
  "nbformat": 4,
  "nbformat_minor": 0
}
