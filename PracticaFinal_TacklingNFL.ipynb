{
  "cells": [
    {
      "cell_type": "markdown",
      "metadata": {
        "colab_type": "text",
        "id": "view-in-github"
      },
      "source": [
        "<a href=\"https://colab.research.google.com/github/Alf-caput/NFL2022_TacklePredictNN/blob/dev2/PracticaFinal_TacklingNFL.ipynb\" target=\"_parent\"><img src=\"https://colab.research.google.com/assets/colab-badge.svg\" alt=\"Open In Colab\"/></a>"
      ]
    },
    {
      "cell_type": "code",
      "execution_count": 47,
      "metadata": {
        "colab": {
          "base_uri": "https://localhost:8080/",
          "height": 105
        },
        "id": "VkGAGUxCQnyC",
        "outputId": "eb581d7e-a52b-45b4-e06c-cb0301fc0d37"
      },
      "outputs": [],
      "source": [
        "import gdown\n",
        "import os\n",
        "id = '1V_fIjH-WGHTVgyRkdNFkZ6XxiqDoaMrA'\n",
        "folder = 'nfl-big-data-bowl-2024'\n",
        "endpoint = '.zip'\n",
        "\n",
        "url = f'https://drive.google.com/uc?id={id}'\n",
        "\n",
        "output = folder + endpoint\n",
        "\n",
        "if not os.path.exists(output):\n",
        "    gdown.download(url, output, quiet=False)"
      ]
    },
    {
      "cell_type": "code",
      "execution_count": 48,
      "metadata": {
        "id": "rJT6exvHSFAS"
      },
      "outputs": [],
      "source": [
        "from zipfile import ZipFile\n",
        "\n",
        "if not os.path.exists(folder):\n",
        "\twith ZipFile(output, 'r') as zObject:\n",
        "\t\tzObject.extractall(folder)"
      ]
    },
    {
      "cell_type": "code",
      "execution_count": 49,
      "metadata": {
        "id": "mleY-CvVkyVY"
      },
      "outputs": [],
      "source": [
        "import pandas as pd\n",
        "import os\n",
        "\n",
        "csv_files = [file for file in os.listdir(folder) if file.endswith('.csv')]\n",
        "csv_files.sort()"
      ]
    },
    {
      "cell_type": "code",
      "execution_count": 50,
      "metadata": {
        "colab": {
          "base_uri": "https://localhost:8080/"
        },
        "id": "4QJSYktsIFGO",
        "outputId": "25ac0a29-fc1e-4021-9292-79969ebdf803"
      },
      "outputs": [
        {
          "name": "stdout",
          "output_type": "stream",
          "text": [
            "['games.csv', 'players.csv', 'plays.csv', 'tackles.csv', 'tracking_week_1.csv', 'tracking_week_2.csv', 'tracking_week_3.csv', 'tracking_week_4.csv', 'tracking_week_5.csv', 'tracking_week_6.csv', 'tracking_week_7.csv', 'tracking_week_8.csv', 'tracking_week_9.csv']\n"
          ]
        }
      ],
      "source": [
        "print(csv_files)"
      ]
    },
    {
      "cell_type": "markdown",
      "metadata": {
        "id": "pNV-NWMmOxP7"
      },
      "source": [
        "Dentro de la carpeta nfl-big-data-bowl-2024 se encuentran los csv que utilizaremos, a continuación creamos un diccionario para facilitarnos el acceso a los diferentes dataframes (dfs)."
      ]
    },
    {
      "cell_type": "code",
      "execution_count": 51,
      "metadata": {
        "id": "5Pcf_MBaIGpB"
      },
      "outputs": [],
      "source": [
        "if 'dfs' not in locals():\n",
        "    dfs = {os.path.splitext(file)[0]: pd.read_csv(os.path.join(folder, file)) for file in csv_files}"
      ]
    },
    {
      "cell_type": "code",
      "execution_count": 52,
      "metadata": {},
      "outputs": [
        {
          "data": {
            "text/plain": [
              "dict_keys(['games', 'players', 'plays', 'tackles', 'tracking_week_1', 'tracking_week_2', 'tracking_week_3', 'tracking_week_4', 'tracking_week_5', 'tracking_week_6', 'tracking_week_7', 'tracking_week_8', 'tracking_week_9'])"
            ]
          },
          "execution_count": 52,
          "metadata": {},
          "output_type": "execute_result"
        }
      ],
      "source": [
        "dfs.keys()"
      ]
    },
    {
      "cell_type": "code",
      "execution_count": 53,
      "metadata": {},
      "outputs": [],
      "source": [
        "df_week1 = dfs['tracking_week_1']\n",
        "\n",
        "game_ids = df_week1['gameId'].unique()\n",
        "df_week1_game1 = df_week1[df_week1['gameId']==game_ids[0]]\n",
        "\n",
        "play_ids = df_week1_game1['playId'].unique()\n",
        "df_week1_game1_play1 = df_week1_game1[df_week1_game1['playId']==play_ids[0]]\n",
        "\n",
        "frame_ids = df_week1_game1_play1['frameId'].unique()\n",
        "df_week1_game1_play1_frame1 = df_week1_game1_play1[df_week1_game1_play1['frameId']==frame_ids[0]]"
      ]
    },
    {
      "cell_type": "code",
      "execution_count": 64,
      "metadata": {},
      "outputs": [
        {
          "data": {
            "text/html": [
              "<div>\n",
              "<style scoped>\n",
              "    .dataframe tbody tr th:only-of-type {\n",
              "        vertical-align: middle;\n",
              "    }\n",
              "\n",
              "    .dataframe tbody tr th {\n",
              "        vertical-align: top;\n",
              "    }\n",
              "\n",
              "    .dataframe thead th {\n",
              "        text-align: right;\n",
              "    }\n",
              "</style>\n",
              "<table border=\"1\" class=\"dataframe\">\n",
              "  <thead>\n",
              "    <tr style=\"text-align: right;\">\n",
              "      <th></th>\n",
              "      <th>gameId</th>\n",
              "      <th>playId</th>\n",
              "      <th>nflId</th>\n",
              "      <th>displayName</th>\n",
              "      <th>frameId</th>\n",
              "      <th>time</th>\n",
              "      <th>jerseyNumber</th>\n",
              "      <th>club</th>\n",
              "      <th>playDirection</th>\n",
              "      <th>x</th>\n",
              "      <th>y</th>\n",
              "      <th>s</th>\n",
              "      <th>a</th>\n",
              "      <th>dis</th>\n",
              "      <th>o</th>\n",
              "      <th>dir</th>\n",
              "      <th>event</th>\n",
              "    </tr>\n",
              "  </thead>\n",
              "  <tbody>\n",
              "    <tr>\n",
              "      <th>0</th>\n",
              "      <td>2022090800</td>\n",
              "      <td>56</td>\n",
              "      <td>35472.0</td>\n",
              "      <td>Rodger Saffold</td>\n",
              "      <td>1</td>\n",
              "      <td>2022-09-08 20:24:05.200000</td>\n",
              "      <td>76.0</td>\n",
              "      <td>BUF</td>\n",
              "      <td>left</td>\n",
              "      <td>88.37</td>\n",
              "      <td>27.27</td>\n",
              "      <td>1.62</td>\n",
              "      <td>1.15</td>\n",
              "      <td>0.16</td>\n",
              "      <td>231.74</td>\n",
              "      <td>147.9</td>\n",
              "      <td>NaN</td>\n",
              "    </tr>\n",
              "  </tbody>\n",
              "</table>\n",
              "</div>"
            ],
            "text/plain": [
              "       gameId  playId    nflId     displayName  frameId  \\\n",
              "0  2022090800      56  35472.0  Rodger Saffold        1   \n",
              "\n",
              "                         time  jerseyNumber club playDirection      x      y  \\\n",
              "0  2022-09-08 20:24:05.200000          76.0  BUF          left  88.37  27.27   \n",
              "\n",
              "      s     a   dis       o    dir event  \n",
              "0  1.62  1.15  0.16  231.74  147.9   NaN  "
            ]
          },
          "execution_count": 64,
          "metadata": {},
          "output_type": "execute_result"
        }
      ],
      "source": [
        "df_week1_game1_play1_frame1.head(1)"
      ]
    },
    {
      "cell_type": "code",
      "execution_count": 66,
      "metadata": {},
      "outputs": [
        {
          "name": "stderr",
          "output_type": "stream",
          "text": [
            "C:\\Users\\alfre\\AppData\\Local\\Temp\\ipykernel_17380\\905074420.py:1: SettingWithCopyWarning: \n",
            "A value is trying to be set on a copy of a slice from a DataFrame\n",
            "\n",
            "See the caveats in the documentation: https://pandas.pydata.org/pandas-docs/stable/user_guide/indexing.html#returning-a-view-versus-a-copy\n",
            "  df_week1_game1_play1_frame1.drop(columns=['displayName', 'jerseyNumber'], inplace=True)\n"
          ]
        },
        {
          "data": {
            "text/html": [
              "<div>\n",
              "<style scoped>\n",
              "    .dataframe tbody tr th:only-of-type {\n",
              "        vertical-align: middle;\n",
              "    }\n",
              "\n",
              "    .dataframe tbody tr th {\n",
              "        vertical-align: top;\n",
              "    }\n",
              "\n",
              "    .dataframe thead th {\n",
              "        text-align: right;\n",
              "    }\n",
              "</style>\n",
              "<table border=\"1\" class=\"dataframe\">\n",
              "  <thead>\n",
              "    <tr style=\"text-align: right;\">\n",
              "      <th></th>\n",
              "      <th>gameId</th>\n",
              "      <th>playId</th>\n",
              "      <th>nflId</th>\n",
              "      <th>frameId</th>\n",
              "      <th>time</th>\n",
              "      <th>club</th>\n",
              "      <th>playDirection</th>\n",
              "      <th>x</th>\n",
              "      <th>y</th>\n",
              "      <th>s</th>\n",
              "      <th>a</th>\n",
              "      <th>dis</th>\n",
              "      <th>o</th>\n",
              "      <th>dir</th>\n",
              "      <th>event</th>\n",
              "    </tr>\n",
              "  </thead>\n",
              "  <tbody>\n",
              "    <tr>\n",
              "      <th>0</th>\n",
              "      <td>2022090800</td>\n",
              "      <td>56</td>\n",
              "      <td>35472.0</td>\n",
              "      <td>1</td>\n",
              "      <td>2022-09-08 20:24:05.200000</td>\n",
              "      <td>BUF</td>\n",
              "      <td>left</td>\n",
              "      <td>88.37</td>\n",
              "      <td>27.27</td>\n",
              "      <td>1.62</td>\n",
              "      <td>1.15</td>\n",
              "      <td>0.16</td>\n",
              "      <td>231.74</td>\n",
              "      <td>147.90</td>\n",
              "      <td>NaN</td>\n",
              "    </tr>\n",
              "    <tr>\n",
              "      <th>22</th>\n",
              "      <td>2022090800</td>\n",
              "      <td>56</td>\n",
              "      <td>38577.0</td>\n",
              "      <td>1</td>\n",
              "      <td>2022-09-08 20:24:05.200000</td>\n",
              "      <td>LA</td>\n",
              "      <td>left</td>\n",
              "      <td>78.25</td>\n",
              "      <td>27.53</td>\n",
              "      <td>1.24</td>\n",
              "      <td>3.81</td>\n",
              "      <td>0.11</td>\n",
              "      <td>4.20</td>\n",
              "      <td>331.67</td>\n",
              "      <td>NaN</td>\n",
              "    </tr>\n",
              "    <tr>\n",
              "      <th>44</th>\n",
              "      <td>2022090800</td>\n",
              "      <td>56</td>\n",
              "      <td>41239.0</td>\n",
              "      <td>1</td>\n",
              "      <td>2022-09-08 20:24:05.200000</td>\n",
              "      <td>LA</td>\n",
              "      <td>left</td>\n",
              "      <td>91.08</td>\n",
              "      <td>31.61</td>\n",
              "      <td>3.91</td>\n",
              "      <td>2.34</td>\n",
              "      <td>0.40</td>\n",
              "      <td>168.33</td>\n",
              "      <td>132.02</td>\n",
              "      <td>NaN</td>\n",
              "    </tr>\n",
              "    <tr>\n",
              "      <th>66</th>\n",
              "      <td>2022090800</td>\n",
              "      <td>56</td>\n",
              "      <td>42392.0</td>\n",
              "      <td>1</td>\n",
              "      <td>2022-09-08 20:24:05.200000</td>\n",
              "      <td>BUF</td>\n",
              "      <td>left</td>\n",
              "      <td>88.25</td>\n",
              "      <td>28.74</td>\n",
              "      <td>0.67</td>\n",
              "      <td>1.97</td>\n",
              "      <td>0.07</td>\n",
              "      <td>244.21</td>\n",
              "      <td>30.29</td>\n",
              "      <td>NaN</td>\n",
              "    </tr>\n",
              "    <tr>\n",
              "      <th>88</th>\n",
              "      <td>2022090800</td>\n",
              "      <td>56</td>\n",
              "      <td>42489.0</td>\n",
              "      <td>1</td>\n",
              "      <td>2022-09-08 20:24:05.200000</td>\n",
              "      <td>BUF</td>\n",
              "      <td>left</td>\n",
              "      <td>80.60</td>\n",
              "      <td>38.29</td>\n",
              "      <td>6.23</td>\n",
              "      <td>0.90</td>\n",
              "      <td>0.62</td>\n",
              "      <td>140.05</td>\n",
              "      <td>189.38</td>\n",
              "      <td>NaN</td>\n",
              "    </tr>\n",
              "  </tbody>\n",
              "</table>\n",
              "</div>"
            ],
            "text/plain": [
              "        gameId  playId    nflId  frameId                        time club  \\\n",
              "0   2022090800      56  35472.0        1  2022-09-08 20:24:05.200000  BUF   \n",
              "22  2022090800      56  38577.0        1  2022-09-08 20:24:05.200000   LA   \n",
              "44  2022090800      56  41239.0        1  2022-09-08 20:24:05.200000   LA   \n",
              "66  2022090800      56  42392.0        1  2022-09-08 20:24:05.200000  BUF   \n",
              "88  2022090800      56  42489.0        1  2022-09-08 20:24:05.200000  BUF   \n",
              "\n",
              "   playDirection      x      y     s     a   dis       o     dir event  \n",
              "0           left  88.37  27.27  1.62  1.15  0.16  231.74  147.90   NaN  \n",
              "22          left  78.25  27.53  1.24  3.81  0.11    4.20  331.67   NaN  \n",
              "44          left  91.08  31.61  3.91  2.34  0.40  168.33  132.02   NaN  \n",
              "66          left  88.25  28.74  0.67  1.97  0.07  244.21   30.29   NaN  \n",
              "88          left  80.60  38.29  6.23  0.90  0.62  140.05  189.38   NaN  "
            ]
          },
          "execution_count": 66,
          "metadata": {},
          "output_type": "execute_result"
        }
      ],
      "source": [
        "df_week1_game1_play1_frame1.drop(columns=['displayName', 'jerseyNumber'], inplace=True)\n",
        "df_week1_game1_play1_frame1.head()"
      ]
    },
    {
      "cell_type": "code",
      "execution_count": 63,
      "metadata": {},
      "outputs": [
        {
          "data": {
            "image/png": "[encoded data removed]",
            "text/plain": [
              "<Figure size 1000x533 with 1 Axes>"
            ]
          },
          "metadata": {},
          "output_type": "display_data"
        }
      ],
      "source": [
        "import matplotlib.pyplot as plt\n",
        "\n",
        "frames = df_week1_game1_play1_frame1['frameId'].unique()\n",
        "clubs = df_week1_game1_play1_frame1['club'].unique()\n",
        "\n",
        "fig, ax = plt.subplots(figsize=(10, 5.33))\n",
        "\n",
        "for i, row in df_week1_game1_play1_frame1.iterrows():\n",
        "    if row['club'] == clubs[0]:\n",
        "        color = 'blue'\n",
        "    elif row['club'] == clubs[1]:\n",
        "        color = 'red'\n",
        "    else:\n",
        "        color = 'black'\n",
        "    ax.scatter(row['x'], row['y'], marker='o', color=color)\n",
        "plt.xticks(range(0, 110, 10))\n",
        "plt.yticks([0, 53.3])\n",
        "ax.set_facecolor('green')\n",
        "\n",
        "plt.show()\n"
      ]
    },
    {
      "cell_type": "code",
      "execution_count": null,
      "metadata": {},
      "outputs": [],
      "source": []
    }
  ],
  "metadata": {
    "accelerator": "GPU",
    "colab": {
      "authorship_tag": "ABX9TyNv6Wv0w3wvQxwg5wLftuGR",
      "gpuType": "T4",
      "include_colab_link": true,
      "provenance": []
    },
    "kernelspec": {
      "display_name": "Python 3",
      "name": "python3"
    },
    "language_info": {
      "codemirror_mode": {
        "name": "ipython",
        "version": 3
      },
      "file_extension": ".py",
      "mimetype": "text/x-python",
      "name": "python",
      "nbconvert_exporter": "python",
      "pygments_lexer": "ipython3",
      "version": "3.11.4"
    }
  },
  "nbformat": 4,
  "nbformat_minor": 0
}
