{
  "cells": [
    {
      "cell_type": "markdown",
      "metadata": {
        "id": "view-in-github",
        "colab_type": "text"
      },
      "source": [
        "<a href=\"https://colab.research.google.com/github/Alf-caput/NFL2022_TacklePredictNN/blob/dev3/GIF_football.ipynb\" target=\"_parent\"><img src=\"https://colab.research.google.com/assets/colab-badge.svg\" alt=\"Open In Colab\"/></a>"
      ]
    },
    {
      "cell_type": "markdown",
      "metadata": {
        "id": "ZT2kUFIpSLvZ"
      },
      "source": [
        "# Aprendizaje Automático UFV 2023-2024\n",
        "Equipo: Miguel Egido, Ana Robledano y Alfredo Robledano\\\n",
        "Grupo: 3ºB\\\n",
        "Grado: Ingeniería matemática\\\n",
        "Fecha: Enero 2024"
      ]
    },
    {
      "cell_type": "markdown",
      "metadata": {
        "id": "yPzgPycjO7Ud"
      },
      "source": [
        "# NFL Big Data Bowl 2024"
      ]
    },
    {
      "cell_type": "markdown",
      "metadata": {
        "id": "FRst4_BiSAyL"
      },
      "source": [
        "Kaggle lanza el concurso NFL Big Data Bowl 2024 sponsorizado por National Football League con un premio de $100,000.\n",
        "https://www.kaggle.com/c/nfl-big-data-bowl-2024\n",
        "\n",
        "Utilizaremos el dataset propuesto para el concurso en este proyecto"
      ]
    },
    {
      "cell_type": "markdown",
      "metadata": {
        "id": "xgEWUF9yQSFv"
      },
      "source": [
        "## INTRODUCCIÓN"
      ]
    },
    {
      "cell_type": "markdown",
      "metadata": {
        "id": "_SnnP8jVP5Ku"
      },
      "source": [
        "El fútbol americano es un deporte complejo donde la tarea principal de los defensores es derribar al portador del balón, mientras que este último busca avanzar en el campo. El siguiente proyecto tiene como objetivo crear métricas para valorar elementos clave en los placajes.\n",
        "\n",
        "Se utiliza la información de las estadísticas Next Gen de la NFL, incluyendo datos de seguimiento de jugadores de las primeras nueve semanas de la temporada 2022. Estos datos abarcan la ubicación, velocidad y aceleración de los 22 jugadores en el campo, así como la posición del balón. Además, se incorporan datos de evaluación de jugadores de PFF y estadísticas avanzadas de la NFL, como puntos esperados y probabilidad de victoria.\n",
        "\n",
        "La finalidad del proyecto es presentar los resultados a la NFL. Las métricas y análisis destacados podrían ser utilizados por los equipos de la NFL para evaluar a sus jugadores tanto en el ámbito ofensivo como defensivo."
      ]
    },
    {
      "cell_type": "markdown",
      "metadata": {
        "id": "IxlwZ7hJREu9"
      },
      "source": [
        "## OBJETIVO DEL PROYECTO\n",
        "En este proyecto nos proponemos predecir quién será el portador del balón del equipo atacante en una jugada de fútbol americano.\\\n",
        "Esta información es de gran interés para entrenadores y jugadores, que traten de preever y planear estrategias defensivas."
      ]
    },
    {
      "cell_type": "markdown",
      "metadata": {
        "id": "4BtvbycYtdFG"
      },
      "source": [
        "# Descarga del dataset"
      ]
    },
    {
      "cell_type": "markdown",
      "metadata": {
        "id": "R6rpufqBwa7i"
      },
      "source": [
        "Descargamos el dataset que ha sido previamente subido a google drive."
      ]
    },
    {
      "cell_type": "code",
      "execution_count": null,
      "metadata": {
        "colab": {
          "base_uri": "https://localhost:8080/",
          "height": 105
        },
        "id": "sWtLlXm4O6hO",
        "outputId": "6f51918d-721e-4e23-ef07-1b6d4546f35d"
      },
      "outputs": [
        {
          "output_type": "stream",
          "name": "stderr",
          "text": [
            "Downloading...\n",
            "From: https://drive.google.com/uc?id=1V_fIjH-WGHTVgyRkdNFkZ6XxiqDoaMrA\n",
            "To: /content/nfl-big-data-bowl-2024.zip\n",
            "100%|██████████| 293M/293M [00:08<00:00, 35.0MB/s]\n"
          ]
        },
        {
          "output_type": "execute_result",
          "data": {
            "text/plain": [
              "'nfl-big-data-bowl-2024.zip'"
            ],
            "application/vnd.google.colaboratory.intrinsic+json": {
              "type": "string"
            }
          },
          "metadata": {},
          "execution_count": 1
        }
      ],
      "source": [
        "import gdown\n",
        "\n",
        "id = '1V_fIjH-WGHTVgyRkdNFkZ6XxiqDoaMrA'\n",
        "folder = 'nfl-big-data-bowl-2024'\n",
        "endpoint = '.zip'\n",
        "\n",
        "url = f'https://drive.google.com/uc?id={id}'\n",
        "\n",
        "output = folder + endpoint\n",
        "\n",
        "gdown.download(url, output, quiet=False)"
      ]
    },
    {
      "cell_type": "markdown",
      "metadata": {
        "id": "Q9mmNH5Uws6D"
      },
      "source": [
        "Descomprimimos la carpeta `nfl-big-data-bowl-2024.zip` que se ha descargado."
      ]
    },
    {
      "cell_type": "code",
      "execution_count": null,
      "metadata": {
        "id": "3koK5q1RsAuZ"
      },
      "outputs": [],
      "source": [
        "from zipfile import ZipFile\n",
        "\n",
        "with ZipFile(output, 'r') as zObject:\n",
        "\tzObject.extractall(folder)"
      ]
    },
    {
      "cell_type": "markdown",
      "metadata": {
        "id": "jqR4p5jqxAbe"
      },
      "source": [
        "Creamos una lista que contiene cada archivo `.csv` de la carpeta ya descomprimida y la ordenamos."
      ]
    },
    {
      "cell_type": "code",
      "execution_count": null,
      "metadata": {
        "id": "D3JLWPyRsDjp"
      },
      "outputs": [],
      "source": [
        "import pandas as pd\n",
        "import os\n",
        "\n",
        "csv_files = [file for file in os.listdir(folder) if file.endswith('.csv')]\n",
        "csv_files.sort()"
      ]
    },
    {
      "cell_type": "markdown",
      "metadata": {
        "id": "iAuQoKkaxoF1"
      },
      "source": [
        "Dentro de la carpeta `nfl-big-data-bowl-2024` se encuentran los csv que utilizaremos."
      ]
    },
    {
      "cell_type": "code",
      "execution_count": null,
      "metadata": {
        "colab": {
          "base_uri": "https://localhost:8080/"
        },
        "id": "JLbKlDH7sFFW",
        "outputId": "cd9dcff4-63ee-4f3e-aa53-d61410ccc831"
      },
      "outputs": [
        {
          "output_type": "stream",
          "name": "stdout",
          "text": [
            "['games.csv', 'players.csv', 'plays.csv', 'tackles.csv', 'tracking_week_1.csv', 'tracking_week_2.csv', 'tracking_week_3.csv', 'tracking_week_4.csv', 'tracking_week_5.csv', 'tracking_week_6.csv', 'tracking_week_7.csv', 'tracking_week_8.csv', 'tracking_week_9.csv']\n"
          ]
        }
      ],
      "source": [
        "print(csv_files)"
      ]
    },
    {
      "cell_type": "markdown",
      "metadata": {
        "id": "90Gd5LfYsGp5"
      },
      "source": [
        "A continuación creamos un diccionario para facilitarnos el acceso a los diferentes dataframes (dfs)."
      ]
    },
    {
      "cell_type": "code",
      "execution_count": null,
      "metadata": {
        "id": "rEuqgyUDsHI7"
      },
      "outputs": [],
      "source": [
        "if 'dfs' not in locals(): # Si ya se ha creado, no se volverá a crear\n",
        "  dfs = {os.path.splitext(file)[0]: pd.read_csv(os.path.join(folder, file)) for file in csv_files}"
      ]
    },
    {
      "cell_type": "markdown",
      "metadata": {
        "id": "KfKORcBQy-tz"
      },
      "source": [
        "En el diccionario, si especificamos la clave \"`games`\" obtenemos el contenido del csv."
      ]
    },
    {
      "cell_type": "markdown",
      "metadata": {
        "id": "2sDNuJhv-5CO"
      },
      "source": [
        "# Estudio previo de los datos. Ejemplo frame de una jugada"
      ]
    },
    {
      "cell_type": "markdown",
      "metadata": {
        "id": "6hlqaqKw_bPB"
      },
      "source": [
        "Tenemos varios dataframes que vamos a analizar para ver qué enfoque dar a los datos de entrada y de salida de la red neuronal.\n",
        "\n",
        "Nota: Ya que la cantidad de datos en cada tabla impresa es bastante grande, usamos `.head(3)` para mostrar solamente las 3 primeras filas."
      ]
    },
    {
      "cell_type": "markdown",
      "metadata": {
        "id": "RgJCkrp9AUfr"
      },
      "source": [
        "- Resultados de partidos"
      ]
    },
    {
      "cell_type": "code",
      "execution_count": null,
      "metadata": {
        "colab": {
          "base_uri": "https://localhost:8080/",
          "height": 163
        },
        "id": "99TojL1JsI3h",
        "outputId": "eb7576b3-8342-489e-a32a-65e55d7709aa"
      },
      "outputs": [
        {
          "output_type": "execute_result",
          "data": {
            "text/plain": [
              "       gameId  season  week    gameDate gameTimeEastern homeTeamAbbr  \\\n",
              "0  2022090800    2022     1  09/08/2022        20:20:00           LA   \n",
              "1  2022091100    2022     1  09/11/2022        13:00:00          ATL   \n",
              "2  2022091101    2022     1  09/11/2022        13:00:00          CAR   \n",
              "\n",
              "  visitorTeamAbbr  homeFinalScore  visitorFinalScore  \n",
              "0             BUF              10                 31  \n",
              "1              NO              26                 27  \n",
              "2             CLE              24                 26  "
            ],
            "text/html": [
              "\n",
              "  <div id=\"df-5dc2da73-7f21-4c20-86df-baa8aa273640\" class=\"colab-df-container\">\n",
              "    <div>\n",
              "<style scoped>\n",
              "    .dataframe tbody tr th:only-of-type {\n",
              "        vertical-align: middle;\n",
              "    }\n",
              "\n",
              "    .dataframe tbody tr th {\n",
              "        vertical-align: top;\n",
              "    }\n",
              "\n",
              "    .dataframe thead th {\n",
              "        text-align: right;\n",
              "    }\n",
              "</style>\n",
              "<table border=\"1\" class=\"dataframe\">\n",
              "  <thead>\n",
              "    <tr style=\"text-align: right;\">\n",
              "      <th></th>\n",
              "      <th>gameId</th>\n",
              "      <th>season</th>\n",
              "      <th>week</th>\n",
              "      <th>gameDate</th>\n",
              "      <th>gameTimeEastern</th>\n",
              "      <th>homeTeamAbbr</th>\n",
              "      <th>visitorTeamAbbr</th>\n",
              "      <th>homeFinalScore</th>\n",
              "      <th>visitorFinalScore</th>\n",
              "    </tr>\n",
              "  </thead>\n",
              "  <tbody>\n",
              "    <tr>\n",
              "      <th>0</th>\n",
              "      <td>2022090800</td>\n",
              "      <td>2022</td>\n",
              "      <td>1</td>\n",
              "      <td>09/08/2022</td>\n",
              "      <td>20:20:00</td>\n",
              "      <td>LA</td>\n",
              "      <td>BUF</td>\n",
              "      <td>10</td>\n",
              "      <td>31</td>\n",
              "    </tr>\n",
              "    <tr>\n",
              "      <th>1</th>\n",
              "      <td>2022091100</td>\n",
              "      <td>2022</td>\n",
              "      <td>1</td>\n",
              "      <td>09/11/2022</td>\n",
              "      <td>13:00:00</td>\n",
              "      <td>ATL</td>\n",
              "      <td>NO</td>\n",
              "      <td>26</td>\n",
              "      <td>27</td>\n",
              "    </tr>\n",
              "    <tr>\n",
              "      <th>2</th>\n",
              "      <td>2022091101</td>\n",
              "      <td>2022</td>\n",
              "      <td>1</td>\n",
              "      <td>09/11/2022</td>\n",
              "      <td>13:00:00</td>\n",
              "      <td>CAR</td>\n",
              "      <td>CLE</td>\n",
              "      <td>24</td>\n",
              "      <td>26</td>\n",
              "    </tr>\n",
              "  </tbody>\n",
              "</table>\n",
              "</div>\n",
              "    <div class=\"colab-df-buttons\">\n",
              "\n",
              "  <div class=\"colab-df-container\">\n",
              "    <button class=\"colab-df-convert\" onclick=\"convertToInteractive('df-5dc2da73-7f21-4c20-86df-baa8aa273640')\"\n",
              "            title=\"Convert this dataframe to an interactive table.\"\n",
              "            style=\"display:none;\">\n",
              "\n",
              "  <svg xmlns=\"http://www.w3.org/2000/svg\" height=\"24px\" viewBox=\"0 -960 960 960\">\n",
              "    <path d=\"M120-120v-720h720v720H120Zm60-500h600v-160H180v160Zm220 220h160v-160H400v160Zm0 220h160v-160H400v160ZM180-400h160v-160H180v160Zm440 0h160v-160H620v160ZM180-180h160v-160H180v160Zm440 0h160v-160H620v160Z\"/>\n",
              "  </svg>\n",
              "    </button>\n",
              "\n",
              "  <style>\n",
              "    .colab-df-container {\n",
              "      display:flex;\n",
              "      gap: 12px;\n",
              "    }\n",
              "\n",
              "    .colab-df-convert {\n",
              "      background-color: #E8F0FE;\n",
              "      border: none;\n",
              "      border-radius: 50%;\n",
              "      cursor: pointer;\n",
              "      display: none;\n",
              "      fill: #1967D2;\n",
              "      height: 32px;\n",
              "      padding: 0 0 0 0;\n",
              "      width: 32px;\n",
              "    }\n",
              "\n",
              "    .colab-df-convert:hover {\n",
              "      background-color: #E2EBFA;\n",
              "      box-shadow: 0px 1px 2px rgba(60, 64, 67, 0.3), 0px 1px 3px 1px rgba(60, 64, 67, 0.15);\n",
              "      fill: #174EA6;\n",
              "    }\n",
              "\n",
              "    .colab-df-buttons div {\n",
              "      margin-bottom: 4px;\n",
              "    }\n",
              "\n",
              "    [theme=dark] .colab-df-convert {\n",
              "      background-color: #3B4455;\n",
              "      fill: #D2E3FC;\n",
              "    }\n",
              "\n",
              "    [theme=dark] .colab-df-convert:hover {\n",
              "      background-color: #434B5C;\n",
              "      box-shadow: 0px 1px 3px 1px rgba(0, 0, 0, 0.15);\n",
              "      filter: drop-shadow(0px 1px 2px rgba(0, 0, 0, 0.3));\n",
              "      fill: #FFFFFF;\n",
              "    }\n",
              "  </style>\n",
              "\n",
              "    <script>\n",
              "      const buttonEl =\n",
              "        document.querySelector('#df-5dc2da73-7f21-4c20-86df-baa8aa273640 button.colab-df-convert');\n",
              "      buttonEl.style.display =\n",
              "        google.colab.kernel.accessAllowed ? 'block' : 'none';\n",
              "\n",
              "      async function convertToInteractive(key) {\n",
              "        const element = document.querySelector('#df-5dc2da73-7f21-4c20-86df-baa8aa273640');\n",
              "        const dataTable =\n",
              "          await google.colab.kernel.invokeFunction('convertToInteractive',\n",
              "                                                    [key], {});\n",
              "        if (!dataTable) return;\n",
              "\n",
              "        const docLinkHtml = 'Like what you see? Visit the ' +\n",
              "          '<a target=\"_blank\" href=https://colab.research.google.com/notebooks/data_table.ipynb>data table notebook</a>'\n",
              "          + ' to learn more about interactive tables.';\n",
              "        element.innerHTML = '';\n",
              "        dataTable['output_type'] = 'display_data';\n",
              "        await google.colab.output.renderOutput(dataTable, element);\n",
              "        const docLink = document.createElement('div');\n",
              "        docLink.innerHTML = docLinkHtml;\n",
              "        element.appendChild(docLink);\n",
              "      }\n",
              "    </script>\n",
              "  </div>\n",
              "\n",
              "\n",
              "<div id=\"df-72ecc823-7ae0-466e-9931-addf1c37ac7a\">\n",
              "  <button class=\"colab-df-quickchart\" onclick=\"quickchart('df-72ecc823-7ae0-466e-9931-addf1c37ac7a')\"\n",
              "            title=\"Suggest charts\"\n",
              "            style=\"display:none;\">\n",
              "\n",
              "<svg xmlns=\"http://www.w3.org/2000/svg\" height=\"24px\"viewBox=\"0 0 24 24\"\n",
              "     width=\"24px\">\n",
              "    <g>\n",
              "        <path d=\"M19 3H5c-1.1 0-2 .9-2 2v14c0 1.1.9 2 2 2h14c1.1 0 2-.9 2-2V5c0-1.1-.9-2-2-2zM9 17H7v-7h2v7zm4 0h-2V7h2v10zm4 0h-2v-4h2v4z\"/>\n",
              "    </g>\n",
              "</svg>\n",
              "  </button>\n",
              "\n",
              "<style>\n",
              "  .colab-df-quickchart {\n",
              "      --bg-color: #E8F0FE;\n",
              "      --fill-color: #1967D2;\n",
              "      --hover-bg-color: #E2EBFA;\n",
              "      --hover-fill-color: #174EA6;\n",
              "      --disabled-fill-color: #AAA;\n",
              "      --disabled-bg-color: #DDD;\n",
              "  }\n",
              "\n",
              "  [theme=dark] .colab-df-quickchart {\n",
              "      --bg-color: #3B4455;\n",
              "      --fill-color: #D2E3FC;\n",
              "      --hover-bg-color: #434B5C;\n",
              "      --hover-fill-color: #FFFFFF;\n",
              "      --disabled-bg-color: #3B4455;\n",
              "      --disabled-fill-color: #666;\n",
              "  }\n",
              "\n",
              "  .colab-df-quickchart {\n",
              "    background-color: var(--bg-color);\n",
              "    border: none;\n",
              "    border-radius: 50%;\n",
              "    cursor: pointer;\n",
              "    display: none;\n",
              "    fill: var(--fill-color);\n",
              "    height: 32px;\n",
              "    padding: 0;\n",
              "    width: 32px;\n",
              "  }\n",
              "\n",
              "  .colab-df-quickchart:hover {\n",
              "    background-color: var(--hover-bg-color);\n",
              "    box-shadow: 0 1px 2px rgba(60, 64, 67, 0.3), 0 1px 3px 1px rgba(60, 64, 67, 0.15);\n",
              "    fill: var(--button-hover-fill-color);\n",
              "  }\n",
              "\n",
              "  .colab-df-quickchart-complete:disabled,\n",
              "  .colab-df-quickchart-complete:disabled:hover {\n",
              "    background-color: var(--disabled-bg-color);\n",
              "    fill: var(--disabled-fill-color);\n",
              "    box-shadow: none;\n",
              "  }\n",
              "\n",
              "  .colab-df-spinner {\n",
              "    border: 2px solid var(--fill-color);\n",
              "    border-color: transparent;\n",
              "    border-bottom-color: var(--fill-color);\n",
              "    animation:\n",
              "      spin 1s steps(1) infinite;\n",
              "  }\n",
              "\n",
              "  @keyframes spin {\n",
              "    0% {\n",
              "      border-color: transparent;\n",
              "      border-bottom-color: var(--fill-color);\n",
              "      border-left-color: var(--fill-color);\n",
              "    }\n",
              "    20% {\n",
              "      border-color: transparent;\n",
              "      border-left-color: var(--fill-color);\n",
              "      border-top-color: var(--fill-color);\n",
              "    }\n",
              "    30% {\n",
              "      border-color: transparent;\n",
              "      border-left-color: var(--fill-color);\n",
              "      border-top-color: var(--fill-color);\n",
              "      border-right-color: var(--fill-color);\n",
              "    }\n",
              "    40% {\n",
              "      border-color: transparent;\n",
              "      border-right-color: var(--fill-color);\n",
              "      border-top-color: var(--fill-color);\n",
              "    }\n",
              "    60% {\n",
              "      border-color: transparent;\n",
              "      border-right-color: var(--fill-color);\n",
              "    }\n",
              "    80% {\n",
              "      border-color: transparent;\n",
              "      border-right-color: var(--fill-color);\n",
              "      border-bottom-color: var(--fill-color);\n",
              "    }\n",
              "    90% {\n",
              "      border-color: transparent;\n",
              "      border-bottom-color: var(--fill-color);\n",
              "    }\n",
              "  }\n",
              "</style>\n",
              "\n",
              "  <script>\n",
              "    async function quickchart(key) {\n",
              "      const quickchartButtonEl =\n",
              "        document.querySelector('#' + key + ' button');\n",
              "      quickchartButtonEl.disabled = true;  // To prevent multiple clicks.\n",
              "      quickchartButtonEl.classList.add('colab-df-spinner');\n",
              "      try {\n",
              "        const charts = await google.colab.kernel.invokeFunction(\n",
              "            'suggestCharts', [key], {});\n",
              "      } catch (error) {\n",
              "        console.error('Error during call to suggestCharts:', error);\n",
              "      }\n",
              "      quickchartButtonEl.classList.remove('colab-df-spinner');\n",
              "      quickchartButtonEl.classList.add('colab-df-quickchart-complete');\n",
              "    }\n",
              "    (() => {\n",
              "      let quickchartButtonEl =\n",
              "        document.querySelector('#df-72ecc823-7ae0-466e-9931-addf1c37ac7a button');\n",
              "      quickchartButtonEl.style.display =\n",
              "        google.colab.kernel.accessAllowed ? 'block' : 'none';\n",
              "    })();\n",
              "  </script>\n",
              "</div>\n",
              "    </div>\n",
              "  </div>\n"
            ]
          },
          "metadata": {},
          "execution_count": 6
        }
      ],
      "source": [
        "dfs['games'].head(3) # para que muestre las 3 primeras filas"
      ]
    },
    {
      "cell_type": "markdown",
      "metadata": {
        "id": "YeOzmaZyzel3"
      },
      "source": [
        "- Datos de seguimiento en la primera semana"
      ]
    },
    {
      "cell_type": "code",
      "execution_count": null,
      "metadata": {
        "colab": {
          "base_uri": "https://localhost:8080/",
          "height": 215
        },
        "id": "mvyl9EcOsKP_",
        "outputId": "505ec0b4-1c82-4c88-9ba7-1fffe88fca84"
      },
      "outputs": [
        {
          "output_type": "execute_result",
          "data": {
            "text/plain": [
              "       gameId  playId    nflId     displayName  frameId  \\\n",
              "0  2022090800      56  35472.0  Rodger Saffold        1   \n",
              "1  2022090800      56  35472.0  Rodger Saffold        2   \n",
              "2  2022090800      56  35472.0  Rodger Saffold        3   \n",
              "\n",
              "                         time  jerseyNumber club playDirection      x      y  \\\n",
              "0  2022-09-08 20:24:05.200000          76.0  BUF          left  88.37  27.27   \n",
              "1  2022-09-08 20:24:05.299999          76.0  BUF          left  88.47  27.13   \n",
              "2  2022-09-08 20:24:05.400000          76.0  BUF          left  88.56  27.01   \n",
              "\n",
              "      s     a   dis       o     dir         event  \n",
              "0  1.62  1.15  0.16  231.74  147.90           NaN  \n",
              "1  1.67  0.61  0.17  230.98  148.53  pass_arrived  \n",
              "2  1.57  0.49  0.15  230.98  147.05           NaN  "
            ],
            "text/html": [
              "\n",
              "  <div id=\"df-eb20f8dc-0f75-43af-be61-d003fe9ada93\" class=\"colab-df-container\">\n",
              "    <div>\n",
              "<style scoped>\n",
              "    .dataframe tbody tr th:only-of-type {\n",
              "        vertical-align: middle;\n",
              "    }\n",
              "\n",
              "    .dataframe tbody tr th {\n",
              "        vertical-align: top;\n",
              "    }\n",
              "\n",
              "    .dataframe thead th {\n",
              "        text-align: right;\n",
              "    }\n",
              "</style>\n",
              "<table border=\"1\" class=\"dataframe\">\n",
              "  <thead>\n",
              "    <tr style=\"text-align: right;\">\n",
              "      <th></th>\n",
              "      <th>gameId</th>\n",
              "      <th>playId</th>\n",
              "      <th>nflId</th>\n",
              "      <th>displayName</th>\n",
              "      <th>frameId</th>\n",
              "      <th>time</th>\n",
              "      <th>jerseyNumber</th>\n",
              "      <th>club</th>\n",
              "      <th>playDirection</th>\n",
              "      <th>x</th>\n",
              "      <th>y</th>\n",
              "      <th>s</th>\n",
              "      <th>a</th>\n",
              "      <th>dis</th>\n",
              "      <th>o</th>\n",
              "      <th>dir</th>\n",
              "      <th>event</th>\n",
              "    </tr>\n",
              "  </thead>\n",
              "  <tbody>\n",
              "    <tr>\n",
              "      <th>0</th>\n",
              "      <td>2022090800</td>\n",
              "      <td>56</td>\n",
              "      <td>35472.0</td>\n",
              "      <td>Rodger Saffold</td>\n",
              "      <td>1</td>\n",
              "      <td>2022-09-08 20:24:05.200000</td>\n",
              "      <td>76.0</td>\n",
              "      <td>BUF</td>\n",
              "      <td>left</td>\n",
              "      <td>88.37</td>\n",
              "      <td>27.27</td>\n",
              "      <td>1.62</td>\n",
              "      <td>1.15</td>\n",
              "      <td>0.16</td>\n",
              "      <td>231.74</td>\n",
              "      <td>147.90</td>\n",
              "      <td>NaN</td>\n",
              "    </tr>\n",
              "    <tr>\n",
              "      <th>1</th>\n",
              "      <td>2022090800</td>\n",
              "      <td>56</td>\n",
              "      <td>35472.0</td>\n",
              "      <td>Rodger Saffold</td>\n",
              "      <td>2</td>\n",
              "      <td>2022-09-08 20:24:05.299999</td>\n",
              "      <td>76.0</td>\n",
              "      <td>BUF</td>\n",
              "      <td>left</td>\n",
              "      <td>88.47</td>\n",
              "      <td>27.13</td>\n",
              "      <td>1.67</td>\n",
              "      <td>0.61</td>\n",
              "      <td>0.17</td>\n",
              "      <td>230.98</td>\n",
              "      <td>148.53</td>\n",
              "      <td>pass_arrived</td>\n",
              "    </tr>\n",
              "    <tr>\n",
              "      <th>2</th>\n",
              "      <td>2022090800</td>\n",
              "      <td>56</td>\n",
              "      <td>35472.0</td>\n",
              "      <td>Rodger Saffold</td>\n",
              "      <td>3</td>\n",
              "      <td>2022-09-08 20:24:05.400000</td>\n",
              "      <td>76.0</td>\n",
              "      <td>BUF</td>\n",
              "      <td>left</td>\n",
              "      <td>88.56</td>\n",
              "      <td>27.01</td>\n",
              "      <td>1.57</td>\n",
              "      <td>0.49</td>\n",
              "      <td>0.15</td>\n",
              "      <td>230.98</td>\n",
              "      <td>147.05</td>\n",
              "      <td>NaN</td>\n",
              "    </tr>\n",
              "  </tbody>\n",
              "</table>\n",
              "</div>\n",
              "    <div class=\"colab-df-buttons\">\n",
              "\n",
              "  <div class=\"colab-df-container\">\n",
              "    <button class=\"colab-df-convert\" onclick=\"convertToInteractive('df-eb20f8dc-0f75-43af-be61-d003fe9ada93')\"\n",
              "            title=\"Convert this dataframe to an interactive table.\"\n",
              "            style=\"display:none;\">\n",
              "\n",
              "  <svg xmlns=\"http://www.w3.org/2000/svg\" height=\"24px\" viewBox=\"0 -960 960 960\">\n",
              "    <path d=\"M120-120v-720h720v720H120Zm60-500h600v-160H180v160Zm220 220h160v-160H400v160Zm0 220h160v-160H400v160ZM180-400h160v-160H180v160Zm440 0h160v-160H620v160ZM180-180h160v-160H180v160Zm440 0h160v-160H620v160Z\"/>\n",
              "  </svg>\n",
              "    </button>\n",
              "\n",
              "  <style>\n",
              "    .colab-df-container {\n",
              "      display:flex;\n",
              "      gap: 12px;\n",
              "    }\n",
              "\n",
              "    .colab-df-convert {\n",
              "      background-color: #E8F0FE;\n",
              "      border: none;\n",
              "      border-radius: 50%;\n",
              "      cursor: pointer;\n",
              "      display: none;\n",
              "      fill: #1967D2;\n",
              "      height: 32px;\n",
              "      padding: 0 0 0 0;\n",
              "      width: 32px;\n",
              "    }\n",
              "\n",
              "    .colab-df-convert:hover {\n",
              "      background-color: #E2EBFA;\n",
              "      box-shadow: 0px 1px 2px rgba(60, 64, 67, 0.3), 0px 1px 3px 1px rgba(60, 64, 67, 0.15);\n",
              "      fill: #174EA6;\n",
              "    }\n",
              "\n",
              "    .colab-df-buttons div {\n",
              "      margin-bottom: 4px;\n",
              "    }\n",
              "\n",
              "    [theme=dark] .colab-df-convert {\n",
              "      background-color: #3B4455;\n",
              "      fill: #D2E3FC;\n",
              "    }\n",
              "\n",
              "    [theme=dark] .colab-df-convert:hover {\n",
              "      background-color: #434B5C;\n",
              "      box-shadow: 0px 1px 3px 1px rgba(0, 0, 0, 0.15);\n",
              "      filter: drop-shadow(0px 1px 2px rgba(0, 0, 0, 0.3));\n",
              "      fill: #FFFFFF;\n",
              "    }\n",
              "  </style>\n",
              "\n",
              "    <script>\n",
              "      const buttonEl =\n",
              "        document.querySelector('#df-eb20f8dc-0f75-43af-be61-d003fe9ada93 button.colab-df-convert');\n",
              "      buttonEl.style.display =\n",
              "        google.colab.kernel.accessAllowed ? 'block' : 'none';\n",
              "\n",
              "      async function convertToInteractive(key) {\n",
              "        const element = document.querySelector('#df-eb20f8dc-0f75-43af-be61-d003fe9ada93');\n",
              "        const dataTable =\n",
              "          await google.colab.kernel.invokeFunction('convertToInteractive',\n",
              "                                                    [key], {});\n",
              "        if (!dataTable) return;\n",
              "\n",
              "        const docLinkHtml = 'Like what you see? Visit the ' +\n",
              "          '<a target=\"_blank\" href=https://colab.research.google.com/notebooks/data_table.ipynb>data table notebook</a>'\n",
              "          + ' to learn more about interactive tables.';\n",
              "        element.innerHTML = '';\n",
              "        dataTable['output_type'] = 'display_data';\n",
              "        await google.colab.output.renderOutput(dataTable, element);\n",
              "        const docLink = document.createElement('div');\n",
              "        docLink.innerHTML = docLinkHtml;\n",
              "        element.appendChild(docLink);\n",
              "      }\n",
              "    </script>\n",
              "  </div>\n",
              "\n",
              "\n",
              "<div id=\"df-3026b008-e552-4e37-9c9a-84709e995494\">\n",
              "  <button class=\"colab-df-quickchart\" onclick=\"quickchart('df-3026b008-e552-4e37-9c9a-84709e995494')\"\n",
              "            title=\"Suggest charts\"\n",
              "            style=\"display:none;\">\n",
              "\n",
              "<svg xmlns=\"http://www.w3.org/2000/svg\" height=\"24px\"viewBox=\"0 0 24 24\"\n",
              "     width=\"24px\">\n",
              "    <g>\n",
              "        <path d=\"M19 3H5c-1.1 0-2 .9-2 2v14c0 1.1.9 2 2 2h14c1.1 0 2-.9 2-2V5c0-1.1-.9-2-2-2zM9 17H7v-7h2v7zm4 0h-2V7h2v10zm4 0h-2v-4h2v4z\"/>\n",
              "    </g>\n",
              "</svg>\n",
              "  </button>\n",
              "\n",
              "<style>\n",
              "  .colab-df-quickchart {\n",
              "      --bg-color: #E8F0FE;\n",
              "      --fill-color: #1967D2;\n",
              "      --hover-bg-color: #E2EBFA;\n",
              "      --hover-fill-color: #174EA6;\n",
              "      --disabled-fill-color: #AAA;\n",
              "      --disabled-bg-color: #DDD;\n",
              "  }\n",
              "\n",
              "  [theme=dark] .colab-df-quickchart {\n",
              "      --bg-color: #3B4455;\n",
              "      --fill-color: #D2E3FC;\n",
              "      --hover-bg-color: #434B5C;\n",
              "      --hover-fill-color: #FFFFFF;\n",
              "      --disabled-bg-color: #3B4455;\n",
              "      --disabled-fill-color: #666;\n",
              "  }\n",
              "\n",
              "  .colab-df-quickchart {\n",
              "    background-color: var(--bg-color);\n",
              "    border: none;\n",
              "    border-radius: 50%;\n",
              "    cursor: pointer;\n",
              "    display: none;\n",
              "    fill: var(--fill-color);\n",
              "    height: 32px;\n",
              "    padding: 0;\n",
              "    width: 32px;\n",
              "  }\n",
              "\n",
              "  .colab-df-quickchart:hover {\n",
              "    background-color: var(--hover-bg-color);\n",
              "    box-shadow: 0 1px 2px rgba(60, 64, 67, 0.3), 0 1px 3px 1px rgba(60, 64, 67, 0.15);\n",
              "    fill: var(--button-hover-fill-color);\n",
              "  }\n",
              "\n",
              "  .colab-df-quickchart-complete:disabled,\n",
              "  .colab-df-quickchart-complete:disabled:hover {\n",
              "    background-color: var(--disabled-bg-color);\n",
              "    fill: var(--disabled-fill-color);\n",
              "    box-shadow: none;\n",
              "  }\n",
              "\n",
              "  .colab-df-spinner {\n",
              "    border: 2px solid var(--fill-color);\n",
              "    border-color: transparent;\n",
              "    border-bottom-color: var(--fill-color);\n",
              "    animation:\n",
              "      spin 1s steps(1) infinite;\n",
              "  }\n",
              "\n",
              "  @keyframes spin {\n",
              "    0% {\n",
              "      border-color: transparent;\n",
              "      border-bottom-color: var(--fill-color);\n",
              "      border-left-color: var(--fill-color);\n",
              "    }\n",
              "    20% {\n",
              "      border-color: transparent;\n",
              "      border-left-color: var(--fill-color);\n",
              "      border-top-color: var(--fill-color);\n",
              "    }\n",
              "    30% {\n",
              "      border-color: transparent;\n",
              "      border-left-color: var(--fill-color);\n",
              "      border-top-color: var(--fill-color);\n",
              "      border-right-color: var(--fill-color);\n",
              "    }\n",
              "    40% {\n",
              "      border-color: transparent;\n",
              "      border-right-color: var(--fill-color);\n",
              "      border-top-color: var(--fill-color);\n",
              "    }\n",
              "    60% {\n",
              "      border-color: transparent;\n",
              "      border-right-color: var(--fill-color);\n",
              "    }\n",
              "    80% {\n",
              "      border-color: transparent;\n",
              "      border-right-color: var(--fill-color);\n",
              "      border-bottom-color: var(--fill-color);\n",
              "    }\n",
              "    90% {\n",
              "      border-color: transparent;\n",
              "      border-bottom-color: var(--fill-color);\n",
              "    }\n",
              "  }\n",
              "</style>\n",
              "\n",
              "  <script>\n",
              "    async function quickchart(key) {\n",
              "      const quickchartButtonEl =\n",
              "        document.querySelector('#' + key + ' button');\n",
              "      quickchartButtonEl.disabled = true;  // To prevent multiple clicks.\n",
              "      quickchartButtonEl.classList.add('colab-df-spinner');\n",
              "      try {\n",
              "        const charts = await google.colab.kernel.invokeFunction(\n",
              "            'suggestCharts', [key], {});\n",
              "      } catch (error) {\n",
              "        console.error('Error during call to suggestCharts:', error);\n",
              "      }\n",
              "      quickchartButtonEl.classList.remove('colab-df-spinner');\n",
              "      quickchartButtonEl.classList.add('colab-df-quickchart-complete');\n",
              "    }\n",
              "    (() => {\n",
              "      let quickchartButtonEl =\n",
              "        document.querySelector('#df-3026b008-e552-4e37-9c9a-84709e995494 button');\n",
              "      quickchartButtonEl.style.display =\n",
              "        google.colab.kernel.accessAllowed ? 'block' : 'none';\n",
              "    })();\n",
              "  </script>\n",
              "</div>\n",
              "    </div>\n",
              "  </div>\n"
            ]
          },
          "metadata": {},
          "execution_count": 7
        }
      ],
      "source": [
        "dfs['tracking_week_1'].head(3)"
      ]
    },
    {
      "cell_type": "code",
      "source": [
        "#for event in dfs['tracking_week_1']['event'][:10]:\n",
        "#  if event=="
      ],
      "metadata": {
        "colab": {
          "base_uri": "https://localhost:8080/",
          "height": 140
        },
        "id": "LNZDGZ1PrF-B",
        "outputId": "b47edaa7-5cae-48f1-ed3e-e38e1ce80156"
      },
      "execution_count": null,
      "outputs": [
        {
          "output_type": "error",
          "ename": "SyntaxError",
          "evalue": "invalid syntax (<ipython-input-8-1aea168654cb>, line 2)",
          "traceback": [
            "\u001b[0;36m  File \u001b[0;32m\"<ipython-input-8-1aea168654cb>\"\u001b[0;36m, line \u001b[0;32m2\u001b[0m\n\u001b[0;31m    if event==\u001b[0m\n\u001b[0m              ^\u001b[0m\n\u001b[0;31mSyntaxError\u001b[0m\u001b[0;31m:\u001b[0m invalid syntax\n"
          ]
        }
      ]
    },
    {
      "cell_type": "markdown",
      "metadata": {
        "id": "ExiaMpJ2AtcS"
      },
      "source": [
        "- Datos de las jugadas realizadas"
      ]
    },
    {
      "cell_type": "code",
      "execution_count": null,
      "metadata": {
        "colab": {
          "base_uri": "https://localhost:8080/",
          "height": 1000
        },
        "id": "BGQK4RAMtSs0",
        "outputId": "37809b8d-fe65-4713-ee0e-e9a01ba2bf8b"
      },
      "outputs": [
        {
          "output_type": "execute_result",
          "data": {
            "text/plain": [
              "        gameId  playId  ballCarrierId ballCarrierDisplayName  \\\n",
              "0   2022100908    3537          48723           Parker Hesse   \n",
              "1   2022091103    3126          52457         Chase Claypool   \n",
              "2   2022091111    1148          42547          Darren Waller   \n",
              "3   2022100212    2007          46461             Mike Boone   \n",
              "4   2022091900    1372          47857       Devin Singletary   \n",
              "5   2022103001    2165          54616         Tyler Allgeier   \n",
              "6   2022100207    2933          38538         Ryan Tannehill   \n",
              "7   2022102310      56          46377         Jeffery Wilson   \n",
              "8   2022102310    1318          41325        Jerick McKinnon   \n",
              "9   2022092511    2903          46096          Rashaad Penny   \n",
              "10  2022091112    1994          52470            A.J. Dillon   \n",
              "11  2022110606    2433          53431            Zach Wilson   \n",
              "12  2022091102    3336          46331           Ross Dwelley   \n",
              "13  2022103010    3127          47853      Darrell Henderson   \n",
              "14  2022102304    3401          53430        Trevor Lawrence   \n",
              "15  2022100212    1183          46109       Courtland Sutton   \n",
              "16  2022102303    1895          52425            CeeDee Lamb   \n",
              "17  2022110603    3498          43584          Kalif Raymond   \n",
              "18  2022103001    1415          44901         D'Onta Foreman   \n",
              "19  2022100211    1790          46705           Allen Lazard   \n",
              "20  2022100910    2746          44820    Christian McCaffrey   \n",
              "21  2022102305    1996          52442        Michael Pittman   \n",
              "22  2022092504     223          44853            Dalvin Cook   \n",
              "23  2022101601     528          46104             Nick Chubb   \n",
              "24  2022102306    1165          54563         Brian Robinson   \n",
              "25  2022091109    1705          52474         Antonio Gibson   \n",
              "26  2022101605     633          43344             Tyler Boyd   \n",
              "27  2022100908     619          54042          Caleb Huntley   \n",
              "28  2022091107    3669          43362           Kenyan Drake   \n",
              "29  2022100909    1102          43334          Derrick Henry   \n",
              "\n",
              "                                      playDescription  quarter  down  \\\n",
              "0   (7:52) (Shotgun) M.Mariota pass short middle t...        4     1   \n",
              "1   (7:38) (Shotgun) C.Claypool right end to PIT 3...        4     1   \n",
              "2   (8:57) D.Carr pass short middle to D.Waller to...        2     2   \n",
              "3   (13:12) M.Boone left tackle to DEN 44 for 7 ya...        3     2   \n",
              "4   (8:33) D.Singletary right guard to TEN 32 for ...        2     1   \n",
              "5   (10:14) (Shotgun) M.Mariota pass short left to...        3     3   \n",
              "6   (13:31) (Shotgun) R.Tannehill scrambles up the...        4     3   \n",
              "7   (15:00) J.Wilson left tackle to SF 32 for 7 ya...        1     1   \n",
              "8   (10:31) (Shotgun) J.McKinnon left guard to KC ...        2     1   \n",
              "9   (:35) (Shotgun) G.Smith pass short left to R.P...        3     1   \n",
              "10  (13:44) (Shotgun) A.Dillon left tackle to GB 3...        3     3   \n",
              "11  (4:47) (Shotgun) Z.Wilson scrambles right end ...        3     3   \n",
              "12  (11:55) (Shotgun) T.Lance pass short middle to...        4     3   \n",
              "13  (5:35) (Shotgun) D.Henderson left end to LA 21...        4     3   \n",
              "14  (11:30) T.Lawrence up the middle to NYG 20 for...        4     4   \n",
              "15  (8:50) (Shotgun) R.Wilson pass short right to ...        2     3   \n",
              "16  (13:04) (Shotgun) D.Prescott pass short middle...        3     2   \n",
              "17  (5:02) (Shotgun) J.Goff pass short left to K.R...        4     2   \n",
              "18  (4:56) (Shotgun) D.Foreman left tackle for 2 y...        2     3   \n",
              "19  (:07) (Shotgun) A.Rodgers pass short left to A...        2     1   \n",
              "20  (6:24) C.McCaffrey up the middle to SF 48 for ...        3     1   \n",
              "21  (12:35) (No Huddle, Shotgun) M.Ryan pass short...        3     3   \n",
              "22  (11:03) D.Cook up the middle to MIN 45 for 7 y...        1     1   \n",
              "23  (7:27) (Shotgun) N.Chubb left tackle to CLV 33...        1     1   \n",
              "24  (13:23) (Shotgun) B.Robinson right guard to WA...        2     1   \n",
              "25  (2:50) C.Wentz pass short left to A.Gibson to ...        2     1   \n",
              "26  (6:40) (Shotgun) J.Burrow pass short left to T...        1     1   \n",
              "27  (4:52) (Shotgun) C.Huntley left end to ATL 14 ...        1     1   \n",
              "28  (4:17) (Shotgun) K.Drake right end to BLT 19 f...        4     1   \n",
              "29  (13:56) D.Henry left end to TEN 30 for 5 yards...        2     1   \n",
              "\n",
              "    yardsToGo possessionTeam defensiveTeam  ... preSnapHomeTeamWinProbability  \\\n",
              "0          10            ATL            TB  ...                      0.976785   \n",
              "1          10            PIT           CIN  ...                      0.160485   \n",
              "2           5             LV           LAC  ...                      0.756661   \n",
              "3          10            DEN            LV  ...                      0.620552   \n",
              "4          10            BUF           TEN  ...                      0.836290   \n",
              "5          17            ATL           CAR  ...                      0.599479   \n",
              "6           5            TEN           IND  ...                      0.230881   \n",
              "7          10             SF            KC  ...                      0.568721   \n",
              "8          10             KC            SF  ...                      0.679606   \n",
              "9          10            SEA           ATL  ...                      0.344336   \n",
              "10          1             GB           MIN  ...                      0.916470   \n",
              "11          3            NYJ           BUF  ...                      0.268702   \n",
              "12         10             SF           CHI  ...                      0.632420   \n",
              "13         16             LA            SF  ...                      0.005169   \n",
              "14          1            JAX           NYG  ...                      0.812003   \n",
              "15         16            DEN            LV  ...                      0.575796   \n",
              "16          9            DAL           DET  ...                      0.631683   \n",
              "17          9            DET            GB  ...                      0.873909   \n",
              "18          2            CAR           ATL  ...                      0.592307   \n",
              "19         10             GB            NE  ...                      0.615037   \n",
              "20         10            CAR            SF  ...                      0.078708   \n",
              "21         15            IND           TEN  ...                      0.881258   \n",
              "22         10            MIN           DET  ...                      0.782263   \n",
              "23         10            CLE            NE  ...                      0.539761   \n",
              "24         10            WAS            GB  ...                      0.087381   \n",
              "25         10            WAS           JAX  ...                      0.881933   \n",
              "26         10            CIN            NO  ...                      0.607351   \n",
              "27         10            ATL            TB  ...                      0.773485   \n",
              "28         10            BAL           NYJ  ...                      0.001254   \n",
              "29         10            TEN           WAS  ...                      0.532121   \n",
              "\n",
              "    preSnapVisitorTeamWinProbability homeTeamWinProbabilityAdded  \\\n",
              "0                           0.023215               -6.110488e-03   \n",
              "1                           0.839515               -1.086480e-02   \n",
              "2                           0.243339               -3.740869e-02   \n",
              "3                           0.379448               -2.451338e-03   \n",
              "4                           0.163710                1.052896e-03   \n",
              "5                           0.400521               -3.062769e-02   \n",
              "6                           0.769119                2.764547e-02   \n",
              "7                           0.431279                1.382213e-03   \n",
              "8                           0.320394               -1.530263e-02   \n",
              "9                           0.655664               -1.810346e-02   \n",
              "10                          0.083530               -1.424372e-03   \n",
              "11                          0.731298                3.811553e-02   \n",
              "12                          0.367580               -8.570905e-02   \n",
              "13                          0.994831               -7.175940e-04   \n",
              "14                          0.187997               -9.577058e-02   \n",
              "15                          0.424204               -1.445506e-03   \n",
              "16                          0.368317                3.231780e-02   \n",
              "17                          0.126091                3.378054e-02   \n",
              "18                          0.407693               -5.602543e-02   \n",
              "19                          0.384963                0.000000e+00   \n",
              "20                          0.921292               -9.014839e-03   \n",
              "21                          0.118742                7.425765e-03   \n",
              "22                          0.217737                2.279855e-03   \n",
              "23                          0.460239                1.960713e-02   \n",
              "24                          0.912619                1.322649e-02   \n",
              "25                          0.118067               -1.031639e-03   \n",
              "26                          0.392649               -6.590000e-07   \n",
              "27                          0.226515                1.147731e-02   \n",
              "28                          0.998746                1.442540e-04   \n",
              "29                          0.467879                6.700177e-03   \n",
              "\n",
              "    visitorTeamWinProbilityAdded  expectedPoints expectedPointsAdded  \\\n",
              "0                   6.110488e-03        2.360609            0.981955   \n",
              "1                   1.086480e-02        1.733344           -0.263424   \n",
              "2                   3.740869e-02        1.312855            1.133666   \n",
              "3                   2.451338e-03        1.641006           -0.043580   \n",
              "4                  -1.052896e-03        3.686428           -0.167903   \n",
              "5                   3.062769e-02       -1.484904           -0.639661   \n",
              "6                  -2.764547e-02        0.137272           -1.269624   \n",
              "7                  -1.382213e-03        1.298699            0.282340   \n",
              "8                   1.530263e-02        1.827773            0.733410   \n",
              "9                   1.810346e-02        0.986438           -0.477845   \n",
              "10                  1.424372e-03        1.084807            0.506989   \n",
              "11                 -3.811553e-02        4.453594            1.200647   \n",
              "12                  8.570905e-02       -0.208933            1.777092   \n",
              "13                  7.175940e-04       -1.245599           -0.218564   \n",
              "14                  9.577058e-02        2.986392           -4.255993   \n",
              "15                  1.445506e-03        2.996730           -0.132424   \n",
              "16                 -3.231780e-02        0.165307            1.392677   \n",
              "17                 -3.378054e-02        1.173901            0.660732   \n",
              "18                  5.602543e-02        5.080226            1.919774   \n",
              "19                  0.000000e+00        0.185777           -0.185777   \n",
              "20                  9.014839e-03        3.031909           -0.444478   \n",
              "21                 -7.425765e-03       -0.231656           -0.617905   \n",
              "22                 -2.279855e-03        2.136666            0.512122   \n",
              "23                 -1.960713e-02        1.372455            0.408110   \n",
              "24                 -1.322649e-02        0.748630           -0.457978   \n",
              "25                  1.031639e-03        1.287983            0.348689   \n",
              "26                  6.590000e-07        1.371032            0.039985   \n",
              "27                 -1.147731e-02        0.598683           -1.130062   \n",
              "28                 -1.442540e-04        0.072260           -0.605139   \n",
              "29                 -6.700177e-03        1.274765           -0.110574   \n",
              "\n",
              "            foulName1  foulName2  foulNFLId1  foulNFLId2  \n",
              "0                 NaN        NaN         NaN         NaN  \n",
              "1                 NaN        NaN         NaN         NaN  \n",
              "2                 NaN        NaN         NaN         NaN  \n",
              "3                 NaN        NaN         NaN         NaN  \n",
              "4                 NaN        NaN         NaN         NaN  \n",
              "5                 NaN        NaN         NaN         NaN  \n",
              "6                 NaN        NaN         NaN         NaN  \n",
              "7                 NaN        NaN         NaN         NaN  \n",
              "8                 NaN        NaN         NaN         NaN  \n",
              "9                 NaN        NaN         NaN         NaN  \n",
              "10                NaN        NaN         NaN         NaN  \n",
              "11                NaN        NaN         NaN         NaN  \n",
              "12                NaN        NaN         NaN         NaN  \n",
              "13                NaN        NaN         NaN         NaN  \n",
              "14                NaN        NaN         NaN         NaN  \n",
              "15                NaN        NaN         NaN         NaN  \n",
              "16                NaN        NaN         NaN         NaN  \n",
              "17                NaN        NaN         NaN         NaN  \n",
              "18                NaN        NaN         NaN         NaN  \n",
              "19                NaN        NaN         NaN         NaN  \n",
              "20                NaN        NaN         NaN         NaN  \n",
              "21                NaN        NaN         NaN         NaN  \n",
              "22                NaN        NaN         NaN         NaN  \n",
              "23                NaN        NaN         NaN         NaN  \n",
              "24                NaN        NaN         NaN         NaN  \n",
              "25                NaN        NaN         NaN         NaN  \n",
              "26                NaN        NaN         NaN         NaN  \n",
              "27                NaN        NaN         NaN         NaN  \n",
              "28  Offensive Holding        NaN     52609.0         NaN  \n",
              "29                NaN        NaN         NaN         NaN  \n",
              "\n",
              "[30 rows x 35 columns]"
            ],
            "text/html": [
              "\n",
              "  <div id=\"df-7285b3cd-fc4c-491f-a84b-d036cdad5aa8\" class=\"colab-df-container\">\n",
              "    <div>\n",
              "<style scoped>\n",
              "    .dataframe tbody tr th:only-of-type {\n",
              "        vertical-align: middle;\n",
              "    }\n",
              "\n",
              "    .dataframe tbody tr th {\n",
              "        vertical-align: top;\n",
              "    }\n",
              "\n",
              "    .dataframe thead th {\n",
              "        text-align: right;\n",
              "    }\n",
              "</style>\n",
              "<table border=\"1\" class=\"dataframe\">\n",
              "  <thead>\n",
              "    <tr style=\"text-align: right;\">\n",
              "      <th></th>\n",
              "      <th>gameId</th>\n",
              "      <th>playId</th>\n",
              "      <th>ballCarrierId</th>\n",
              "      <th>ballCarrierDisplayName</th>\n",
              "      <th>playDescription</th>\n",
              "      <th>quarter</th>\n",
              "      <th>down</th>\n",
              "      <th>yardsToGo</th>\n",
              "      <th>possessionTeam</th>\n",
              "      <th>defensiveTeam</th>\n",
              "      <th>...</th>\n",
              "      <th>preSnapHomeTeamWinProbability</th>\n",
              "      <th>preSnapVisitorTeamWinProbability</th>\n",
              "      <th>homeTeamWinProbabilityAdded</th>\n",
              "      <th>visitorTeamWinProbilityAdded</th>\n",
              "      <th>expectedPoints</th>\n",
              "      <th>expectedPointsAdded</th>\n",
              "      <th>foulName1</th>\n",
              "      <th>foulName2</th>\n",
              "      <th>foulNFLId1</th>\n",
              "      <th>foulNFLId2</th>\n",
              "    </tr>\n",
              "  </thead>\n",
              "  <tbody>\n",
              "    <tr>\n",
              "      <th>0</th>\n",
              "      <td>2022100908</td>\n",
              "      <td>3537</td>\n",
              "      <td>48723</td>\n",
              "      <td>Parker Hesse</td>\n",
              "      <td>(7:52) (Shotgun) M.Mariota pass short middle t...</td>\n",
              "      <td>4</td>\n",
              "      <td>1</td>\n",
              "      <td>10</td>\n",
              "      <td>ATL</td>\n",
              "      <td>TB</td>\n",
              "      <td>...</td>\n",
              "      <td>0.976785</td>\n",
              "      <td>0.023215</td>\n",
              "      <td>-6.110488e-03</td>\n",
              "      <td>6.110488e-03</td>\n",
              "      <td>2.360609</td>\n",
              "      <td>0.981955</td>\n",
              "      <td>NaN</td>\n",
              "      <td>NaN</td>\n",
              "      <td>NaN</td>\n",
              "      <td>NaN</td>\n",
              "    </tr>\n",
              "    <tr>\n",
              "      <th>1</th>\n",
              "      <td>2022091103</td>\n",
              "      <td>3126</td>\n",
              "      <td>52457</td>\n",
              "      <td>Chase Claypool</td>\n",
              "      <td>(7:38) (Shotgun) C.Claypool right end to PIT 3...</td>\n",
              "      <td>4</td>\n",
              "      <td>1</td>\n",
              "      <td>10</td>\n",
              "      <td>PIT</td>\n",
              "      <td>CIN</td>\n",
              "      <td>...</td>\n",
              "      <td>0.160485</td>\n",
              "      <td>0.839515</td>\n",
              "      <td>-1.086480e-02</td>\n",
              "      <td>1.086480e-02</td>\n",
              "      <td>1.733344</td>\n",
              "      <td>-0.263424</td>\n",
              "      <td>NaN</td>\n",
              "      <td>NaN</td>\n",
              "      <td>NaN</td>\n",
              "      <td>NaN</td>\n",
              "    </tr>\n",
              "    <tr>\n",
              "      <th>2</th>\n",
              "      <td>2022091111</td>\n",
              "      <td>1148</td>\n",
              "      <td>42547</td>\n",
              "      <td>Darren Waller</td>\n",
              "      <td>(8:57) D.Carr pass short middle to D.Waller to...</td>\n",
              "      <td>2</td>\n",
              "      <td>2</td>\n",
              "      <td>5</td>\n",
              "      <td>LV</td>\n",
              "      <td>LAC</td>\n",
              "      <td>...</td>\n",
              "      <td>0.756661</td>\n",
              "      <td>0.243339</td>\n",
              "      <td>-3.740869e-02</td>\n",
              "      <td>3.740869e-02</td>\n",
              "      <td>1.312855</td>\n",
              "      <td>1.133666</td>\n",
              "      <td>NaN</td>\n",
              "      <td>NaN</td>\n",
              "      <td>NaN</td>\n",
              "      <td>NaN</td>\n",
              "    </tr>\n",
              "    <tr>\n",
              "      <th>3</th>\n",
              "      <td>2022100212</td>\n",
              "      <td>2007</td>\n",
              "      <td>46461</td>\n",
              "      <td>Mike Boone</td>\n",
              "      <td>(13:12) M.Boone left tackle to DEN 44 for 7 ya...</td>\n",
              "      <td>3</td>\n",
              "      <td>2</td>\n",
              "      <td>10</td>\n",
              "      <td>DEN</td>\n",
              "      <td>LV</td>\n",
              "      <td>...</td>\n",
              "      <td>0.620552</td>\n",
              "      <td>0.379448</td>\n",
              "      <td>-2.451338e-03</td>\n",
              "      <td>2.451338e-03</td>\n",
              "      <td>1.641006</td>\n",
              "      <td>-0.043580</td>\n",
              "      <td>NaN</td>\n",
              "      <td>NaN</td>\n",
              "      <td>NaN</td>\n",
              "      <td>NaN</td>\n",
              "    </tr>\n",
              "    <tr>\n",
              "      <th>4</th>\n",
              "      <td>2022091900</td>\n",
              "      <td>1372</td>\n",
              "      <td>47857</td>\n",
              "      <td>Devin Singletary</td>\n",
              "      <td>(8:33) D.Singletary right guard to TEN 32 for ...</td>\n",
              "      <td>2</td>\n",
              "      <td>1</td>\n",
              "      <td>10</td>\n",
              "      <td>BUF</td>\n",
              "      <td>TEN</td>\n",
              "      <td>...</td>\n",
              "      <td>0.836290</td>\n",
              "      <td>0.163710</td>\n",
              "      <td>1.052896e-03</td>\n",
              "      <td>-1.052896e-03</td>\n",
              "      <td>3.686428</td>\n",
              "      <td>-0.167903</td>\n",
              "      <td>NaN</td>\n",
              "      <td>NaN</td>\n",
              "      <td>NaN</td>\n",
              "      <td>NaN</td>\n",
              "    </tr>\n",
              "    <tr>\n",
              "      <th>5</th>\n",
              "      <td>2022103001</td>\n",
              "      <td>2165</td>\n",
              "      <td>54616</td>\n",
              "      <td>Tyler Allgeier</td>\n",
              "      <td>(10:14) (Shotgun) M.Mariota pass short left to...</td>\n",
              "      <td>3</td>\n",
              "      <td>3</td>\n",
              "      <td>17</td>\n",
              "      <td>ATL</td>\n",
              "      <td>CAR</td>\n",
              "      <td>...</td>\n",
              "      <td>0.599479</td>\n",
              "      <td>0.400521</td>\n",
              "      <td>-3.062769e-02</td>\n",
              "      <td>3.062769e-02</td>\n",
              "      <td>-1.484904</td>\n",
              "      <td>-0.639661</td>\n",
              "      <td>NaN</td>\n",
              "      <td>NaN</td>\n",
              "      <td>NaN</td>\n",
              "      <td>NaN</td>\n",
              "    </tr>\n",
              "    <tr>\n",
              "      <th>6</th>\n",
              "      <td>2022100207</td>\n",
              "      <td>2933</td>\n",
              "      <td>38538</td>\n",
              "      <td>Ryan Tannehill</td>\n",
              "      <td>(13:31) (Shotgun) R.Tannehill scrambles up the...</td>\n",
              "      <td>4</td>\n",
              "      <td>3</td>\n",
              "      <td>5</td>\n",
              "      <td>TEN</td>\n",
              "      <td>IND</td>\n",
              "      <td>...</td>\n",
              "      <td>0.230881</td>\n",
              "      <td>0.769119</td>\n",
              "      <td>2.764547e-02</td>\n",
              "      <td>-2.764547e-02</td>\n",
              "      <td>0.137272</td>\n",
              "      <td>-1.269624</td>\n",
              "      <td>NaN</td>\n",
              "      <td>NaN</td>\n",
              "      <td>NaN</td>\n",
              "      <td>NaN</td>\n",
              "    </tr>\n",
              "    <tr>\n",
              "      <th>7</th>\n",
              "      <td>2022102310</td>\n",
              "      <td>56</td>\n",
              "      <td>46377</td>\n",
              "      <td>Jeffery Wilson</td>\n",
              "      <td>(15:00) J.Wilson left tackle to SF 32 for 7 ya...</td>\n",
              "      <td>1</td>\n",
              "      <td>1</td>\n",
              "      <td>10</td>\n",
              "      <td>SF</td>\n",
              "      <td>KC</td>\n",
              "      <td>...</td>\n",
              "      <td>0.568721</td>\n",
              "      <td>0.431279</td>\n",
              "      <td>1.382213e-03</td>\n",
              "      <td>-1.382213e-03</td>\n",
              "      <td>1.298699</td>\n",
              "      <td>0.282340</td>\n",
              "      <td>NaN</td>\n",
              "      <td>NaN</td>\n",
              "      <td>NaN</td>\n",
              "      <td>NaN</td>\n",
              "    </tr>\n",
              "    <tr>\n",
              "      <th>8</th>\n",
              "      <td>2022102310</td>\n",
              "      <td>1318</td>\n",
              "      <td>41325</td>\n",
              "      <td>Jerick McKinnon</td>\n",
              "      <td>(10:31) (Shotgun) J.McKinnon left guard to KC ...</td>\n",
              "      <td>2</td>\n",
              "      <td>1</td>\n",
              "      <td>10</td>\n",
              "      <td>KC</td>\n",
              "      <td>SF</td>\n",
              "      <td>...</td>\n",
              "      <td>0.679606</td>\n",
              "      <td>0.320394</td>\n",
              "      <td>-1.530263e-02</td>\n",
              "      <td>1.530263e-02</td>\n",
              "      <td>1.827773</td>\n",
              "      <td>0.733410</td>\n",
              "      <td>NaN</td>\n",
              "      <td>NaN</td>\n",
              "      <td>NaN</td>\n",
              "      <td>NaN</td>\n",
              "    </tr>\n",
              "    <tr>\n",
              "      <th>9</th>\n",
              "      <td>2022092511</td>\n",
              "      <td>2903</td>\n",
              "      <td>46096</td>\n",
              "      <td>Rashaad Penny</td>\n",
              "      <td>(:35) (Shotgun) G.Smith pass short left to R.P...</td>\n",
              "      <td>3</td>\n",
              "      <td>1</td>\n",
              "      <td>10</td>\n",
              "      <td>SEA</td>\n",
              "      <td>ATL</td>\n",
              "      <td>...</td>\n",
              "      <td>0.344336</td>\n",
              "      <td>0.655664</td>\n",
              "      <td>-1.810346e-02</td>\n",
              "      <td>1.810346e-02</td>\n",
              "      <td>0.986438</td>\n",
              "      <td>-0.477845</td>\n",
              "      <td>NaN</td>\n",
              "      <td>NaN</td>\n",
              "      <td>NaN</td>\n",
              "      <td>NaN</td>\n",
              "    </tr>\n",
              "    <tr>\n",
              "      <th>10</th>\n",
              "      <td>2022091112</td>\n",
              "      <td>1994</td>\n",
              "      <td>52470</td>\n",
              "      <td>A.J. Dillon</td>\n",
              "      <td>(13:44) (Shotgun) A.Dillon left tackle to GB 3...</td>\n",
              "      <td>3</td>\n",
              "      <td>3</td>\n",
              "      <td>1</td>\n",
              "      <td>GB</td>\n",
              "      <td>MIN</td>\n",
              "      <td>...</td>\n",
              "      <td>0.916470</td>\n",
              "      <td>0.083530</td>\n",
              "      <td>-1.424372e-03</td>\n",
              "      <td>1.424372e-03</td>\n",
              "      <td>1.084807</td>\n",
              "      <td>0.506989</td>\n",
              "      <td>NaN</td>\n",
              "      <td>NaN</td>\n",
              "      <td>NaN</td>\n",
              "      <td>NaN</td>\n",
              "    </tr>\n",
              "    <tr>\n",
              "      <th>11</th>\n",
              "      <td>2022110606</td>\n",
              "      <td>2433</td>\n",
              "      <td>53431</td>\n",
              "      <td>Zach Wilson</td>\n",
              "      <td>(4:47) (Shotgun) Z.Wilson scrambles right end ...</td>\n",
              "      <td>3</td>\n",
              "      <td>3</td>\n",
              "      <td>3</td>\n",
              "      <td>NYJ</td>\n",
              "      <td>BUF</td>\n",
              "      <td>...</td>\n",
              "      <td>0.268702</td>\n",
              "      <td>0.731298</td>\n",
              "      <td>3.811553e-02</td>\n",
              "      <td>-3.811553e-02</td>\n",
              "      <td>4.453594</td>\n",
              "      <td>1.200647</td>\n",
              "      <td>NaN</td>\n",
              "      <td>NaN</td>\n",
              "      <td>NaN</td>\n",
              "      <td>NaN</td>\n",
              "    </tr>\n",
              "    <tr>\n",
              "      <th>12</th>\n",
              "      <td>2022091102</td>\n",
              "      <td>3336</td>\n",
              "      <td>46331</td>\n",
              "      <td>Ross Dwelley</td>\n",
              "      <td>(11:55) (Shotgun) T.Lance pass short middle to...</td>\n",
              "      <td>4</td>\n",
              "      <td>3</td>\n",
              "      <td>10</td>\n",
              "      <td>SF</td>\n",
              "      <td>CHI</td>\n",
              "      <td>...</td>\n",
              "      <td>0.632420</td>\n",
              "      <td>0.367580</td>\n",
              "      <td>-8.570905e-02</td>\n",
              "      <td>8.570905e-02</td>\n",
              "      <td>-0.208933</td>\n",
              "      <td>1.777092</td>\n",
              "      <td>NaN</td>\n",
              "      <td>NaN</td>\n",
              "      <td>NaN</td>\n",
              "      <td>NaN</td>\n",
              "    </tr>\n",
              "    <tr>\n",
              "      <th>13</th>\n",
              "      <td>2022103010</td>\n",
              "      <td>3127</td>\n",
              "      <td>47853</td>\n",
              "      <td>Darrell Henderson</td>\n",
              "      <td>(5:35) (Shotgun) D.Henderson left end to LA 21...</td>\n",
              "      <td>4</td>\n",
              "      <td>3</td>\n",
              "      <td>16</td>\n",
              "      <td>LA</td>\n",
              "      <td>SF</td>\n",
              "      <td>...</td>\n",
              "      <td>0.005169</td>\n",
              "      <td>0.994831</td>\n",
              "      <td>-7.175940e-04</td>\n",
              "      <td>7.175940e-04</td>\n",
              "      <td>-1.245599</td>\n",
              "      <td>-0.218564</td>\n",
              "      <td>NaN</td>\n",
              "      <td>NaN</td>\n",
              "      <td>NaN</td>\n",
              "      <td>NaN</td>\n",
              "    </tr>\n",
              "    <tr>\n",
              "      <th>14</th>\n",
              "      <td>2022102304</td>\n",
              "      <td>3401</td>\n",
              "      <td>53430</td>\n",
              "      <td>Trevor Lawrence</td>\n",
              "      <td>(11:30) T.Lawrence up the middle to NYG 20 for...</td>\n",
              "      <td>4</td>\n",
              "      <td>4</td>\n",
              "      <td>1</td>\n",
              "      <td>JAX</td>\n",
              "      <td>NYG</td>\n",
              "      <td>...</td>\n",
              "      <td>0.812003</td>\n",
              "      <td>0.187997</td>\n",
              "      <td>-9.577058e-02</td>\n",
              "      <td>9.577058e-02</td>\n",
              "      <td>2.986392</td>\n",
              "      <td>-4.255993</td>\n",
              "      <td>NaN</td>\n",
              "      <td>NaN</td>\n",
              "      <td>NaN</td>\n",
              "      <td>NaN</td>\n",
              "    </tr>\n",
              "    <tr>\n",
              "      <th>15</th>\n",
              "      <td>2022100212</td>\n",
              "      <td>1183</td>\n",
              "      <td>46109</td>\n",
              "      <td>Courtland Sutton</td>\n",
              "      <td>(8:50) (Shotgun) R.Wilson pass short right to ...</td>\n",
              "      <td>2</td>\n",
              "      <td>3</td>\n",
              "      <td>16</td>\n",
              "      <td>DEN</td>\n",
              "      <td>LV</td>\n",
              "      <td>...</td>\n",
              "      <td>0.575796</td>\n",
              "      <td>0.424204</td>\n",
              "      <td>-1.445506e-03</td>\n",
              "      <td>1.445506e-03</td>\n",
              "      <td>2.996730</td>\n",
              "      <td>-0.132424</td>\n",
              "      <td>NaN</td>\n",
              "      <td>NaN</td>\n",
              "      <td>NaN</td>\n",
              "      <td>NaN</td>\n",
              "    </tr>\n",
              "    <tr>\n",
              "      <th>16</th>\n",
              "      <td>2022102303</td>\n",
              "      <td>1895</td>\n",
              "      <td>52425</td>\n",
              "      <td>CeeDee Lamb</td>\n",
              "      <td>(13:04) (Shotgun) D.Prescott pass short middle...</td>\n",
              "      <td>3</td>\n",
              "      <td>2</td>\n",
              "      <td>9</td>\n",
              "      <td>DAL</td>\n",
              "      <td>DET</td>\n",
              "      <td>...</td>\n",
              "      <td>0.631683</td>\n",
              "      <td>0.368317</td>\n",
              "      <td>3.231780e-02</td>\n",
              "      <td>-3.231780e-02</td>\n",
              "      <td>0.165307</td>\n",
              "      <td>1.392677</td>\n",
              "      <td>NaN</td>\n",
              "      <td>NaN</td>\n",
              "      <td>NaN</td>\n",
              "      <td>NaN</td>\n",
              "    </tr>\n",
              "    <tr>\n",
              "      <th>17</th>\n",
              "      <td>2022110603</td>\n",
              "      <td>3498</td>\n",
              "      <td>43584</td>\n",
              "      <td>Kalif Raymond</td>\n",
              "      <td>(5:02) (Shotgun) J.Goff pass short left to K.R...</td>\n",
              "      <td>4</td>\n",
              "      <td>2</td>\n",
              "      <td>9</td>\n",
              "      <td>DET</td>\n",
              "      <td>GB</td>\n",
              "      <td>...</td>\n",
              "      <td>0.873909</td>\n",
              "      <td>0.126091</td>\n",
              "      <td>3.378054e-02</td>\n",
              "      <td>-3.378054e-02</td>\n",
              "      <td>1.173901</td>\n",
              "      <td>0.660732</td>\n",
              "      <td>NaN</td>\n",
              "      <td>NaN</td>\n",
              "      <td>NaN</td>\n",
              "      <td>NaN</td>\n",
              "    </tr>\n",
              "    <tr>\n",
              "      <th>18</th>\n",
              "      <td>2022103001</td>\n",
              "      <td>1415</td>\n",
              "      <td>44901</td>\n",
              "      <td>D'Onta Foreman</td>\n",
              "      <td>(4:56) (Shotgun) D.Foreman left tackle for 2 y...</td>\n",
              "      <td>2</td>\n",
              "      <td>3</td>\n",
              "      <td>2</td>\n",
              "      <td>CAR</td>\n",
              "      <td>ATL</td>\n",
              "      <td>...</td>\n",
              "      <td>0.592307</td>\n",
              "      <td>0.407693</td>\n",
              "      <td>-5.602543e-02</td>\n",
              "      <td>5.602543e-02</td>\n",
              "      <td>5.080226</td>\n",
              "      <td>1.919774</td>\n",
              "      <td>NaN</td>\n",
              "      <td>NaN</td>\n",
              "      <td>NaN</td>\n",
              "      <td>NaN</td>\n",
              "    </tr>\n",
              "    <tr>\n",
              "      <th>19</th>\n",
              "      <td>2022100211</td>\n",
              "      <td>1790</td>\n",
              "      <td>46705</td>\n",
              "      <td>Allen Lazard</td>\n",
              "      <td>(:07) (Shotgun) A.Rodgers pass short left to A...</td>\n",
              "      <td>2</td>\n",
              "      <td>1</td>\n",
              "      <td>10</td>\n",
              "      <td>GB</td>\n",
              "      <td>NE</td>\n",
              "      <td>...</td>\n",
              "      <td>0.615037</td>\n",
              "      <td>0.384963</td>\n",
              "      <td>0.000000e+00</td>\n",
              "      <td>0.000000e+00</td>\n",
              "      <td>0.185777</td>\n",
              "      <td>-0.185777</td>\n",
              "      <td>NaN</td>\n",
              "      <td>NaN</td>\n",
              "      <td>NaN</td>\n",
              "      <td>NaN</td>\n",
              "    </tr>\n",
              "    <tr>\n",
              "      <th>20</th>\n",
              "      <td>2022100910</td>\n",
              "      <td>2746</td>\n",
              "      <td>44820</td>\n",
              "      <td>Christian McCaffrey</td>\n",
              "      <td>(6:24) C.McCaffrey up the middle to SF 48 for ...</td>\n",
              "      <td>3</td>\n",
              "      <td>1</td>\n",
              "      <td>10</td>\n",
              "      <td>CAR</td>\n",
              "      <td>SF</td>\n",
              "      <td>...</td>\n",
              "      <td>0.078708</td>\n",
              "      <td>0.921292</td>\n",
              "      <td>-9.014839e-03</td>\n",
              "      <td>9.014839e-03</td>\n",
              "      <td>3.031909</td>\n",
              "      <td>-0.444478</td>\n",
              "      <td>NaN</td>\n",
              "      <td>NaN</td>\n",
              "      <td>NaN</td>\n",
              "      <td>NaN</td>\n",
              "    </tr>\n",
              "    <tr>\n",
              "      <th>21</th>\n",
              "      <td>2022102305</td>\n",
              "      <td>1996</td>\n",
              "      <td>52442</td>\n",
              "      <td>Michael Pittman</td>\n",
              "      <td>(12:35) (No Huddle, Shotgun) M.Ryan pass short...</td>\n",
              "      <td>3</td>\n",
              "      <td>3</td>\n",
              "      <td>15</td>\n",
              "      <td>IND</td>\n",
              "      <td>TEN</td>\n",
              "      <td>...</td>\n",
              "      <td>0.881258</td>\n",
              "      <td>0.118742</td>\n",
              "      <td>7.425765e-03</td>\n",
              "      <td>-7.425765e-03</td>\n",
              "      <td>-0.231656</td>\n",
              "      <td>-0.617905</td>\n",
              "      <td>NaN</td>\n",
              "      <td>NaN</td>\n",
              "      <td>NaN</td>\n",
              "      <td>NaN</td>\n",
              "    </tr>\n",
              "    <tr>\n",
              "      <th>22</th>\n",
              "      <td>2022092504</td>\n",
              "      <td>223</td>\n",
              "      <td>44853</td>\n",
              "      <td>Dalvin Cook</td>\n",
              "      <td>(11:03) D.Cook up the middle to MIN 45 for 7 y...</td>\n",
              "      <td>1</td>\n",
              "      <td>1</td>\n",
              "      <td>10</td>\n",
              "      <td>MIN</td>\n",
              "      <td>DET</td>\n",
              "      <td>...</td>\n",
              "      <td>0.782263</td>\n",
              "      <td>0.217737</td>\n",
              "      <td>2.279855e-03</td>\n",
              "      <td>-2.279855e-03</td>\n",
              "      <td>2.136666</td>\n",
              "      <td>0.512122</td>\n",
              "      <td>NaN</td>\n",
              "      <td>NaN</td>\n",
              "      <td>NaN</td>\n",
              "      <td>NaN</td>\n",
              "    </tr>\n",
              "    <tr>\n",
              "      <th>23</th>\n",
              "      <td>2022101601</td>\n",
              "      <td>528</td>\n",
              "      <td>46104</td>\n",
              "      <td>Nick Chubb</td>\n",
              "      <td>(7:27) (Shotgun) N.Chubb left tackle to CLV 33...</td>\n",
              "      <td>1</td>\n",
              "      <td>1</td>\n",
              "      <td>10</td>\n",
              "      <td>CLE</td>\n",
              "      <td>NE</td>\n",
              "      <td>...</td>\n",
              "      <td>0.539761</td>\n",
              "      <td>0.460239</td>\n",
              "      <td>1.960713e-02</td>\n",
              "      <td>-1.960713e-02</td>\n",
              "      <td>1.372455</td>\n",
              "      <td>0.408110</td>\n",
              "      <td>NaN</td>\n",
              "      <td>NaN</td>\n",
              "      <td>NaN</td>\n",
              "      <td>NaN</td>\n",
              "    </tr>\n",
              "    <tr>\n",
              "      <th>24</th>\n",
              "      <td>2022102306</td>\n",
              "      <td>1165</td>\n",
              "      <td>54563</td>\n",
              "      <td>Brian Robinson</td>\n",
              "      <td>(13:23) (Shotgun) B.Robinson right guard to WA...</td>\n",
              "      <td>2</td>\n",
              "      <td>1</td>\n",
              "      <td>10</td>\n",
              "      <td>WAS</td>\n",
              "      <td>GB</td>\n",
              "      <td>...</td>\n",
              "      <td>0.087381</td>\n",
              "      <td>0.912619</td>\n",
              "      <td>1.322649e-02</td>\n",
              "      <td>-1.322649e-02</td>\n",
              "      <td>0.748630</td>\n",
              "      <td>-0.457978</td>\n",
              "      <td>NaN</td>\n",
              "      <td>NaN</td>\n",
              "      <td>NaN</td>\n",
              "      <td>NaN</td>\n",
              "    </tr>\n",
              "    <tr>\n",
              "      <th>25</th>\n",
              "      <td>2022091109</td>\n",
              "      <td>1705</td>\n",
              "      <td>52474</td>\n",
              "      <td>Antonio Gibson</td>\n",
              "      <td>(2:50) C.Wentz pass short left to A.Gibson to ...</td>\n",
              "      <td>2</td>\n",
              "      <td>1</td>\n",
              "      <td>10</td>\n",
              "      <td>WAS</td>\n",
              "      <td>JAX</td>\n",
              "      <td>...</td>\n",
              "      <td>0.881933</td>\n",
              "      <td>0.118067</td>\n",
              "      <td>-1.031639e-03</td>\n",
              "      <td>1.031639e-03</td>\n",
              "      <td>1.287983</td>\n",
              "      <td>0.348689</td>\n",
              "      <td>NaN</td>\n",
              "      <td>NaN</td>\n",
              "      <td>NaN</td>\n",
              "      <td>NaN</td>\n",
              "    </tr>\n",
              "    <tr>\n",
              "      <th>26</th>\n",
              "      <td>2022101605</td>\n",
              "      <td>633</td>\n",
              "      <td>43344</td>\n",
              "      <td>Tyler Boyd</td>\n",
              "      <td>(6:40) (Shotgun) J.Burrow pass short left to T...</td>\n",
              "      <td>1</td>\n",
              "      <td>1</td>\n",
              "      <td>10</td>\n",
              "      <td>CIN</td>\n",
              "      <td>NO</td>\n",
              "      <td>...</td>\n",
              "      <td>0.607351</td>\n",
              "      <td>0.392649</td>\n",
              "      <td>-6.590000e-07</td>\n",
              "      <td>6.590000e-07</td>\n",
              "      <td>1.371032</td>\n",
              "      <td>0.039985</td>\n",
              "      <td>NaN</td>\n",
              "      <td>NaN</td>\n",
              "      <td>NaN</td>\n",
              "      <td>NaN</td>\n",
              "    </tr>\n",
              "    <tr>\n",
              "      <th>27</th>\n",
              "      <td>2022100908</td>\n",
              "      <td>619</td>\n",
              "      <td>54042</td>\n",
              "      <td>Caleb Huntley</td>\n",
              "      <td>(4:52) (Shotgun) C.Huntley left end to ATL 14 ...</td>\n",
              "      <td>1</td>\n",
              "      <td>1</td>\n",
              "      <td>10</td>\n",
              "      <td>ATL</td>\n",
              "      <td>TB</td>\n",
              "      <td>...</td>\n",
              "      <td>0.773485</td>\n",
              "      <td>0.226515</td>\n",
              "      <td>1.147731e-02</td>\n",
              "      <td>-1.147731e-02</td>\n",
              "      <td>0.598683</td>\n",
              "      <td>-1.130062</td>\n",
              "      <td>NaN</td>\n",
              "      <td>NaN</td>\n",
              "      <td>NaN</td>\n",
              "      <td>NaN</td>\n",
              "    </tr>\n",
              "    <tr>\n",
              "      <th>28</th>\n",
              "      <td>2022091107</td>\n",
              "      <td>3669</td>\n",
              "      <td>43362</td>\n",
              "      <td>Kenyan Drake</td>\n",
              "      <td>(4:17) (Shotgun) K.Drake right end to BLT 19 f...</td>\n",
              "      <td>4</td>\n",
              "      <td>1</td>\n",
              "      <td>10</td>\n",
              "      <td>BAL</td>\n",
              "      <td>NYJ</td>\n",
              "      <td>...</td>\n",
              "      <td>0.001254</td>\n",
              "      <td>0.998746</td>\n",
              "      <td>1.442540e-04</td>\n",
              "      <td>-1.442540e-04</td>\n",
              "      <td>0.072260</td>\n",
              "      <td>-0.605139</td>\n",
              "      <td>Offensive Holding</td>\n",
              "      <td>NaN</td>\n",
              "      <td>52609.0</td>\n",
              "      <td>NaN</td>\n",
              "    </tr>\n",
              "    <tr>\n",
              "      <th>29</th>\n",
              "      <td>2022100909</td>\n",
              "      <td>1102</td>\n",
              "      <td>43334</td>\n",
              "      <td>Derrick Henry</td>\n",
              "      <td>(13:56) D.Henry left end to TEN 30 for 5 yards...</td>\n",
              "      <td>2</td>\n",
              "      <td>1</td>\n",
              "      <td>10</td>\n",
              "      <td>TEN</td>\n",
              "      <td>WAS</td>\n",
              "      <td>...</td>\n",
              "      <td>0.532121</td>\n",
              "      <td>0.467879</td>\n",
              "      <td>6.700177e-03</td>\n",
              "      <td>-6.700177e-03</td>\n",
              "      <td>1.274765</td>\n",
              "      <td>-0.110574</td>\n",
              "      <td>NaN</td>\n",
              "      <td>NaN</td>\n",
              "      <td>NaN</td>\n",
              "      <td>NaN</td>\n",
              "    </tr>\n",
              "  </tbody>\n",
              "</table>\n",
              "<p>30 rows × 35 columns</p>\n",
              "</div>\n",
              "    <div class=\"colab-df-buttons\">\n",
              "\n",
              "  <div class=\"colab-df-container\">\n",
              "    <button class=\"colab-df-convert\" onclick=\"convertToInteractive('df-7285b3cd-fc4c-491f-a84b-d036cdad5aa8')\"\n",
              "            title=\"Convert this dataframe to an interactive table.\"\n",
              "            style=\"display:none;\">\n",
              "\n",
              "  <svg xmlns=\"http://www.w3.org/2000/svg\" height=\"24px\" viewBox=\"0 -960 960 960\">\n",
              "    <path d=\"M120-120v-720h720v720H120Zm60-500h600v-160H180v160Zm220 220h160v-160H400v160Zm0 220h160v-160H400v160ZM180-400h160v-160H180v160Zm440 0h160v-160H620v160ZM180-180h160v-160H180v160Zm440 0h160v-160H620v160Z\"/>\n",
              "  </svg>\n",
              "    </button>\n",
              "\n",
              "  <style>\n",
              "    .colab-df-container {\n",
              "      display:flex;\n",
              "      gap: 12px;\n",
              "    }\n",
              "\n",
              "    .colab-df-convert {\n",
              "      background-color: #E8F0FE;\n",
              "      border: none;\n",
              "      border-radius: 50%;\n",
              "      cursor: pointer;\n",
              "      display: none;\n",
              "      fill: #1967D2;\n",
              "      height: 32px;\n",
              "      padding: 0 0 0 0;\n",
              "      width: 32px;\n",
              "    }\n",
              "\n",
              "    .colab-df-convert:hover {\n",
              "      background-color: #E2EBFA;\n",
              "      box-shadow: 0px 1px 2px rgba(60, 64, 67, 0.3), 0px 1px 3px 1px rgba(60, 64, 67, 0.15);\n",
              "      fill: #174EA6;\n",
              "    }\n",
              "\n",
              "    .colab-df-buttons div {\n",
              "      margin-bottom: 4px;\n",
              "    }\n",
              "\n",
              "    [theme=dark] .colab-df-convert {\n",
              "      background-color: #3B4455;\n",
              "      fill: #D2E3FC;\n",
              "    }\n",
              "\n",
              "    [theme=dark] .colab-df-convert:hover {\n",
              "      background-color: #434B5C;\n",
              "      box-shadow: 0px 1px 3px 1px rgba(0, 0, 0, 0.15);\n",
              "      filter: drop-shadow(0px 1px 2px rgba(0, 0, 0, 0.3));\n",
              "      fill: #FFFFFF;\n",
              "    }\n",
              "  </style>\n",
              "\n",
              "    <script>\n",
              "      const buttonEl =\n",
              "        document.querySelector('#df-7285b3cd-fc4c-491f-a84b-d036cdad5aa8 button.colab-df-convert');\n",
              "      buttonEl.style.display =\n",
              "        google.colab.kernel.accessAllowed ? 'block' : 'none';\n",
              "\n",
              "      async function convertToInteractive(key) {\n",
              "        const element = document.querySelector('#df-7285b3cd-fc4c-491f-a84b-d036cdad5aa8');\n",
              "        const dataTable =\n",
              "          await google.colab.kernel.invokeFunction('convertToInteractive',\n",
              "                                                    [key], {});\n",
              "        if (!dataTable) return;\n",
              "\n",
              "        const docLinkHtml = 'Like what you see? Visit the ' +\n",
              "          '<a target=\"_blank\" href=https://colab.research.google.com/notebooks/data_table.ipynb>data table notebook</a>'\n",
              "          + ' to learn more about interactive tables.';\n",
              "        element.innerHTML = '';\n",
              "        dataTable['output_type'] = 'display_data';\n",
              "        await google.colab.output.renderOutput(dataTable, element);\n",
              "        const docLink = document.createElement('div');\n",
              "        docLink.innerHTML = docLinkHtml;\n",
              "        element.appendChild(docLink);\n",
              "      }\n",
              "    </script>\n",
              "  </div>\n",
              "\n",
              "\n",
              "<div id=\"df-6e6ab2a5-b113-41b2-bafe-eb5e915296e2\">\n",
              "  <button class=\"colab-df-quickchart\" onclick=\"quickchart('df-6e6ab2a5-b113-41b2-bafe-eb5e915296e2')\"\n",
              "            title=\"Suggest charts\"\n",
              "            style=\"display:none;\">\n",
              "\n",
              "<svg xmlns=\"http://www.w3.org/2000/svg\" height=\"24px\"viewBox=\"0 0 24 24\"\n",
              "     width=\"24px\">\n",
              "    <g>\n",
              "        <path d=\"M19 3H5c-1.1 0-2 .9-2 2v14c0 1.1.9 2 2 2h14c1.1 0 2-.9 2-2V5c0-1.1-.9-2-2-2zM9 17H7v-7h2v7zm4 0h-2V7h2v10zm4 0h-2v-4h2v4z\"/>\n",
              "    </g>\n",
              "</svg>\n",
              "  </button>\n",
              "\n",
              "<style>\n",
              "  .colab-df-quickchart {\n",
              "      --bg-color: #E8F0FE;\n",
              "      --fill-color: #1967D2;\n",
              "      --hover-bg-color: #E2EBFA;\n",
              "      --hover-fill-color: #174EA6;\n",
              "      --disabled-fill-color: #AAA;\n",
              "      --disabled-bg-color: #DDD;\n",
              "  }\n",
              "\n",
              "  [theme=dark] .colab-df-quickchart {\n",
              "      --bg-color: #3B4455;\n",
              "      --fill-color: #D2E3FC;\n",
              "      --hover-bg-color: #434B5C;\n",
              "      --hover-fill-color: #FFFFFF;\n",
              "      --disabled-bg-color: #3B4455;\n",
              "      --disabled-fill-color: #666;\n",
              "  }\n",
              "\n",
              "  .colab-df-quickchart {\n",
              "    background-color: var(--bg-color);\n",
              "    border: none;\n",
              "    border-radius: 50%;\n",
              "    cursor: pointer;\n",
              "    display: none;\n",
              "    fill: var(--fill-color);\n",
              "    height: 32px;\n",
              "    padding: 0;\n",
              "    width: 32px;\n",
              "  }\n",
              "\n",
              "  .colab-df-quickchart:hover {\n",
              "    background-color: var(--hover-bg-color);\n",
              "    box-shadow: 0 1px 2px rgba(60, 64, 67, 0.3), 0 1px 3px 1px rgba(60, 64, 67, 0.15);\n",
              "    fill: var(--button-hover-fill-color);\n",
              "  }\n",
              "\n",
              "  .colab-df-quickchart-complete:disabled,\n",
              "  .colab-df-quickchart-complete:disabled:hover {\n",
              "    background-color: var(--disabled-bg-color);\n",
              "    fill: var(--disabled-fill-color);\n",
              "    box-shadow: none;\n",
              "  }\n",
              "\n",
              "  .colab-df-spinner {\n",
              "    border: 2px solid var(--fill-color);\n",
              "    border-color: transparent;\n",
              "    border-bottom-color: var(--fill-color);\n",
              "    animation:\n",
              "      spin 1s steps(1) infinite;\n",
              "  }\n",
              "\n",
              "  @keyframes spin {\n",
              "    0% {\n",
              "      border-color: transparent;\n",
              "      border-bottom-color: var(--fill-color);\n",
              "      border-left-color: var(--fill-color);\n",
              "    }\n",
              "    20% {\n",
              "      border-color: transparent;\n",
              "      border-left-color: var(--fill-color);\n",
              "      border-top-color: var(--fill-color);\n",
              "    }\n",
              "    30% {\n",
              "      border-color: transparent;\n",
              "      border-left-color: var(--fill-color);\n",
              "      border-top-color: var(--fill-color);\n",
              "      border-right-color: var(--fill-color);\n",
              "    }\n",
              "    40% {\n",
              "      border-color: transparent;\n",
              "      border-right-color: var(--fill-color);\n",
              "      border-top-color: var(--fill-color);\n",
              "    }\n",
              "    60% {\n",
              "      border-color: transparent;\n",
              "      border-right-color: var(--fill-color);\n",
              "    }\n",
              "    80% {\n",
              "      border-color: transparent;\n",
              "      border-right-color: var(--fill-color);\n",
              "      border-bottom-color: var(--fill-color);\n",
              "    }\n",
              "    90% {\n",
              "      border-color: transparent;\n",
              "      border-bottom-color: var(--fill-color);\n",
              "    }\n",
              "  }\n",
              "</style>\n",
              "\n",
              "  <script>\n",
              "    async function quickchart(key) {\n",
              "      const quickchartButtonEl =\n",
              "        document.querySelector('#' + key + ' button');\n",
              "      quickchartButtonEl.disabled = true;  // To prevent multiple clicks.\n",
              "      quickchartButtonEl.classList.add('colab-df-spinner');\n",
              "      try {\n",
              "        const charts = await google.colab.kernel.invokeFunction(\n",
              "            'suggestCharts', [key], {});\n",
              "      } catch (error) {\n",
              "        console.error('Error during call to suggestCharts:', error);\n",
              "      }\n",
              "      quickchartButtonEl.classList.remove('colab-df-spinner');\n",
              "      quickchartButtonEl.classList.add('colab-df-quickchart-complete');\n",
              "    }\n",
              "    (() => {\n",
              "      let quickchartButtonEl =\n",
              "        document.querySelector('#df-6e6ab2a5-b113-41b2-bafe-eb5e915296e2 button');\n",
              "      quickchartButtonEl.style.display =\n",
              "        google.colab.kernel.accessAllowed ? 'block' : 'none';\n",
              "    })();\n",
              "  </script>\n",
              "</div>\n",
              "    </div>\n",
              "  </div>\n"
            ]
          },
          "metadata": {},
          "execution_count": 9
        }
      ],
      "source": [
        "dfs['plays'].head(30)"
      ]
    },
    {
      "cell_type": "markdown",
      "metadata": {
        "id": "_AM--eaN056p"
      },
      "source": [
        "Queremos crear una única tabla con los ids (`gameId`) y los datos de entrenamiento de la primera semana (`tracking_week_1`)"
      ]
    },
    {
      "cell_type": "code",
      "execution_count": null,
      "metadata": {
        "id": "HqYnUG5PsOZ_"
      },
      "outputs": [],
      "source": [
        "game_ids = dfs['tracking_week_1']['gameId'].unique()"
      ]
    },
    {
      "cell_type": "code",
      "execution_count": null,
      "metadata": {
        "colab": {
          "base_uri": "https://localhost:8080/",
          "height": 215
        },
        "id": "5hx9wMbSsP4m",
        "outputId": "253b503a-ce9e-49ac-f463-a68502706562"
      },
      "outputs": [
        {
          "output_type": "execute_result",
          "data": {
            "text/plain": [
              "       gameId  playId    nflId     displayName  frameId  \\\n",
              "0  2022090800      56  35472.0  Rodger Saffold        1   \n",
              "1  2022090800      56  35472.0  Rodger Saffold        2   \n",
              "2  2022090800      56  35472.0  Rodger Saffold        3   \n",
              "\n",
              "                         time  jerseyNumber club playDirection      x      y  \\\n",
              "0  2022-09-08 20:24:05.200000          76.0  BUF          left  88.37  27.27   \n",
              "1  2022-09-08 20:24:05.299999          76.0  BUF          left  88.47  27.13   \n",
              "2  2022-09-08 20:24:05.400000          76.0  BUF          left  88.56  27.01   \n",
              "\n",
              "      s     a   dis       o     dir         event  \n",
              "0  1.62  1.15  0.16  231.74  147.90           NaN  \n",
              "1  1.67  0.61  0.17  230.98  148.53  pass_arrived  \n",
              "2  1.57  0.49  0.15  230.98  147.05           NaN  "
            ],
            "text/html": [
              "\n",
              "  <div id=\"df-e33dab89-eee6-4ebd-8f00-9d9934c780f4\" class=\"colab-df-container\">\n",
              "    <div>\n",
              "<style scoped>\n",
              "    .dataframe tbody tr th:only-of-type {\n",
              "        vertical-align: middle;\n",
              "    }\n",
              "\n",
              "    .dataframe tbody tr th {\n",
              "        vertical-align: top;\n",
              "    }\n",
              "\n",
              "    .dataframe thead th {\n",
              "        text-align: right;\n",
              "    }\n",
              "</style>\n",
              "<table border=\"1\" class=\"dataframe\">\n",
              "  <thead>\n",
              "    <tr style=\"text-align: right;\">\n",
              "      <th></th>\n",
              "      <th>gameId</th>\n",
              "      <th>playId</th>\n",
              "      <th>nflId</th>\n",
              "      <th>displayName</th>\n",
              "      <th>frameId</th>\n",
              "      <th>time</th>\n",
              "      <th>jerseyNumber</th>\n",
              "      <th>club</th>\n",
              "      <th>playDirection</th>\n",
              "      <th>x</th>\n",
              "      <th>y</th>\n",
              "      <th>s</th>\n",
              "      <th>a</th>\n",
              "      <th>dis</th>\n",
              "      <th>o</th>\n",
              "      <th>dir</th>\n",
              "      <th>event</th>\n",
              "    </tr>\n",
              "  </thead>\n",
              "  <tbody>\n",
              "    <tr>\n",
              "      <th>0</th>\n",
              "      <td>2022090800</td>\n",
              "      <td>56</td>\n",
              "      <td>35472.0</td>\n",
              "      <td>Rodger Saffold</td>\n",
              "      <td>1</td>\n",
              "      <td>2022-09-08 20:24:05.200000</td>\n",
              "      <td>76.0</td>\n",
              "      <td>BUF</td>\n",
              "      <td>left</td>\n",
              "      <td>88.37</td>\n",
              "      <td>27.27</td>\n",
              "      <td>1.62</td>\n",
              "      <td>1.15</td>\n",
              "      <td>0.16</td>\n",
              "      <td>231.74</td>\n",
              "      <td>147.90</td>\n",
              "      <td>NaN</td>\n",
              "    </tr>\n",
              "    <tr>\n",
              "      <th>1</th>\n",
              "      <td>2022090800</td>\n",
              "      <td>56</td>\n",
              "      <td>35472.0</td>\n",
              "      <td>Rodger Saffold</td>\n",
              "      <td>2</td>\n",
              "      <td>2022-09-08 20:24:05.299999</td>\n",
              "      <td>76.0</td>\n",
              "      <td>BUF</td>\n",
              "      <td>left</td>\n",
              "      <td>88.47</td>\n",
              "      <td>27.13</td>\n",
              "      <td>1.67</td>\n",
              "      <td>0.61</td>\n",
              "      <td>0.17</td>\n",
              "      <td>230.98</td>\n",
              "      <td>148.53</td>\n",
              "      <td>pass_arrived</td>\n",
              "    </tr>\n",
              "    <tr>\n",
              "      <th>2</th>\n",
              "      <td>2022090800</td>\n",
              "      <td>56</td>\n",
              "      <td>35472.0</td>\n",
              "      <td>Rodger Saffold</td>\n",
              "      <td>3</td>\n",
              "      <td>2022-09-08 20:24:05.400000</td>\n",
              "      <td>76.0</td>\n",
              "      <td>BUF</td>\n",
              "      <td>left</td>\n",
              "      <td>88.56</td>\n",
              "      <td>27.01</td>\n",
              "      <td>1.57</td>\n",
              "      <td>0.49</td>\n",
              "      <td>0.15</td>\n",
              "      <td>230.98</td>\n",
              "      <td>147.05</td>\n",
              "      <td>NaN</td>\n",
              "    </tr>\n",
              "  </tbody>\n",
              "</table>\n",
              "</div>\n",
              "    <div class=\"colab-df-buttons\">\n",
              "\n",
              "  <div class=\"colab-df-container\">\n",
              "    <button class=\"colab-df-convert\" onclick=\"convertToInteractive('df-e33dab89-eee6-4ebd-8f00-9d9934c780f4')\"\n",
              "            title=\"Convert this dataframe to an interactive table.\"\n",
              "            style=\"display:none;\">\n",
              "\n",
              "  <svg xmlns=\"http://www.w3.org/2000/svg\" height=\"24px\" viewBox=\"0 -960 960 960\">\n",
              "    <path d=\"M120-120v-720h720v720H120Zm60-500h600v-160H180v160Zm220 220h160v-160H400v160Zm0 220h160v-160H400v160ZM180-400h160v-160H180v160Zm440 0h160v-160H620v160ZM180-180h160v-160H180v160Zm440 0h160v-160H620v160Z\"/>\n",
              "  </svg>\n",
              "    </button>\n",
              "\n",
              "  <style>\n",
              "    .colab-df-container {\n",
              "      display:flex;\n",
              "      gap: 12px;\n",
              "    }\n",
              "\n",
              "    .colab-df-convert {\n",
              "      background-color: #E8F0FE;\n",
              "      border: none;\n",
              "      border-radius: 50%;\n",
              "      cursor: pointer;\n",
              "      display: none;\n",
              "      fill: #1967D2;\n",
              "      height: 32px;\n",
              "      padding: 0 0 0 0;\n",
              "      width: 32px;\n",
              "    }\n",
              "\n",
              "    .colab-df-convert:hover {\n",
              "      background-color: #E2EBFA;\n",
              "      box-shadow: 0px 1px 2px rgba(60, 64, 67, 0.3), 0px 1px 3px 1px rgba(60, 64, 67, 0.15);\n",
              "      fill: #174EA6;\n",
              "    }\n",
              "\n",
              "    .colab-df-buttons div {\n",
              "      margin-bottom: 4px;\n",
              "    }\n",
              "\n",
              "    [theme=dark] .colab-df-convert {\n",
              "      background-color: #3B4455;\n",
              "      fill: #D2E3FC;\n",
              "    }\n",
              "\n",
              "    [theme=dark] .colab-df-convert:hover {\n",
              "      background-color: #434B5C;\n",
              "      box-shadow: 0px 1px 3px 1px rgba(0, 0, 0, 0.15);\n",
              "      filter: drop-shadow(0px 1px 2px rgba(0, 0, 0, 0.3));\n",
              "      fill: #FFFFFF;\n",
              "    }\n",
              "  </style>\n",
              "\n",
              "    <script>\n",
              "      const buttonEl =\n",
              "        document.querySelector('#df-e33dab89-eee6-4ebd-8f00-9d9934c780f4 button.colab-df-convert');\n",
              "      buttonEl.style.display =\n",
              "        google.colab.kernel.accessAllowed ? 'block' : 'none';\n",
              "\n",
              "      async function convertToInteractive(key) {\n",
              "        const element = document.querySelector('#df-e33dab89-eee6-4ebd-8f00-9d9934c780f4');\n",
              "        const dataTable =\n",
              "          await google.colab.kernel.invokeFunction('convertToInteractive',\n",
              "                                                    [key], {});\n",
              "        if (!dataTable) return;\n",
              "\n",
              "        const docLinkHtml = 'Like what you see? Visit the ' +\n",
              "          '<a target=\"_blank\" href=https://colab.research.google.com/notebooks/data_table.ipynb>data table notebook</a>'\n",
              "          + ' to learn more about interactive tables.';\n",
              "        element.innerHTML = '';\n",
              "        dataTable['output_type'] = 'display_data';\n",
              "        await google.colab.output.renderOutput(dataTable, element);\n",
              "        const docLink = document.createElement('div');\n",
              "        docLink.innerHTML = docLinkHtml;\n",
              "        element.appendChild(docLink);\n",
              "      }\n",
              "    </script>\n",
              "  </div>\n",
              "\n",
              "\n",
              "<div id=\"df-34f01ab3-1401-49dc-9ffc-c60d8b2695ea\">\n",
              "  <button class=\"colab-df-quickchart\" onclick=\"quickchart('df-34f01ab3-1401-49dc-9ffc-c60d8b2695ea')\"\n",
              "            title=\"Suggest charts\"\n",
              "            style=\"display:none;\">\n",
              "\n",
              "<svg xmlns=\"http://www.w3.org/2000/svg\" height=\"24px\"viewBox=\"0 0 24 24\"\n",
              "     width=\"24px\">\n",
              "    <g>\n",
              "        <path d=\"M19 3H5c-1.1 0-2 .9-2 2v14c0 1.1.9 2 2 2h14c1.1 0 2-.9 2-2V5c0-1.1-.9-2-2-2zM9 17H7v-7h2v7zm4 0h-2V7h2v10zm4 0h-2v-4h2v4z\"/>\n",
              "    </g>\n",
              "</svg>\n",
              "  </button>\n",
              "\n",
              "<style>\n",
              "  .colab-df-quickchart {\n",
              "      --bg-color: #E8F0FE;\n",
              "      --fill-color: #1967D2;\n",
              "      --hover-bg-color: #E2EBFA;\n",
              "      --hover-fill-color: #174EA6;\n",
              "      --disabled-fill-color: #AAA;\n",
              "      --disabled-bg-color: #DDD;\n",
              "  }\n",
              "\n",
              "  [theme=dark] .colab-df-quickchart {\n",
              "      --bg-color: #3B4455;\n",
              "      --fill-color: #D2E3FC;\n",
              "      --hover-bg-color: #434B5C;\n",
              "      --hover-fill-color: #FFFFFF;\n",
              "      --disabled-bg-color: #3B4455;\n",
              "      --disabled-fill-color: #666;\n",
              "  }\n",
              "\n",
              "  .colab-df-quickchart {\n",
              "    background-color: var(--bg-color);\n",
              "    border: none;\n",
              "    border-radius: 50%;\n",
              "    cursor: pointer;\n",
              "    display: none;\n",
              "    fill: var(--fill-color);\n",
              "    height: 32px;\n",
              "    padding: 0;\n",
              "    width: 32px;\n",
              "  }\n",
              "\n",
              "  .colab-df-quickchart:hover {\n",
              "    background-color: var(--hover-bg-color);\n",
              "    box-shadow: 0 1px 2px rgba(60, 64, 67, 0.3), 0 1px 3px 1px rgba(60, 64, 67, 0.15);\n",
              "    fill: var(--button-hover-fill-color);\n",
              "  }\n",
              "\n",
              "  .colab-df-quickchart-complete:disabled,\n",
              "  .colab-df-quickchart-complete:disabled:hover {\n",
              "    background-color: var(--disabled-bg-color);\n",
              "    fill: var(--disabled-fill-color);\n",
              "    box-shadow: none;\n",
              "  }\n",
              "\n",
              "  .colab-df-spinner {\n",
              "    border: 2px solid var(--fill-color);\n",
              "    border-color: transparent;\n",
              "    border-bottom-color: var(--fill-color);\n",
              "    animation:\n",
              "      spin 1s steps(1) infinite;\n",
              "  }\n",
              "\n",
              "  @keyframes spin {\n",
              "    0% {\n",
              "      border-color: transparent;\n",
              "      border-bottom-color: var(--fill-color);\n",
              "      border-left-color: var(--fill-color);\n",
              "    }\n",
              "    20% {\n",
              "      border-color: transparent;\n",
              "      border-left-color: var(--fill-color);\n",
              "      border-top-color: var(--fill-color);\n",
              "    }\n",
              "    30% {\n",
              "      border-color: transparent;\n",
              "      border-left-color: var(--fill-color);\n",
              "      border-top-color: var(--fill-color);\n",
              "      border-right-color: var(--fill-color);\n",
              "    }\n",
              "    40% {\n",
              "      border-color: transparent;\n",
              "      border-right-color: var(--fill-color);\n",
              "      border-top-color: var(--fill-color);\n",
              "    }\n",
              "    60% {\n",
              "      border-color: transparent;\n",
              "      border-right-color: var(--fill-color);\n",
              "    }\n",
              "    80% {\n",
              "      border-color: transparent;\n",
              "      border-right-color: var(--fill-color);\n",
              "      border-bottom-color: var(--fill-color);\n",
              "    }\n",
              "    90% {\n",
              "      border-color: transparent;\n",
              "      border-bottom-color: var(--fill-color);\n",
              "    }\n",
              "  }\n",
              "</style>\n",
              "\n",
              "  <script>\n",
              "    async function quickchart(key) {\n",
              "      const quickchartButtonEl =\n",
              "        document.querySelector('#' + key + ' button');\n",
              "      quickchartButtonEl.disabled = true;  // To prevent multiple clicks.\n",
              "      quickchartButtonEl.classList.add('colab-df-spinner');\n",
              "      try {\n",
              "        const charts = await google.colab.kernel.invokeFunction(\n",
              "            'suggestCharts', [key], {});\n",
              "      } catch (error) {\n",
              "        console.error('Error during call to suggestCharts:', error);\n",
              "      }\n",
              "      quickchartButtonEl.classList.remove('colab-df-spinner');\n",
              "      quickchartButtonEl.classList.add('colab-df-quickchart-complete');\n",
              "    }\n",
              "    (() => {\n",
              "      let quickchartButtonEl =\n",
              "        document.querySelector('#df-34f01ab3-1401-49dc-9ffc-c60d8b2695ea button');\n",
              "      quickchartButtonEl.style.display =\n",
              "        google.colab.kernel.accessAllowed ? 'block' : 'none';\n",
              "    })();\n",
              "  </script>\n",
              "</div>\n",
              "    </div>\n",
              "  </div>\n"
            ]
          },
          "metadata": {},
          "execution_count": 11
        }
      ],
      "source": [
        "df = dfs['tracking_week_1']\n",
        "df[df['gameId'] == game_ids[0]].head(3) # mostramos las 3 primeras entradas del primer partido de la primera semana de entrenamiento"
      ]
    },
    {
      "cell_type": "markdown",
      "metadata": {
        "id": "DlqJ65ZnBsAY"
      },
      "source": [
        "Vamos a obtener un snapshot del primer juego en el primer instante de tiempo y lo vamos a graficar."
      ]
    },
    {
      "cell_type": "code",
      "execution_count": null,
      "metadata": {
        "colab": {
          "base_uri": "https://localhost:8080/",
          "height": 215
        },
        "id": "VQ9QcDFACK1I",
        "outputId": "ebdc8510-155e-49b7-cd8a-bb70919cfc2b"
      },
      "outputs": [
        {
          "output_type": "execute_result",
          "data": {
            "text/plain": [
              "        gameId  playId    nflId     displayName  frameId  \\\n",
              "0   2022090800      56  35472.0  Rodger Saffold        1   \n",
              "22  2022090800      56  38577.0    Bobby Wagner        1   \n",
              "44  2022090800      56  41239.0    Aaron Donald        1   \n",
              "\n",
              "                          time  jerseyNumber club playDirection      x      y  \\\n",
              "0   2022-09-08 20:24:05.200000          76.0  BUF          left  88.37  27.27   \n",
              "22  2022-09-08 20:24:05.200000          45.0   LA          left  78.25  27.53   \n",
              "44  2022-09-08 20:24:05.200000          99.0   LA          left  91.08  31.61   \n",
              "\n",
              "       s     a   dis       o     dir event  \n",
              "0   1.62  1.15  0.16  231.74  147.90   NaN  \n",
              "22  1.24  3.81  0.11    4.20  331.67   NaN  \n",
              "44  3.91  2.34  0.40  168.33  132.02   NaN  "
            ],
            "text/html": [
              "\n",
              "  <div id=\"df-add4c19b-1d12-44c0-b41f-5bf69b2d5ccd\" class=\"colab-df-container\">\n",
              "    <div>\n",
              "<style scoped>\n",
              "    .dataframe tbody tr th:only-of-type {\n",
              "        vertical-align: middle;\n",
              "    }\n",
              "\n",
              "    .dataframe tbody tr th {\n",
              "        vertical-align: top;\n",
              "    }\n",
              "\n",
              "    .dataframe thead th {\n",
              "        text-align: right;\n",
              "    }\n",
              "</style>\n",
              "<table border=\"1\" class=\"dataframe\">\n",
              "  <thead>\n",
              "    <tr style=\"text-align: right;\">\n",
              "      <th></th>\n",
              "      <th>gameId</th>\n",
              "      <th>playId</th>\n",
              "      <th>nflId</th>\n",
              "      <th>displayName</th>\n",
              "      <th>frameId</th>\n",
              "      <th>time</th>\n",
              "      <th>jerseyNumber</th>\n",
              "      <th>club</th>\n",
              "      <th>playDirection</th>\n",
              "      <th>x</th>\n",
              "      <th>y</th>\n",
              "      <th>s</th>\n",
              "      <th>a</th>\n",
              "      <th>dis</th>\n",
              "      <th>o</th>\n",
              "      <th>dir</th>\n",
              "      <th>event</th>\n",
              "    </tr>\n",
              "  </thead>\n",
              "  <tbody>\n",
              "    <tr>\n",
              "      <th>0</th>\n",
              "      <td>2022090800</td>\n",
              "      <td>56</td>\n",
              "      <td>35472.0</td>\n",
              "      <td>Rodger Saffold</td>\n",
              "      <td>1</td>\n",
              "      <td>2022-09-08 20:24:05.200000</td>\n",
              "      <td>76.0</td>\n",
              "      <td>BUF</td>\n",
              "      <td>left</td>\n",
              "      <td>88.37</td>\n",
              "      <td>27.27</td>\n",
              "      <td>1.62</td>\n",
              "      <td>1.15</td>\n",
              "      <td>0.16</td>\n",
              "      <td>231.74</td>\n",
              "      <td>147.90</td>\n",
              "      <td>NaN</td>\n",
              "    </tr>\n",
              "    <tr>\n",
              "      <th>22</th>\n",
              "      <td>2022090800</td>\n",
              "      <td>56</td>\n",
              "      <td>38577.0</td>\n",
              "      <td>Bobby Wagner</td>\n",
              "      <td>1</td>\n",
              "      <td>2022-09-08 20:24:05.200000</td>\n",
              "      <td>45.0</td>\n",
              "      <td>LA</td>\n",
              "      <td>left</td>\n",
              "      <td>78.25</td>\n",
              "      <td>27.53</td>\n",
              "      <td>1.24</td>\n",
              "      <td>3.81</td>\n",
              "      <td>0.11</td>\n",
              "      <td>4.20</td>\n",
              "      <td>331.67</td>\n",
              "      <td>NaN</td>\n",
              "    </tr>\n",
              "    <tr>\n",
              "      <th>44</th>\n",
              "      <td>2022090800</td>\n",
              "      <td>56</td>\n",
              "      <td>41239.0</td>\n",
              "      <td>Aaron Donald</td>\n",
              "      <td>1</td>\n",
              "      <td>2022-09-08 20:24:05.200000</td>\n",
              "      <td>99.0</td>\n",
              "      <td>LA</td>\n",
              "      <td>left</td>\n",
              "      <td>91.08</td>\n",
              "      <td>31.61</td>\n",
              "      <td>3.91</td>\n",
              "      <td>2.34</td>\n",
              "      <td>0.40</td>\n",
              "      <td>168.33</td>\n",
              "      <td>132.02</td>\n",
              "      <td>NaN</td>\n",
              "    </tr>\n",
              "  </tbody>\n",
              "</table>\n",
              "</div>\n",
              "    <div class=\"colab-df-buttons\">\n",
              "\n",
              "  <div class=\"colab-df-container\">\n",
              "    <button class=\"colab-df-convert\" onclick=\"convertToInteractive('df-add4c19b-1d12-44c0-b41f-5bf69b2d5ccd')\"\n",
              "            title=\"Convert this dataframe to an interactive table.\"\n",
              "            style=\"display:none;\">\n",
              "\n",
              "  <svg xmlns=\"http://www.w3.org/2000/svg\" height=\"24px\" viewBox=\"0 -960 960 960\">\n",
              "    <path d=\"M120-120v-720h720v720H120Zm60-500h600v-160H180v160Zm220 220h160v-160H400v160Zm0 220h160v-160H400v160ZM180-400h160v-160H180v160Zm440 0h160v-160H620v160ZM180-180h160v-160H180v160Zm440 0h160v-160H620v160Z\"/>\n",
              "  </svg>\n",
              "    </button>\n",
              "\n",
              "  <style>\n",
              "    .colab-df-container {\n",
              "      display:flex;\n",
              "      gap: 12px;\n",
              "    }\n",
              "\n",
              "    .colab-df-convert {\n",
              "      background-color: #E8F0FE;\n",
              "      border: none;\n",
              "      border-radius: 50%;\n",
              "      cursor: pointer;\n",
              "      display: none;\n",
              "      fill: #1967D2;\n",
              "      height: 32px;\n",
              "      padding: 0 0 0 0;\n",
              "      width: 32px;\n",
              "    }\n",
              "\n",
              "    .colab-df-convert:hover {\n",
              "      background-color: #E2EBFA;\n",
              "      box-shadow: 0px 1px 2px rgba(60, 64, 67, 0.3), 0px 1px 3px 1px rgba(60, 64, 67, 0.15);\n",
              "      fill: #174EA6;\n",
              "    }\n",
              "\n",
              "    .colab-df-buttons div {\n",
              "      margin-bottom: 4px;\n",
              "    }\n",
              "\n",
              "    [theme=dark] .colab-df-convert {\n",
              "      background-color: #3B4455;\n",
              "      fill: #D2E3FC;\n",
              "    }\n",
              "\n",
              "    [theme=dark] .colab-df-convert:hover {\n",
              "      background-color: #434B5C;\n",
              "      box-shadow: 0px 1px 3px 1px rgba(0, 0, 0, 0.15);\n",
              "      filter: drop-shadow(0px 1px 2px rgba(0, 0, 0, 0.3));\n",
              "      fill: #FFFFFF;\n",
              "    }\n",
              "  </style>\n",
              "\n",
              "    <script>\n",
              "      const buttonEl =\n",
              "        document.querySelector('#df-add4c19b-1d12-44c0-b41f-5bf69b2d5ccd button.colab-df-convert');\n",
              "      buttonEl.style.display =\n",
              "        google.colab.kernel.accessAllowed ? 'block' : 'none';\n",
              "\n",
              "      async function convertToInteractive(key) {\n",
              "        const element = document.querySelector('#df-add4c19b-1d12-44c0-b41f-5bf69b2d5ccd');\n",
              "        const dataTable =\n",
              "          await google.colab.kernel.invokeFunction('convertToInteractive',\n",
              "                                                    [key], {});\n",
              "        if (!dataTable) return;\n",
              "\n",
              "        const docLinkHtml = 'Like what you see? Visit the ' +\n",
              "          '<a target=\"_blank\" href=https://colab.research.google.com/notebooks/data_table.ipynb>data table notebook</a>'\n",
              "          + ' to learn more about interactive tables.';\n",
              "        element.innerHTML = '';\n",
              "        dataTable['output_type'] = 'display_data';\n",
              "        await google.colab.output.renderOutput(dataTable, element);\n",
              "        const docLink = document.createElement('div');\n",
              "        docLink.innerHTML = docLinkHtml;\n",
              "        element.appendChild(docLink);\n",
              "      }\n",
              "    </script>\n",
              "  </div>\n",
              "\n",
              "\n",
              "<div id=\"df-381e10b9-8874-40fb-b3c9-43a341ae13bc\">\n",
              "  <button class=\"colab-df-quickchart\" onclick=\"quickchart('df-381e10b9-8874-40fb-b3c9-43a341ae13bc')\"\n",
              "            title=\"Suggest charts\"\n",
              "            style=\"display:none;\">\n",
              "\n",
              "<svg xmlns=\"http://www.w3.org/2000/svg\" height=\"24px\"viewBox=\"0 0 24 24\"\n",
              "     width=\"24px\">\n",
              "    <g>\n",
              "        <path d=\"M19 3H5c-1.1 0-2 .9-2 2v14c0 1.1.9 2 2 2h14c1.1 0 2-.9 2-2V5c0-1.1-.9-2-2-2zM9 17H7v-7h2v7zm4 0h-2V7h2v10zm4 0h-2v-4h2v4z\"/>\n",
              "    </g>\n",
              "</svg>\n",
              "  </button>\n",
              "\n",
              "<style>\n",
              "  .colab-df-quickchart {\n",
              "      --bg-color: #E8F0FE;\n",
              "      --fill-color: #1967D2;\n",
              "      --hover-bg-color: #E2EBFA;\n",
              "      --hover-fill-color: #174EA6;\n",
              "      --disabled-fill-color: #AAA;\n",
              "      --disabled-bg-color: #DDD;\n",
              "  }\n",
              "\n",
              "  [theme=dark] .colab-df-quickchart {\n",
              "      --bg-color: #3B4455;\n",
              "      --fill-color: #D2E3FC;\n",
              "      --hover-bg-color: #434B5C;\n",
              "      --hover-fill-color: #FFFFFF;\n",
              "      --disabled-bg-color: #3B4455;\n",
              "      --disabled-fill-color: #666;\n",
              "  }\n",
              "\n",
              "  .colab-df-quickchart {\n",
              "    background-color: var(--bg-color);\n",
              "    border: none;\n",
              "    border-radius: 50%;\n",
              "    cursor: pointer;\n",
              "    display: none;\n",
              "    fill: var(--fill-color);\n",
              "    height: 32px;\n",
              "    padding: 0;\n",
              "    width: 32px;\n",
              "  }\n",
              "\n",
              "  .colab-df-quickchart:hover {\n",
              "    background-color: var(--hover-bg-color);\n",
              "    box-shadow: 0 1px 2px rgba(60, 64, 67, 0.3), 0 1px 3px 1px rgba(60, 64, 67, 0.15);\n",
              "    fill: var(--button-hover-fill-color);\n",
              "  }\n",
              "\n",
              "  .colab-df-quickchart-complete:disabled,\n",
              "  .colab-df-quickchart-complete:disabled:hover {\n",
              "    background-color: var(--disabled-bg-color);\n",
              "    fill: var(--disabled-fill-color);\n",
              "    box-shadow: none;\n",
              "  }\n",
              "\n",
              "  .colab-df-spinner {\n",
              "    border: 2px solid var(--fill-color);\n",
              "    border-color: transparent;\n",
              "    border-bottom-color: var(--fill-color);\n",
              "    animation:\n",
              "      spin 1s steps(1) infinite;\n",
              "  }\n",
              "\n",
              "  @keyframes spin {\n",
              "    0% {\n",
              "      border-color: transparent;\n",
              "      border-bottom-color: var(--fill-color);\n",
              "      border-left-color: var(--fill-color);\n",
              "    }\n",
              "    20% {\n",
              "      border-color: transparent;\n",
              "      border-left-color: var(--fill-color);\n",
              "      border-top-color: var(--fill-color);\n",
              "    }\n",
              "    30% {\n",
              "      border-color: transparent;\n",
              "      border-left-color: var(--fill-color);\n",
              "      border-top-color: var(--fill-color);\n",
              "      border-right-color: var(--fill-color);\n",
              "    }\n",
              "    40% {\n",
              "      border-color: transparent;\n",
              "      border-right-color: var(--fill-color);\n",
              "      border-top-color: var(--fill-color);\n",
              "    }\n",
              "    60% {\n",
              "      border-color: transparent;\n",
              "      border-right-color: var(--fill-color);\n",
              "    }\n",
              "    80% {\n",
              "      border-color: transparent;\n",
              "      border-right-color: var(--fill-color);\n",
              "      border-bottom-color: var(--fill-color);\n",
              "    }\n",
              "    90% {\n",
              "      border-color: transparent;\n",
              "      border-bottom-color: var(--fill-color);\n",
              "    }\n",
              "  }\n",
              "</style>\n",
              "\n",
              "  <script>\n",
              "    async function quickchart(key) {\n",
              "      const quickchartButtonEl =\n",
              "        document.querySelector('#' + key + ' button');\n",
              "      quickchartButtonEl.disabled = true;  // To prevent multiple clicks.\n",
              "      quickchartButtonEl.classList.add('colab-df-spinner');\n",
              "      try {\n",
              "        const charts = await google.colab.kernel.invokeFunction(\n",
              "            'suggestCharts', [key], {});\n",
              "      } catch (error) {\n",
              "        console.error('Error during call to suggestCharts:', error);\n",
              "      }\n",
              "      quickchartButtonEl.classList.remove('colab-df-spinner');\n",
              "      quickchartButtonEl.classList.add('colab-df-quickchart-complete');\n",
              "    }\n",
              "    (() => {\n",
              "      let quickchartButtonEl =\n",
              "        document.querySelector('#df-381e10b9-8874-40fb-b3c9-43a341ae13bc button');\n",
              "      quickchartButtonEl.style.display =\n",
              "        google.colab.kernel.accessAllowed ? 'block' : 'none';\n",
              "    })();\n",
              "  </script>\n",
              "</div>\n",
              "    </div>\n",
              "  </div>\n"
            ]
          },
          "metadata": {},
          "execution_count": 12
        }
      ],
      "source": [
        "df = dfs['tracking_week_1']\n",
        "snapshot = df[df['time'] == df['time'][0]]\n",
        "snapshot.head(3)"
      ]
    },
    {
      "cell_type": "markdown",
      "metadata": {
        "id": "fBYaFssAYIyw"
      },
      "source": [
        "# Representación de los datos"
      ]
    },
    {
      "cell_type": "markdown",
      "metadata": {
        "id": "O5WdA8mcFf9_"
      },
      "source": [
        "Para graficar los jugadores en el campo en dicho instante de tiempo usaremos matplotlib."
      ]
    },
    {
      "cell_type": "markdown",
      "metadata": {
        "id": "I-i8hioHOSu-"
      },
      "source": [
        "Organizamos los distintos clubs."
      ]
    },
    {
      "cell_type": "code",
      "execution_count": null,
      "metadata": {
        "colab": {
          "base_uri": "https://localhost:8080/"
        },
        "id": "bvgrMQNqNRDL",
        "outputId": "99879e09-1b7c-44e5-bcfb-0ab00aafd336"
      },
      "outputs": [
        {
          "output_type": "execute_result",
          "data": {
            "text/plain": [
              "array(['BUF', 'LA', 'football'], dtype=object)"
            ]
          },
          "metadata": {},
          "execution_count": 13
        }
      ],
      "source": [
        "clubs = snapshot['club'].unique()\n",
        "clubs"
      ]
    },
    {
      "cell_type": "markdown",
      "metadata": {
        "id": "C_1-G2hBCnCW"
      },
      "source": [
        "El club 'football' es el del balón."
      ]
    },
    {
      "cell_type": "code",
      "execution_count": null,
      "metadata": {
        "colab": {
          "base_uri": "https://localhost:8080/",
          "height": 450
        },
        "id": "CHrsRhkiGE_d",
        "outputId": "c8864356-7428-4d02-872a-f8b1510ebf5d"
      },
      "outputs": [
        {
          "output_type": "display_data",
          "data": {
            "text/plain": [
              "<Figure size 1000x600 with 1 Axes>"
            ],
            "image/png": "[encoded data removed]"
          },
          "metadata": {}
        }
      ],
      "source": [
        "import matplotlib.pyplot as plt\n",
        "import itertools\n",
        "\n",
        "# Crear el gráfico de dispersión\n",
        "plt.figure(figsize=(10, 6))\n",
        "plt.scatter(snapshot['x'], snapshot['y'], marker='o')\n",
        "\n",
        "# Añadir etiquetas y título\n",
        "plt.xlabel('Coordenada X')\n",
        "plt.ylabel('Coordenada Y')\n",
        "plt.title('Posición inicial de los Jugadores')\n",
        "\n",
        "\n",
        "# Añadir etiquetas para cada punto\n",
        "for i, row in snapshot.iterrows():\n",
        "    if row['club'] == clubs[0]:\n",
        "      color = 'blue'\n",
        "    elif row['club'] == clubs[1]:\n",
        "      color = 'green'\n",
        "    else:\n",
        "      color = 'red'\n",
        "    if color != 'red':\n",
        "      plt.annotate(int(row['jerseyNumber']), (row['x'], row['y']), textcoords=\"offset points\", xytext=(0, 5), ha='center',color=color)\n",
        "    plt.scatter(row['x'], row['y'],color=color)\n",
        "\n",
        "# Mostrar el gráfico\n",
        "plt.show()"
      ]
    },
    {
      "cell_type": "markdown",
      "metadata": {
        "id": "JDsV-1FPSRVA"
      },
      "source": [
        "Se muestra cada equipo en un color y el balón en rojo. Cada jugador tiene un número de jersey."
      ]
    },
    {
      "cell_type": "markdown",
      "metadata": {
        "id": "FOCTPoSoBgv6"
      },
      "source": [
        "Pero lo que nos interesa es ver el ritmo del juego por lo que tomaremos como ejemplo la jugada 56 del primer partido, y representaremos sus frames."
      ]
    },
    {
      "cell_type": "code",
      "execution_count": null,
      "metadata": {
        "colab": {
          "base_uri": "https://localhost:8080/"
        },
        "id": "ApwkoGJmnP0e",
        "outputId": "61aa1386-3f93-492e-e0b5-709706fd3ca3"
      },
      "outputs": [
        {
          "output_type": "stream",
          "name": "stderr",
          "text": [
            "<ipython-input-15-29df54557ca1>:2: UserWarning: Boolean Series key will be reindexed to match DataFrame index.\n",
            "  play56_game1 = df[df['playId']==3126][df['gameId']==2022091103]# Parece buen pase\n"
          ]
        }
      ],
      "source": [
        "#play56_game1 = df[df['playId']==56][df['gameId']==2022090800]\n",
        "play56_game1 = df[df['playId']==3126][df['gameId']==2022091103]# Parece buen pase\n"
      ]
    },
    {
      "cell_type": "code",
      "source": [
        "frames = play56_game1['frameId'].unique() # contamos cuantos frames tiene la jugada 56\n",
        "print(frames)\n"
      ],
      "metadata": {
        "colab": {
          "base_uri": "https://localhost:8080/"
        },
        "id": "4kXM9PGGgPa6",
        "outputId": "94756b19-4308-4be3-f1fd-3e4b826e61d7"
      },
      "execution_count": null,
      "outputs": [
        {
          "output_type": "stream",
          "name": "stdout",
          "text": [
            "[ 1  2  3  4  5  6  7  8  9 10 11 12 13 14 15 16 17 18 19 20 21 22 23 24\n",
            " 25 26 27 28 29 30 31 32 33 34 35 36 37 38 39 40 41 42 43 44 45 46 47 48\n",
            " 49 50 51 52 53 54 55 56 57 58 59]\n"
          ]
        }
      ]
    },
    {
      "cell_type": "code",
      "source": [],
      "metadata": {
        "id": "A6DheQmqjHib"
      },
      "execution_count": null,
      "outputs": []
    },
    {
      "cell_type": "code",
      "source": [],
      "metadata": {
        "id": "5kyHUiV-kik-"
      },
      "execution_count": null,
      "outputs": []
    },
    {
      "cell_type": "code",
      "source": [
        "import matplotlib.pyplot as plt\n",
        "from matplotlib.animation import FuncAnimation\n",
        "\n",
        "# Función para crear el campo de fútbol americano\n",
        "def create_football_field():\n",
        "    fig, ax = plt.subplots(figsize=(10, 5))\n",
        "    ax.set_facecolor('green')\n",
        "    plt.xlim(0, 120)\n",
        "    plt.ylim(0, 53.3)\n",
        "\n",
        "    # Representación yardas\n",
        "    for yard_line in range(0, 130, 10):\n",
        "        color = 'white' if yard_line % 10 == 0 else 'green'\n",
        "        plt.axvline(x=yard_line, color=color, linestyle='-', linewidth=2)\n",
        "        plt.text(yard_line, 2, f'{yard_line} yd', color='white', ha='center', va='bottom', fontsize=8)\n",
        "\n",
        "    # Zonas de home y away\n",
        "    plt.axvspan(0, 10, facecolor='blue', alpha=0.3)\n",
        "    plt.axvspan(110, 120, facecolor='red', alpha=0.3)\n",
        "    plt.text(5, 26.7, 'Home', color='white', ha='center', va='center', fontsize=10, rotation=90)\n",
        "    plt.text(115, 26.7, 'Away', color='white', ha='center', va='center', fontsize=10, rotation=-90)\n",
        "\n",
        "    # Etiquetas y leyenda\n",
        "    plt.xlabel('X Position')\n",
        "    plt.ylabel('Y Position')\n",
        "\n",
        "    return fig, ax\n",
        "\n",
        "# Supongamos que play56_game1 es el DataFrame con los datos de las jugadas\n",
        "frames = play56_game1['frameId'].unique()\n",
        "clubs = play56_game1['club'].unique()\n",
        "\n",
        "# Crear el campo de fútbol\n",
        "fig, ax = create_football_field()\n",
        "\n",
        "# Función de inicialización\n",
        "def init():\n",
        "    return []\n",
        "\n",
        "# Función de actualización para la animación\n",
        "def update(frame):\n",
        "    ax.clear()\n",
        "\n",
        "    snapshot = play56_game1[play56_game1['frameId'] == frame]\n",
        "    for i, row in snapshot.iterrows():\n",
        "# Representación yardas\n",
        "        for yard_line in range(0, 130, 10):\n",
        "            color = 'white' if yard_line % 10 == 0 else 'green'\n",
        "            plt.axvline(x=yard_line, color=color, linestyle='-', linewidth=2)\n",
        "            plt.text(yard_line, 2, f'{yard_line} yd', color='white', ha='center', va='bottom', fontsize=8)\n",
        "\n",
        "        # Zonas de home y away\n",
        "        plt.axvspan(0, 10, facecolor='blue', alpha=0.3)\n",
        "        plt.axvspan(110, 120, facecolor='red', alpha=0.3)\n",
        "        plt.text(5, 26.7, 'Home', color='white', ha='center', va='center', fontsize=10, rotation=90)\n",
        "        plt.text(115, 26.7, 'Away', color='white', ha='center', va='center', fontsize=10, rotation=-90)\n",
        "        if row['club'] == clubs[0]:\n",
        "            color = 'blue'\n",
        "        elif row['club'] == clubs[1]:\n",
        "            color = 'red'\n",
        "        else:\n",
        "            color = 'black'\n",
        "        ax.scatter(row['x'], row['y'], marker='o', color=color)\n",
        "        plt.xlim(0, 120)\n",
        "        plt.ylim(0, 53.3)\n",
        "\n",
        "\n",
        "\n",
        "\n",
        "# Crear la animación\n",
        "ani = FuncAnimation(fig, update, frames=frames, init_func=init, interval=100, repeat=False)\n",
        "\n",
        "# Guardar la animación como GIF\n",
        "ani.save('football_animation.gif', writer='imagemagick', fps=12)\n",
        "\n",
        "# Mostrar el gráfico\n",
        "plt.show()\n"
      ],
      "metadata": {
        "colab": {
          "base_uri": "https://localhost:8080/",
          "height": 482
        },
        "id": "8X0yDb9Rl25f",
        "outputId": "e5a9a5c5-a49c-463b-ff61-141414520e52"
      },
      "execution_count": null,
      "outputs": [
        {
          "output_type": "stream",
          "name": "stderr",
          "text": [
            "WARNING:matplotlib.animation:MovieWriter imagemagick unavailable; using Pillow instead.\n"
          ]
        },
        {
          "output_type": "display_data",
          "data": {
            "text/plain": [
              "<Figure size 1000x500 with 1 Axes>"
            ],
            "image/png": "[encoded data removed]"
          },
          "metadata": {}
        }
      ]
    },
    {
      "cell_type": "markdown",
      "metadata": {
        "id": "bECXgCcQ9YG9"
      },
      "source": [
        "Graficamos los 4 primeros frames de la jugada 56 del primer partido."
      ]
    },
    {
      "cell_type": "code",
      "execution_count": null,
      "metadata": {
        "colab": {
          "base_uri": "https://localhost:8080/",
          "height": 834
        },
        "id": "K1_GebUp1Uh9",
        "outputId": "c23927d5-6fad-4d70-c6f5-0bb1afcc69ff"
      },
      "outputs": [
        {
          "output_type": "display_data",
          "data": {
            "text/plain": [
              "<Figure size 533x1000 with 30 Axes>"
            ],
            "image/png": "[encoded data removed]"
          },
          "metadata": {}
        }
      ],
      "source": [
        "import matplotlib.pyplot as plt\n",
        "frames = play56_game1['frameId'].unique() # contamos cuantos frames tiene la jugada 56\n",
        "clubs = play56_game1['club'].unique()     # los equipos del partido (el balón es el equipo 'football')\n",
        "\n",
        "fig, axs = plt.subplots(nrows=30, ncols=1, figsize=(5.33, 10))\n",
        "\n",
        "for frame in df['frameId'].unique()[:30]:\n",
        "  snapshot = play56_game1[play56_game1['frameId'] == frame]\n",
        "  for i, row in snapshot.iterrows():\n",
        "    if row['club'] == clubs[0]:\n",
        "      color = 'blue'\n",
        "    elif row['club'] == clubs[1]:\n",
        "      color = 'red'\n",
        "    else:\n",
        "      color = 'black'\n",
        "    axs[frame-1].scatter(row['x'], row['y'], marker='o', color=color)\n",
        "    plt.xticks(range(0, 110, 10))\n",
        "    plt.yticks([0, 53.3])\n",
        "    axs[frame-1].set_facecolor('green')\n",
        "\n",
        "plt.show()\n"
      ]
    },
    {
      "cell_type": "markdown",
      "metadata": {
        "id": "3oaAqjrcC5Pu"
      },
      "source": [
        "Podríamos graficar todos los frames pero con 4 ya se ve cómo los jugadores y el balón se mueven por el campo.\n",
        "\n",
        "Nota: el campo de juego del fútbol americano tiene 100 yardas de largo y 53.3 de ancho."
      ]
    },
    {
      "cell_type": "markdown",
      "metadata": {
        "id": "2igsgXwWg7hs"
      },
      "source": [
        "# Preparación de los datos"
      ]
    },
    {
      "cell_type": "markdown",
      "metadata": {
        "id": "5kzw7NmjBWCQ"
      },
      "source": [
        "La manera en la que vamos a usar los datos será una matriz, cada entrada consistirá en un frame de una jugada, y la red neuronal debe predecir quién será el portador del balón, jugador clave ya que avanzará en yardas durante la jugada."
      ]
    },
    {
      "cell_type": "markdown",
      "metadata": {
        "id": "aAoes-Y5Zcz0"
      },
      "source": [
        "Concatenamos todos los datos de las semanas de entrenamiento 1-9 y eliminamos algunas columnas innecesarias para la predicción. A este dataframe lo llamamos `ds`."
      ]
    },
    {
      "cell_type": "code",
      "execution_count": null,
      "metadata": {
        "id": "LA_GLFeKZZlU"
      },
      "outputs": [],
      "source": [
        "ds = pd.concat([dfs[f'tracking_week_{i}'] for i in range(1, 10)])\n",
        "ds.drop(columns=['displayName', 'jerseyNumber', 'time'], inplace=True)\n",
        "ds.head(3)"
      ]
    },
    {
      "cell_type": "markdown",
      "metadata": {
        "id": "IZyKGf9Lp-zu"
      },
      "source": [
        "Eliminaremos las jugadas en las que no hay uno de los 3 tipos de jugada:\n",
        "- `pass_forward`\n",
        "- `pass_shovel`\n",
        "- `run`\n",
        "\n",
        "Queremos analizar jugadas que no parten de un evento caótico como la intercepción o que la posesión no pertenece a ningún equipo.\n",
        "\n",
        "Así también reducimos a la mitad los frames, cosa necesaria para mantener la RAM de google collab y un tiempo asequible de compilación.\n",
        "\n",
        "Además eliminaremos los frames en los que ya se sabe quién es el portador del balón, ya que es lo que queremos predecir."
      ]
    },
    {
      "cell_type": "code",
      "execution_count": null,
      "metadata": {
        "id": "8lFKKIdWp_He"
      },
      "outputs": [],
      "source": [
        "aux = ds[(ds['event'] == 'pass_forward') | (ds['event'] == 'pass_shovel') | (ds['event'] == 'run')]\n",
        "\n",
        "aux_plays = aux[['gameId', 'playId']]\n",
        "aux_plays.drop_duplicates(inplace=True)\n",
        "\n",
        "ds = pd.merge(ds, aux_plays, on=['gameId', 'playId'], how='inner')\n",
        "\n",
        "aux_frames = aux[['gameId', 'playId', 'frameId']]\n",
        "aux_frames.drop_duplicates(inplace=True)\n",
        "aux_frames\n",
        "\n",
        "ds_combinado = pd.merge(ds, aux_frames, on=['gameId', 'playId'], how='left', suffixes=('', '_aux_frames'))\n",
        "ds_combinado\n",
        "\n",
        "ds = ds_combinado[ds_combinado['frameId'] <= ds_combinado['frameId_aux_frames']]\n",
        "\n",
        "ds.drop(columns='frameId_aux_frames', inplace=True)"
      ]
    },
    {
      "cell_type": "code",
      "execution_count": null,
      "metadata": {
        "id": "faq3gVrksWta"
      },
      "outputs": [],
      "source": [
        "ds = ds.drop(columns=['event'])"
      ]
    },
    {
      "cell_type": "markdown",
      "metadata": {
        "id": "62SSQ-0BtIg_"
      },
      "source": [
        "Para asegurarnos de que hay 23 agentes en cada snapshot:\n",
        "\n",
        "$23 = 11 jugadores\\times 2 equipos + 1balón$\n",
        "\n",
        "Los frames que no sigan esa estructura no nos aportan ninguna información y pueden suponer un problema, comprobamos:"
      ]
    },
    {
      "cell_type": "code",
      "execution_count": null,
      "metadata": {
        "id": "9ypyq5SytK66"
      },
      "outputs": [],
      "source": [
        "import numpy as np\n",
        "ds_conteo = ds.groupby(['gameId', 'playId', 'frameId']).size().reset_index(name='Conteo')\n",
        "print(f'Array con número de agentes por frame encontrados {np.unique(ds_conteo[\"Conteo\"])}')"
      ]
    },
    {
      "cell_type": "markdown",
      "metadata": {
        "id": "pHjKAYdrrEw2"
      },
      "source": [
        "Como todos siguen la estructura, no es necesario realizar más acciones.\\\n",
        "(Nótese que si no hubiesemos filtrado jugadas si existen frames con un solo agente en vez de 23 en el dataframe inicial)"
      ]
    },
    {
      "cell_type": "code",
      "execution_count": null,
      "metadata": {
        "id": "wT-ZBip6AVBV"
      },
      "outputs": [],
      "source": [
        "ds.head(1)"
      ]
    },
    {
      "cell_type": "markdown",
      "metadata": {
        "id": "QGjaV2z_SLwJ"
      },
      "source": [
        "## Datos que formarán parte del input de la red neuronal convolucional"
      ]
    },
    {
      "cell_type": "markdown",
      "metadata": {
        "id": "VJjSM49AiT71"
      },
      "source": [
        "## Orientación jugadores"
      ]
    },
    {
      "cell_type": "markdown",
      "metadata": {
        "id": "LUJEKa9WiWL7"
      },
      "source": [
        "Es NaN para el balón. Sustituimos NaN por cero."
      ]
    },
    {
      "cell_type": "code",
      "execution_count": null,
      "metadata": {
        "id": "Crur39MJn4gZ"
      },
      "outputs": [],
      "source": [
        "ds['dir'] = ds['dir'].fillna(0)\n",
        "ds['o'] = ds['o'].fillna(0)"
      ]
    },
    {
      "cell_type": "markdown",
      "metadata": {
        "id": "12zybVil86WN"
      },
      "source": [
        "## Número de intento\n",
        "En fútbol americano el equipo atacante tiene 4 intentos para avanzar 10 yardas, creemos que el número de yardas restantes por avanzar influyen en quién puedee ser un receptor adecuado."
      ]
    },
    {
      "cell_type": "code",
      "execution_count": null,
      "metadata": {
        "id": "lGUA5hPC85v8"
      },
      "outputs": [],
      "source": [
        "ds = pd.merge(ds, dfs['plays'][['down', 'gameId','playId']], on=['gameId','playId'], how='left')"
      ]
    },
    {
      "cell_type": "markdown",
      "metadata": {
        "id": "k7t7v3edn1PY"
      },
      "source": [
        "## Yardas a completar\n",
        "Cuantas yardas quedan por realizar para no perder la posesión tras 4 intentos"
      ]
    },
    {
      "cell_type": "code",
      "execution_count": null,
      "metadata": {
        "id": "IbQbsJJzihjz"
      },
      "outputs": [],
      "source": [
        "ds = pd.merge(ds, dfs['plays'][['yardsToGo', 'gameId','playId']], on=['gameId','playId'], how='left')"
      ]
    },
    {
      "cell_type": "markdown",
      "metadata": {
        "id": "mJmF1FJz_MaD"
      },
      "source": [
        "## Línea de las yardas\n",
        "Línea del campo que indica desde donde comienza el intento"
      ]
    },
    {
      "cell_type": "code",
      "execution_count": null,
      "metadata": {
        "id": "HHivth85_PFE"
      },
      "outputs": [],
      "source": [
        "ds = pd.merge(ds, dfs['plays'][['yardlineNumber', 'gameId','playId']], on=['gameId','playId'], how='left')\n",
        "ds.head(1)"
      ]
    },
    {
      "cell_type": "markdown",
      "metadata": {
        "id": "HfKflDaguUh7"
      },
      "source": [
        "## Posición del jugador en el equipo\n",
        "En fútbol americano ciertas posiciones son designadas previamente a la jugada para ser candidatos a receptor.\\\n",
        "Se tratan de:\n",
        "+ Quarter back\n",
        "+ Tight end\n",
        "+ Running back\n",
        "+ Wide runner\n",
        "\n",
        "Un total de como mucho 6 jugadores (5 + el quarter back)\\\n",
        "Esto nos indica que ante un generador de números aleatorios hablaríamos de acertar 1 de cada 6 veces."
      ]
    },
    {
      "cell_type": "code",
      "execution_count": null,
      "metadata": {
        "id": "3Nfw6aw3u0X6"
      },
      "outputs": [],
      "source": [
        "dfs['players']['position'].unique()"
      ]
    },
    {
      "cell_type": "markdown",
      "metadata": {
        "id": "JeVmmjw-yHW5"
      },
      "source": [
        "Los jugadores QB, TE, WR, RB son los encargados de recibir y llevar el balón, por lo que los diferenciaremos del resto."
      ]
    },
    {
      "cell_type": "code",
      "execution_count": null,
      "metadata": {
        "id": "XeMEK__muXeu"
      },
      "outputs": [],
      "source": [
        "ds = pd.merge(ds, dfs['players'][['position', 'nflId']], on=['nflId'], how='left')\n",
        "\n",
        "ds['pos_team'] = 0\n",
        "ds.loc[(ds['position'] == 'QB')|(ds['position'] == 'TE')|(ds['position'] == 'WR')|(ds['position'] == 'RB'), 'pos_team'] = 1\n",
        "ds.drop(columns=['position'], inplace=True)\n",
        "ds.head(2)"
      ]
    },
    {
      "cell_type": "markdown",
      "metadata": {
        "id": "1D8bRn5woeCq"
      },
      "source": [
        "## Cuarto del partido\n",
        "Un partido dura 60 minutos dividido en 4 cuartos, esta información es posible que también influye en la decisión que tome el equipo ofensor"
      ]
    },
    {
      "cell_type": "code",
      "execution_count": null,
      "metadata": {
        "id": "H-stOtPfk2Gq"
      },
      "outputs": [],
      "source": [
        "ds = pd.merge(ds, dfs['plays'][['quarter', 'gameId','playId']], on=['gameId','playId'], how='left')"
      ]
    },
    {
      "cell_type": "markdown",
      "metadata": {
        "id": "NCtCaip-dME5"
      },
      "source": [
        "## Dirección de la jugada\n",
        "En este deporte no se cambia de campo, la dirección de la jugada nos indica si el atacante es el equipo local o visitante.\\\n",
        "En vez de `left/right` usaremos 0 / 1."
      ]
    },
    {
      "cell_type": "code",
      "execution_count": null,
      "metadata": {
        "id": "Ze_EISbDziQ7"
      },
      "outputs": [],
      "source": [
        "ds['playDirection'] = ds['playDirection'].replace({'left': 0, 'right': 1})\n",
        "ds.head(1)"
      ]
    },
    {
      "cell_type": "markdown",
      "metadata": {
        "id": "IKdvExw5whti"
      },
      "source": [
        "## Equipo local/visitante"
      ]
    },
    {
      "cell_type": "markdown",
      "metadata": {
        "id": "iCvKScRJRo10"
      },
      "source": [
        "Local/visitante aparece como `homeTeamAbbr/visitorTeamAbb`en el dataset de partidos. Y lo queremos añadir a `ds`."
      ]
    },
    {
      "cell_type": "code",
      "execution_count": null,
      "metadata": {
        "id": "38plRRWFS375"
      },
      "outputs": [],
      "source": [
        "ds = pd.merge(ds, dfs['games'][['homeTeamAbbr', 'gameId']], on='gameId', how='left')"
      ]
    },
    {
      "cell_type": "markdown",
      "metadata": {
        "id": "0TxSgTpsdv4Q"
      },
      "source": [
        "Con valores:\n",
        "- `1: local`\n",
        "- `-1: visitante`\n",
        "- `0: balón`"
      ]
    },
    {
      "cell_type": "code",
      "execution_count": null,
      "metadata": {
        "id": "8pfD-cPJvTp0"
      },
      "outputs": [],
      "source": [
        "ds['local'] = -1\n",
        "ds.loc[ds['club'] == ds['homeTeamAbbr'], 'local'] = 1\n",
        "ds.loc[ds['club'] == 'football', 'local'] = 0\n",
        "ds.drop(columns=['club', 'homeTeamAbbr'], inplace=True)"
      ]
    },
    {
      "cell_type": "markdown",
      "metadata": {
        "id": "mQa-sfWEu1yD"
      },
      "source": [
        "## Posesión del balón"
      ]
    },
    {
      "cell_type": "markdown",
      "metadata": {
        "id": "ocJMmSuXdjG5"
      },
      "source": [
        "Es lo que nos interesa predecir y por tanto será nuestra etiqueta en formato one-hot encoding. Es decir, un vector que toma el valor 1 en la posición del jugador que obtenga la posesión del balón en la jugada, también llamado ballCarrier.\n",
        "\n",
        "Más adelante mostraremos la forma de la etiqueta."
      ]
    },
    {
      "cell_type": "code",
      "execution_count": null,
      "metadata": {
        "id": "_aukL6hTu6at"
      },
      "outputs": [],
      "source": [
        "ds = pd.merge(ds, dfs['plays'][['ballCarrierId', 'playId', 'gameId']], on=['playId', 'gameId'], how='left')\n",
        "ds['ballCarrier'] = 0\n",
        "ds.loc[ds['nflId'] == ds['ballCarrierId'], 'ballCarrier'] = 1\n",
        "ds.drop(columns='ballCarrierId', inplace=True)"
      ]
    },
    {
      "cell_type": "markdown",
      "metadata": {
        "id": "TLz0FTRteAv_"
      },
      "source": [
        "Ordenamos el dataFrame para que aparezcan primero los jugadores del equipo local seguidos por los del visitante. De esta manera, ya no necesitamos una columna que especifique de qué equipo es cada jugador. En un frame:\n",
        "\n",
        "- Las 11 primeras filas son 11 jugadores que pertenecen al equipo local.\n",
        "- Las 11 siguientes filas son 11 jugadores que pertenecen al equipo visitante.\n",
        "- La última fila es el balón."
      ]
    },
    {
      "cell_type": "code",
      "execution_count": null,
      "metadata": {
        "id": "Ix01_boxerr5"
      },
      "outputs": [],
      "source": [
        "ds.sort_values(by=['gameId', 'playId', 'frameId', 'local'], ascending=True, inplace=True)\n",
        "# Como el orden de local es ascendente los 11 jugadores de las primeras 11 filas se corresponden con visitantes\n",
        "# Haciendo innecesario el uso de la columna local\n",
        "ds.reset_index(drop=True, inplace=True)"
      ]
    },
    {
      "cell_type": "code",
      "execution_count": null,
      "metadata": {
        "id": "3qCSpuh-s0Mh"
      },
      "outputs": [],
      "source": [
        "ds.head(10)"
      ]
    },
    {
      "cell_type": "markdown",
      "metadata": {
        "id": "4SRLsW4kSLwU"
      },
      "source": [
        "Finalmente eliminamos las columnas ya no son necesarias para definir el input"
      ]
    },
    {
      "cell_type": "code",
      "execution_count": null,
      "metadata": {
        "id": "gKCnNZg9h_sj"
      },
      "outputs": [],
      "source": [
        "ds = ds.drop(columns=['gameId','playId','nflId','frameId','local'])\n",
        "ds.head(1)"
      ]
    },
    {
      "cell_type": "markdown",
      "metadata": {
        "id": "yWe2QYYJfSpo"
      },
      "source": [
        "# Normalización de columnas"
      ]
    },
    {
      "cell_type": "markdown",
      "metadata": {
        "id": "8lkAZsCDfV2O"
      },
      "source": [
        "Buscamos que las columnas estén normalizadas para darle facilidad a la red neuronal."
      ]
    },
    {
      "cell_type": "code",
      "execution_count": null,
      "metadata": {
        "id": "vnS74MnJfVfF"
      },
      "outputs": [],
      "source": [
        "columnas = ['x','y','s','a','dis','o','dir','down','yardsToGo','yardlineNumber','quarter']\n",
        "for columna in columnas:\n",
        "  # Normalización min-max\n",
        "  min_val = ds[columna].min()\n",
        "  max_val = ds[columna].max()\n",
        "  ds[columna] = (ds[columna] - min_val) / (max_val - min_val)"
      ]
    },
    {
      "cell_type": "code",
      "execution_count": null,
      "metadata": {
        "id": "UU_TAYchtl_D"
      },
      "outputs": [],
      "source": [
        "ds.head(10)"
      ]
    },
    {
      "cell_type": "code",
      "execution_count": null,
      "metadata": {
        "id": "8K-rpLg-7ytz"
      },
      "outputs": [],
      "source": [
        "ds.shape"
      ]
    },
    {
      "cell_type": "markdown",
      "metadata": {
        "id": "kwNhs3glCV5B"
      },
      "source": [
        "Que es divisible entre 23. (Esperamos frames con 23 filas una por cada agente)"
      ]
    },
    {
      "cell_type": "code",
      "execution_count": null,
      "metadata": {
        "id": "EwjnKAfDCUXd"
      },
      "outputs": [],
      "source": [
        "287454/23"
      ]
    },
    {
      "cell_type": "markdown",
      "metadata": {
        "id": "kZP56bY4fxrx"
      },
      "source": [
        "# Preparación del input"
      ]
    },
    {
      "cell_type": "markdown",
      "metadata": {
        "id": "grdqFCIDgCJe"
      },
      "source": [
        "Convertimos el dataFrame a un tensor con **snapshots** y **etiquetas**."
      ]
    },
    {
      "cell_type": "code",
      "execution_count": null,
      "metadata": {
        "id": "wY2Ljl0rf0oy"
      },
      "outputs": [],
      "source": [
        "import tensorflow as tf\n",
        "numeric_feature_names = ['playDirection', 'x','y','s','a','dis','o','dir','down','yardsToGo','yardlineNumber','pos_team','quarter']\n",
        "numeric_features = ds[numeric_feature_names]\n",
        "numeric_features.head()\n",
        "snapshots = tf.convert_to_tensor(numeric_features)\n",
        "snapshots = tf.reshape(snapshots, (-1, 23, 13))\n",
        "\n",
        "target = 'ballCarrier'\n",
        "label_features = ds[target]\n",
        "labels = tf.convert_to_tensor(label_features)\n",
        "labels = tf.reshape(labels, (-1, 23))\n",
        "snapshots.shape, labels.shape"
      ]
    },
    {
      "cell_type": "markdown",
      "metadata": {
        "id": "FbNA1VaYeVK9"
      },
      "source": [
        "Los datos de entrenamiento:"
      ]
    },
    {
      "cell_type": "code",
      "execution_count": null,
      "metadata": {
        "id": "PwhelFXIeYVZ"
      },
      "outputs": [],
      "source": [
        "ds_nfl =  tf.data.Dataset.from_tensor_slices((snapshots, labels))\n",
        "ds_nfl"
      ]
    },
    {
      "cell_type": "markdown",
      "metadata": {
        "id": "nFDEXiz6gUtE"
      },
      "source": [
        "Imprimimos el primero para ver qué forma tiene."
      ]
    },
    {
      "cell_type": "code",
      "execution_count": null,
      "metadata": {
        "id": "D0NI-ghGgTrh"
      },
      "outputs": [],
      "source": [
        "for elem in ds_nfl.take(1):\n",
        "  print(elem)"
      ]
    },
    {
      "cell_type": "markdown",
      "metadata": {
        "id": "buhmUci6gP70"
      },
      "source": [
        "**Datos de test**\\\n",
        "Tomaremos un 20 % de los datos para test y el resto para entrenamiento"
      ]
    },
    {
      "cell_type": "code",
      "execution_count": null,
      "metadata": {
        "id": "jXxk1sWPgbV_"
      },
      "outputs": [],
      "source": [
        "num_train = len(ds_nfl)\n",
        "\n",
        "RATIO = 0.2\n",
        "test_size = int(RATIO * num_train)\n",
        "\n",
        "ds_train = ds_nfl.skip(test_size)\n",
        "ds_test = ds_nfl.take(test_size)"
      ]
    },
    {
      "cell_type": "markdown",
      "metadata": {
        "id": "G6wwYpEMgdZq"
      },
      "source": [
        "**Datos de validación**\\\n",
        "De los datos de entrenamiento igual que antes tomamos un 20% que servirán para validación"
      ]
    },
    {
      "cell_type": "code",
      "execution_count": null,
      "metadata": {
        "id": "eMRRoItrgfeL"
      },
      "outputs": [],
      "source": [
        "num_train = len(ds_train)\n",
        "\n",
        "RATIO = 0.2\n",
        "validation_size = int(RATIO * num_train)\n",
        "\n",
        "ds_fit = ds_nfl.skip(validation_size)\n",
        "ds_val = ds_nfl.take(validation_size)"
      ]
    },
    {
      "cell_type": "markdown",
      "metadata": {
        "id": "3Ah_0kS-ghpV"
      },
      "source": [
        "Mezclamos los datos de manera aleatoria y los empaquetamos en paquetes de tamaño 1024. Es decir, cada 1024 snapshots, se actualizan los pesos. Debido a que tenemos una gran cantidad de datos, hemos elegido un **batch_size alto** para evitar el sobreentrenamiento."
      ]
    },
    {
      "cell_type": "code",
      "execution_count": null,
      "metadata": {
        "id": "a35x9jNCghUc"
      },
      "outputs": [],
      "source": [
        "AUTOTUNE = tf.data.AUTOTUNE\n",
        "BATCH_SIZE = 1024\n",
        "ds_fit = (\n",
        "    ds_fit\n",
        "    .cache()\n",
        "    .shuffle(len(ds_fit))\n",
        "    .batch(BATCH_SIZE)\n",
        "    .prefetch(AUTOTUNE)\n",
        ")\n",
        "\n",
        "ds_val = (\n",
        "    ds_val\n",
        "    .cache()\n",
        "    .batch(BATCH_SIZE)\n",
        "    .prefetch(tf.data.AUTOTUNE)\n",
        ")"
      ]
    },
    {
      "cell_type": "markdown",
      "metadata": {
        "id": "QK0Gm-1jhHDZ"
      },
      "source": [
        "# Definición de callbacks"
      ]
    },
    {
      "cell_type": "markdown",
      "metadata": {
        "id": "XT-x5ng6hSAr"
      },
      "source": [
        "Utilizaremos los callbacks `ReduceLROnPlateau` y `EarlyStopping`, para disminuir el learning rate y detener el entrenamiento en caso de no mejorar la precisión en los datos de validación."
      ]
    },
    {
      "cell_type": "code",
      "execution_count": null,
      "metadata": {
        "id": "XRoLcn4WhUsM"
      },
      "outputs": [],
      "source": [
        "from tensorflow.keras.callbacks import EarlyStopping, ReduceLROnPlateau\n",
        "\n",
        "# Reduce learning rate\n",
        "reduce_lr = ReduceLROnPlateau(monitor='val_accuracy', factor=0.2, patience=4, min_lr=0.0001)\n",
        "\n",
        "epoch_wait = 5\n",
        "# Crear el EarlyStopping callback con la función on_train_end\n",
        "early_stopping = EarlyStopping(monitor='val_loss', mode='min', verbose=1, patience=epoch_wait)\n",
        "\n",
        "# Definimos los callbacks\n",
        "callbacks = [early_stopping, reduce_lr]"
      ]
    },
    {
      "cell_type": "markdown",
      "metadata": {
        "id": "S4adW8fNhVOB"
      },
      "source": [
        "Como queremos obtener los mismos resultados para cualquier usuario que ejecute el programa, usamos una seed para inicializar los pesos posteriormente."
      ]
    },
    {
      "cell_type": "code",
      "execution_count": null,
      "metadata": {
        "id": "Sdlc0XCZhWg-"
      },
      "outputs": [],
      "source": [
        "# Establecer la semilla global\n",
        "seed_value = 42\n",
        "tf.random.set_seed(seed_value)"
      ]
    },
    {
      "cell_type": "markdown",
      "metadata": {
        "id": "0j0yxNMSxR4i"
      },
      "source": [
        "# Arquitectura de la red"
      ]
    },
    {
      "cell_type": "markdown",
      "metadata": {
        "id": "9-Hisz9biafR"
      },
      "source": [
        "Debido a que tenemos tensores de más de una dimensión que representan una tabla de datos, usaremos la arquitectura de una red convolucional, teniendo en cuenta las dimensiones del input."
      ]
    },
    {
      "cell_type": "code",
      "execution_count": null,
      "metadata": {
        "id": "jZCmeh62y34n"
      },
      "outputs": [],
      "source": [
        "import tensorflow as tf\n",
        "from tensorflow.keras import layers, models\n",
        "from tensorflow.keras.regularizers import l2\n",
        "\n",
        "# Arquitectura de la red convolucional\n",
        "model = models.Sequential()\n",
        "model.add(layers.Input(shape=(23, 13)))\n",
        "\n",
        "# Capa de convolución 1D con padding 'same' para mantener la longitud original de la secuencia\n",
        "model.add(layers.Conv1D(64, kernel_size=3, activation='relu', padding='same', kernel_regularizer=l2(0.01)))\n",
        "model.add(layers.Dropout(0.5))\n",
        "\n",
        "# Capa de aplanado para conectar con una capa densa\n",
        "model.add(layers.Flatten())\n",
        "\n",
        "# Capa densa con Batch Normalization\n",
        "model.add(layers.Dense(128, activation='relu', kernel_regularizer=l2(0.01)))\n",
        "model.add(layers.BatchNormalization())\n",
        "model.add(layers.Dropout(0.5))\n",
        "\n",
        "# Capa de salida\n",
        "model.add(layers.Dense(23, activation='softmax', kernel_regularizer=l2(0.01)))\n",
        "\n",
        "# Compilar el modelo\n",
        "model.compile(optimizer='adam', loss='categorical_crossentropy', metrics=['accuracy'])\n",
        "\n",
        "# Resumen de la arquitectura del modelo\n",
        "model.summary()\n"
      ]
    },
    {
      "cell_type": "markdown",
      "metadata": {
        "id": "Aa4orjoEjP33"
      },
      "source": [
        "## Entrenamiento del modelo"
      ]
    },
    {
      "cell_type": "markdown",
      "metadata": {
        "id": "AmrXRWCqjTdr"
      },
      "source": [
        "Utilizando los callbacks, datos de validación y con 50 épocas, veremos como evoluciona la precisión de la red.\n",
        "\n",
        "Igualmente, representaremos más adelante en una gráfica el comportamiento de la red neuronal respecto a las precisiones obtenidas con los datos de test y validación."
      ]
    },
    {
      "cell_type": "code",
      "execution_count": null,
      "metadata": {
        "id": "lIo54v8ujRl0"
      },
      "outputs": [],
      "source": [
        "history = model.fit(ds_fit, epochs=100, validation_data=ds_val, callbacks=callbacks)"
      ]
    },
    {
      "cell_type": "markdown",
      "metadata": {
        "id": "hT3qYnH5jpQa"
      },
      "source": [
        "## Resultados"
      ]
    },
    {
      "cell_type": "markdown",
      "metadata": {
        "id": "QV8Kxarajuse"
      },
      "source": [
        "Con los datos de test, probaremos que precisión se consigue."
      ]
    },
    {
      "cell_type": "code",
      "execution_count": null,
      "metadata": {
        "id": "YyxH93bXjzCg"
      },
      "outputs": [],
      "source": [
        "BATCH_SIZE = 128\n",
        "ds_eval = (\n",
        "    ds_test.cache()\n",
        "    .batch(BATCH_SIZE)\n",
        "    .prefetch(AUTOTUNE)\n",
        ")\n",
        "test_loss, test_acc = model.evaluate(ds_eval)\n",
        "\n",
        "print('Test accuracy:', test_acc)"
      ]
    },
    {
      "cell_type": "markdown",
      "metadata": {
        "id": "NDRAIjHDj1g-"
      },
      "source": [
        "Hemos obtenido una precisión del 45% para los datos de validación\\\n",
        "Para analizar el entrenamiento podemos graficar la relación entre las precisiones de la red con datos de entrenamiento vs con datos de validación."
      ]
    },
    {
      "cell_type": "code",
      "execution_count": null,
      "metadata": {
        "id": "ASAdaQgCj92B"
      },
      "outputs": [],
      "source": [
        "import matplotlib.pyplot as plt\n",
        "# Extrae la precisión de entrenamiento y validación del historial\n",
        "train_accuracy = history.history['accuracy']\n",
        "val_accuracy = history.history['val_accuracy']\n",
        "\n",
        "# Número de épocas\n",
        "epochs = range(1, len(train_accuracy) + 1)\n",
        "\n",
        "# Grafica la precisión de entrenamiento y validación en función de las épocas\n",
        "plt.plot(epochs, train_accuracy, label='Precisión con datos de entrenamiento')\n",
        "plt.plot(epochs, val_accuracy, label='Precisión con datos de validación')\n",
        "plt.title('Entrenamiento vs Validación')\n",
        "plt.xlabel('Epócas')\n",
        "plt.ylabel('Precisión')\n",
        "plt.legend()\n",
        "plt.show()"
      ]
    },
    {
      "cell_type": "markdown",
      "metadata": {
        "id": "finHr2WWkB0o"
      },
      "source": [
        "Observamos como la red siempre mejora la precisión con los datos de entrenamiento y esto acaba provocando un sobreentrenamiento, donde la precisión de datos de validación empeora ya que la red se sobreajusta a los datos de entrenamiento y pierde generalidad."
      ]
    }
  ],
  "metadata": {
    "colab": {
      "provenance": [],
      "gpuType": "T4",
      "include_colab_link": true
    },
    "kernelspec": {
      "display_name": "Python 3",
      "name": "python3"
    },
    "language_info": {
      "codemirror_mode": {
        "name": "ipython",
        "version": 3
      },
      "file_extension": ".py",
      "mimetype": "text/x-python",
      "name": "python",
      "nbconvert_exporter": "python",
      "pygments_lexer": "ipython3",
      "version": "3.11.4"
    },
    "accelerator": "GPU"
  },
  "nbformat": 4,
  "nbformat_minor": 0
}