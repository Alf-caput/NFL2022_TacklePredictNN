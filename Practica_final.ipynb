{
  "nbformat": 4,
  "nbformat_minor": 0,
  "metadata": {
    "colab": {
      "provenance": [],
      "authorship_tag": "ABX9TyMi08QiXxzv22iUtvLT0a6M",
      "include_colab_link": true
    },
    "kernelspec": {
      "name": "python3",
      "display_name": "Python 3"
    },
    "language_info": {
      "name": "python"
    }
  },
  "cells": [
    {
      "cell_type": "markdown",
      "metadata": {
        "id": "view-in-github",
        "colab_type": "text"
      },
      "source": [
        "<a href=\"https://colab.research.google.com/github/Alf-caput/NFL2022_TacklePredictNN/blob/dev1/Practica_final.ipynb\" target=\"_parent\"><img src=\"https://colab.research.google.com/assets/colab-badge.svg\" alt=\"Open In Colab\"/></a>"
      ]
    },
    {
      "cell_type": "markdown",
      "source": [
        "# NFL Big Data Bowl 2024"
      ],
      "metadata": {
        "id": "yPzgPycjO7Ud"
      }
    },
    {
      "cell_type": "markdown",
      "source": [
        "Kaggle lanza el concurso NFL Big Data Bowl 2024 sponsorizado por National Football League con un premio de $100,000.\n",
        "https://www.kaggle.com/c/nfl-big-data-bowl-2024"
      ],
      "metadata": {
        "id": "FRst4_BiSAyL"
      }
    },
    {
      "cell_type": "markdown",
      "source": [
        "## INTRODUCCIÓN"
      ],
      "metadata": {
        "id": "xgEWUF9yQSFv"
      }
    },
    {
      "cell_type": "markdown",
      "source": [
        "El fútbol americano es un deporte complejo donde la tarea principal de los defensores es derribar al portador del balón, mientras que este último busca avanzar en el campo. El siguiente proyecto tiene como objetivo crear métricas para valorar elementos clave en los placajes.\n",
        "\n",
        "Se utiliza la información de las estadísticas Next Gen de la NFL, incluyendo datos de seguimiento de jugadores de las primeras nueve semanas de la temporada 2022. Estos datos abarcan la ubicación, velocidad y aceleración de los 22 jugadores en el campo, así como la posición del balón. Además, se incorporan datos de evaluación de jugadores de PFF y estadísticas avanzadas de la NFL, como puntos esperados y probabilidad de victoria.\n",
        "\n",
        "La finalidad del proyecto es presentar los resultados a la NFL. Las métricas y análisis destacados podrían ser utilizados por los equipos de la NFL para evaluar a sus jugadores tanto en el ámbito ofensivo como defensivo."
      ],
      "metadata": {
        "id": "_SnnP8jVP5Ku"
      }
    },
    {
      "cell_type": "markdown",
      "source": [
        "## OBJETIVOS DEL CONCURSO"
      ],
      "metadata": {
        "id": "IxlwZ7hJREu9"
      }
    },
    {
      "cell_type": "markdown",
      "source": [
        "Se pide generar ideas prácticas, novedosas y ejecutables a partir de los datos de seguimiento de jugadores relacionados con los placajes. Algunos ejemplos incluyen, pero no se limitan a:\n",
        "\n",
        "- Predicciones del tiempo, probabilidad y/o ubicación del derribo.\n",
        "- Rango de derribo: ángulo de persecución, velocidad y aceleración, velocidad de cierre.\n",
        "- Evaluación del jugador (por ejemplo, yardas salvadas, valor del derribo, derribos fallidos).\n",
        "- Asignación de créditos (por ejemplo, un jugador realiza un derribo debido a otro jugador, bloqueos superados, área de influencia).\n",
        "- Tipo de derribo (individual vs. en grupo, en campo abierto vs. en las trincheras, etc.).\n",
        "- Roles y responsabilidades del equipo y los jugadores (marcar el límite, ocupar huecos, etc.).\n",
        "\n",
        "Es importante destacar que la lista anterior no es exhaustiva y se anima a los participantes a ser creativos con sus propuestas.\n",
        "\n",
        "\n",
        "\n",
        "\n",
        "\n"
      ],
      "metadata": {
        "id": "0tEr5RYaRGoC"
      }
    },
    {
      "cell_type": "code",
      "execution_count": null,
      "metadata": {
        "id": "sWtLlXm4O6hO"
      },
      "outputs": [],
      "source": []
    }
  ]
}